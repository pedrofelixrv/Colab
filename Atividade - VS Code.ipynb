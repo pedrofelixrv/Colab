{
 "cells": [
  {
   "attachments": {},
   "cell_type": "markdown",
   "metadata": {},
   "source": [
    "**PRIMEIRA AULA - 20/03**"
   ]
  },
  {
   "cell_type": "code",
   "execution_count": 1,
   "metadata": {},
   "outputs": [],
   "source": [
    "# Atribuindo valores à variáveis.\n",
    "altura = 1.79\n",
    "peso = 68.7"
   ]
  },
  {
   "cell_type": "code",
   "execution_count": 2,
   "metadata": {},
   "outputs": [
    {
     "data": {
      "text/plain": [
       "68.7"
      ]
     },
     "execution_count": 2,
     "metadata": {},
     "output_type": "execute_result"
    }
   ],
   "source": [
    "# Mostrando o valor de uma variável.\n",
    "peso"
   ]
  },
  {
   "cell_type": "code",
   "execution_count": 3,
   "metadata": {},
   "outputs": [
    {
     "data": {
      "text/plain": [
       "21.44127836209856"
      ]
     },
     "execution_count": 3,
     "metadata": {},
     "output_type": "execute_result"
    }
   ],
   "source": [
    "# Utilizando operação de divisão e potenciação com números.\n",
    "68.7 / 1.79 ** 2"
   ]
  },
  {
   "cell_type": "code",
   "execution_count": 4,
   "metadata": {},
   "outputs": [
    {
     "data": {
      "text/plain": [
       "21.44127836209856"
      ]
     },
     "execution_count": 4,
     "metadata": {},
     "output_type": "execute_result"
    }
   ],
   "source": [
    "# Utilizando operação de divisão e potenciação com as variáveis peso e altura.\n",
    "peso / altura ** 2"
   ]
  },
  {
   "cell_type": "code",
   "execution_count": 5,
   "metadata": {},
   "outputs": [
    {
     "data": {
      "text/plain": [
       "21.44127836209856"
      ]
     },
     "execution_count": 5,
     "metadata": {},
     "output_type": "execute_result"
    }
   ],
   "source": [
    "# Atribuindo o valor da operação de divisão e potenciação à uma variável.\n",
    "bmi = peso / altura ** 2\n",
    "bmi"
   ]
  },
  {
   "cell_type": "code",
   "execution_count": 6,
   "metadata": {},
   "outputs": [
    {
     "name": "stdout",
     "output_type": "stream",
     "text": [
      "21.44127836209856\n"
     ]
    }
   ],
   "source": [
    "# Utilizando o comando \"print\" para mostrar o valor da variável \"bmi\".\n",
    "print (bmi)"
   ]
  },
  {
   "cell_type": "code",
   "execution_count": 7,
   "metadata": {},
   "outputs": [
    {
     "data": {
      "text/plain": [
       "float"
      ]
     },
     "execution_count": 7,
     "metadata": {},
     "output_type": "execute_result"
    }
   ],
   "source": [
    "# Utilizando o comando \"type\" para revelar o tipo da variável. São os tipos: Float ou flutuante, são variáveis que apresentam números decimais.\n",
    "type (bmi)"
   ]
  },
  {
   "cell_type": "code",
   "execution_count": 8,
   "metadata": {},
   "outputs": [
    {
     "data": {
      "text/plain": [
       "int"
      ]
     },
     "execution_count": 8,
     "metadata": {},
     "output_type": "execute_result"
    }
   ],
   "source": [
    "# Int são o tipo de variáveis que possuem numéros inteiros.\n",
    "day_of_week = 5\n",
    "type (day_of_week)"
   ]
  },
  {
   "cell_type": "code",
   "execution_count": 9,
   "metadata": {},
   "outputs": [
    {
     "data": {
      "text/plain": [
       "str"
      ]
     },
     "execution_count": 9,
     "metadata": {},
     "output_type": "execute_result"
    }
   ],
   "source": [
    "# Str ou string, são variáveis que possuem texto.\n",
    "x = 'body mass index'\n",
    "y = \"this works too\"\n",
    "type (y)"
   ]
  },
  {
   "cell_type": "code",
   "execution_count": 10,
   "metadata": {},
   "outputs": [
    {
     "data": {
      "text/plain": [
       "bool"
      ]
     },
     "execution_count": 10,
     "metadata": {},
     "output_type": "execute_result"
    }
   ],
   "source": [
    "# O tipo de variável bool são variaveis que possuem o dois valores, verdadeiro ou falso, nunca uma terceira situação.\n",
    "z = True\n",
    "type (z)"
   ]
  },
  {
   "cell_type": "code",
   "execution_count": 11,
   "metadata": {},
   "outputs": [
    {
     "data": {
      "text/plain": [
       "5"
      ]
     },
     "execution_count": 11,
     "metadata": {},
     "output_type": "execute_result"
    }
   ],
   "source": [
    "# Soma de números inteiro por meio do sinal \"+\".\n",
    "2 + 3"
   ]
  },
  {
   "cell_type": "code",
   "execution_count": 12,
   "metadata": {},
   "outputs": [
    {
     "data": {
      "text/plain": [
       "'abcd'"
      ]
     },
     "execution_count": 12,
     "metadata": {},
     "output_type": "execute_result"
    }
   ],
   "source": [
    "# Também é possivel contatenar variáveis do tipo strin. Nesse caso, a variável A recebe 'ab' e a variável B recebe 'cd' que são contatenadas.\n",
    "A = 'ab'\n",
    "B = 'cd'\n",
    "A + B"
   ]
  },
  {
   "cell_type": "code",
   "execution_count": 13,
   "metadata": {},
   "outputs": [
    {
     "name": "stdout",
     "output_type": "stream",
     "text": [
      "0.625\n"
     ]
    }
   ],
   "source": [
    "# exemplo\n",
    "print(5/8)"
   ]
  },
  {
   "cell_type": "code",
   "execution_count": 14,
   "metadata": {},
   "outputs": [
    {
     "data": {
      "text/plain": [
       "15"
      ]
     },
     "execution_count": 14,
     "metadata": {},
     "output_type": "execute_result"
    }
   ],
   "source": [
    "# soma de 7 com 8\n",
    "7 + 8"
   ]
  },
  {
   "cell_type": "code",
   "execution_count": 15,
   "metadata": {},
   "outputs": [
    {
     "name": "stdout",
     "output_type": "stream",
     "text": [
      "11\n",
      "-1\n"
     ]
    }
   ],
   "source": [
    "# Operação de soma e subtração atribuidas a uma variável.\n",
    "soma = 5 + 6\n",
    "print (soma)\n",
    "subtração = 5 - 6\n",
    "print (subtração)"
   ]
  },
  {
   "cell_type": "code",
   "execution_count": 16,
   "metadata": {},
   "outputs": [
    {
     "name": "stdout",
     "output_type": "stream",
     "text": [
      "125\n",
      "15\n",
      "2\n"
     ]
    }
   ],
   "source": [
    "# Operação de potenciação, multiplicação e resto de divisão atribuidas a uma variável.\n",
    "pontência = 5 ** 3\n",
    "multiplicação = 5 * 3\n",
    "resto_da_divisão = 5 % 3\n",
    "print (pontência)\n",
    "print (multiplicação)\n",
    "print (resto_da_divisão)"
   ]
  },
  {
   "cell_type": "code",
   "execution_count": 17,
   "metadata": {},
   "outputs": [
    {
     "name": "stdout",
     "output_type": "stream",
     "text": [
      "194.87171000000012\n"
     ]
    }
   ],
   "source": [
    "# Operação sendo atribuida a uma variável.\n",
    "rendimento = 100 * 1.1 ** 7\n",
    "print (rendimento)"
   ]
  },
  {
   "attachments": {},
   "cell_type": "markdown",
   "metadata": {},
   "source": [
    "**SEGUNDA AULA - 22/03**"
   ]
  },
  {
   "cell_type": "code",
   "execution_count": 18,
   "metadata": {},
   "outputs": [
    {
     "name": "stdout",
     "output_type": "stream",
     "text": [
      "<class 'float'>\n",
      "compound interestcompound interest\n"
     ]
    }
   ],
   "source": [
    "# Operação realizada com variáveis e contatenação de uma variável com ela mesmo.\n",
    "savings = 100\n",
    "growth_multiplier = 1.1\n",
    "desc = 'compound interest'\n",
    "year1 = savings * growth_multiplier\n",
    "print (type(year1))\n",
    "doubledesc = desc + desc\n",
    "print (doubledesc)"
   ]
  },
  {
   "cell_type": "code",
   "execution_count": 19,
   "metadata": {},
   "outputs": [
    {
     "name": "stdout",
     "output_type": "stream",
     "text": [
      "<class 'str'>\n",
      "<class 'float'>\n"
     ]
    }
   ],
   "source": [
    "# Operação de conversão de uma variável do tipo string para uma variável do tipo float.\n",
    "pi_string = '3.1415926'\n",
    "pi_float = float (pi_string)\n",
    "print (type(pi_string))\n",
    "print (type(pi_float))"
   ]
  },
  {
   "cell_type": "code",
   "execution_count": 20,
   "metadata": {},
   "outputs": [
    {
     "name": "stdout",
     "output_type": "stream",
     "text": [
      "I started with $100and now have $194.87171000000012. Awesome!\n",
      "I started with $ 100 and now have $ 194.87171000000012 . Awesome!\n"
     ]
    }
   ],
   "source": [
    "savings = 100\n",
    "result = 100 * 1.10 ** 7\n",
    "# print (\"I started with\" + savings + \"and now have\" + result + \". Awesome!\")\n",
    "\n",
    "# Não é possível contatenar str com número. Para corrigir o problema, convertemos os números para texto, ou colamos virgulas entre os momentos, separando 'str' de 'int' e 'float'\n",
    "print (\"I started with $\" + str(savings) + \"and now have $\" + str(result) + \". Awesome!\")\n",
    "# ou\n",
    "print (\"I started with $\", savings, \"and now have $\", result, \". Awesome!\")"
   ]
  },
  {
   "attachments": {},
   "cell_type": "markdown",
   "metadata": {},
   "source": [
    "**TERCEIRA AULA - 28/03**"
   ]
  },
  {
   "cell_type": "code",
   "execution_count": 21,
   "metadata": {},
   "outputs": [
    {
     "data": {
      "text/plain": [
       "[1.73, 1.68, 1.71, 1.89]"
      ]
     },
     "execution_count": 21,
     "metadata": {},
     "output_type": "execute_result"
    }
   ],
   "source": [
    "  # Atribuindo uma lista, que ficam entre colchetes, a uma variável. O que está entre [] e separados por virgula são os elementos dessa lista.\n",
    "  fam = [1.73, 1.68, 1.71, 1.89]\n",
    "  fam"
   ]
  },
  {
   "cell_type": "code",
   "execution_count": 22,
   "metadata": {},
   "outputs": [
    {
     "data": {
      "text/plain": [
       "['Pedro', 1.7, 'Cristiane', 1.65, 'Dulce', 1.3, 'Gabriela', 1.65]"
      ]
     },
     "execution_count": 22,
     "metadata": {},
     "output_type": "execute_result"
    }
   ],
   "source": [
    "# Dentro de uma lista é possível coexistir string, int, float e etc.\n",
    "fam = ['Pedro', 1.70, 'Cristiane', 1.65, 'Dulce', 1.30, 'Gabriela', 1.65]\n",
    "fam"
   ]
  },
  {
   "cell_type": "code",
   "execution_count": 23,
   "metadata": {},
   "outputs": [
    {
     "data": {
      "text/plain": [
       "[['Pedro', 1.7], ['Cristiane', 1.65], ['Dulce', 1.3], ['Gabriela', 1.55]]"
      ]
     },
     "execution_count": 23,
     "metadata": {},
     "output_type": "execute_result"
    }
   ],
   "source": [
    "# Dentro de uma lista é possível que haja outras listas. Nesse exemplo, a lista \"fam2\" possui outras listas em seu valor, essas sub-listas são separadas por [].\n",
    "fam2 = [['Pedro', 1.70],\n",
    "        ['Cristiane', 1.65],\n",
    "        ['Dulce', 1.30],\n",
    "        ['Gabriela', 1.55]]\n",
    "fam2"
   ]
  },
  {
   "cell_type": "code",
   "execution_count": 24,
   "metadata": {},
   "outputs": [
    {
     "data": {
      "text/plain": [
       "list"
      ]
     },
     "execution_count": 24,
     "metadata": {},
     "output_type": "execute_result"
    }
   ],
   "source": [
    "# O tipo da varíavel \"fam\" é \"list\"\n",
    "type(fam)"
   ]
  },
  {
   "cell_type": "code",
   "execution_count": 25,
   "metadata": {},
   "outputs": [
    {
     "data": {
      "text/plain": [
       "list"
      ]
     },
     "execution_count": 25,
     "metadata": {},
     "output_type": "execute_result"
    }
   ],
   "source": [
    "type(fam2)"
   ]
  },
  {
   "cell_type": "code",
   "execution_count": 26,
   "metadata": {},
   "outputs": [
    {
     "name": "stdout",
     "output_type": "stream",
     "text": [
      "[14.0, 18.0, 20.0, 10.75, 9.5]\n",
      "('hallway', 14.0, 'kitchen', 18.0, 'living room', 20.0, 'bedroom', 10.75, 'bathroom', 9.5)\n"
     ]
    }
   ],
   "source": [
    "# Atribuindo valores a variáveis para criar uma lista a partir delas.\n",
    "# Áreas dos compartimentos\n",
    "hall = 14.0\n",
    "kit = 18.0\n",
    "liv = 20.0\n",
    "bed = 10.75\n",
    "bath = 9.50\n",
    "# Criando uma lista com as áreas dos compartimentos\n",
    "áreas = [hall, kit, liv, bed, bath]\n",
    "# \"Printando\" a lista das áreas\n",
    "print(áreas)\n",
    "# Adaptando a lista\n",
    "áreas = 'hallway', hall, 'kitchen', kit, 'living room', liv, 'bedroom', bed, 'bathroom', bath\n",
    "print(áreas)"
   ]
  },
  {
   "cell_type": "code",
   "execution_count": 27,
   "metadata": {},
   "outputs": [],
   "source": [
    "A = [1, 2, 3, 4]\n",
    "# \"A\" é uma lista qye possui quatro elementos inteiros\n",
    "B =[[1, 2, 3], [4, 5, 6]]\n",
    "# \"B\" é uma lista na qual possui outras duas lista dentro, sendo cada lista possuindo três elementos inteiros\n",
    "C = [1 + 2, 'A' * 5, 3]\n",
    "# \"C\" é uma lista na qual possui três elementos, sendo o primeiro elemento uma soma de inteiros, o segundo elemento a multiplicação de uma string, e o terceiro elemento um inteiro."
   ]
  },
  {
   "cell_type": "code",
   "execution_count": 28,
   "metadata": {},
   "outputs": [
    {
     "name": "stdout",
     "output_type": "stream",
     "text": [
      "[['hallway,', 14.0], ['kitchen', 18.0], ['living room', 20.0], ['bedroom', 10.75], ['bathroom', 9.5]]\n",
      "<class 'list'>\n"
     ]
    }
   ],
   "source": [
    "# Lista de listas das áreas dos compartimentos\n",
    "house = [['hallway,', hall],\n",
    "         ['kitchen', kit],\n",
    "         ['living room', liv],\n",
    "         ['bedroom', bed],\n",
    "         ['bathroom', bath]]\n",
    "#  \"Printando\" a lista das lista\n",
    "print(house)\n",
    "# \"Printando\" o tipo da variável \"house\"\n",
    "print(type(house))"
   ]
  },
  {
   "cell_type": "code",
   "execution_count": 29,
   "metadata": {},
   "outputs": [
    {
     "data": {
      "text/plain": [
       "'Cristiane'"
      ]
     },
     "execution_count": 29,
     "metadata": {},
     "output_type": "execute_result"
    }
   ],
   "source": [
    "# Buscando o segundo elemento da lista \"fam\"\n",
    "fam[2]"
   ]
  },
  {
   "cell_type": "code",
   "execution_count": 30,
   "metadata": {},
   "outputs": [
    {
     "data": {
      "text/plain": [
       "'Gabriela'"
      ]
     },
     "execution_count": 30,
     "metadata": {},
     "output_type": "execute_result"
    }
   ],
   "source": [
    "# Buscando o sexto elemento da lista \"fam\"\n",
    "fam[6]"
   ]
  },
  {
   "cell_type": "code",
   "execution_count": 31,
   "metadata": {},
   "outputs": [
    {
     "data": {
      "text/plain": [
       "['living room', 20.0]"
      ]
     },
     "execution_count": 31,
     "metadata": {},
     "output_type": "execute_result"
    }
   ],
   "source": [
    "# Buscando o segundo elemento da lista \"house\"\n",
    "house[2]"
   ]
  },
  {
   "cell_type": "code",
   "execution_count": 32,
   "metadata": {},
   "outputs": [
    {
     "data": {
      "text/plain": [
       "['bedroom', 10.75]"
      ]
     },
     "execution_count": 32,
     "metadata": {},
     "output_type": "execute_result"
    }
   ],
   "source": [
    "# Buscando o terceiro elemento da lista \"house\"\n",
    "house[3]"
   ]
  },
  {
   "cell_type": "code",
   "execution_count": 33,
   "metadata": {},
   "outputs": [
    {
     "data": {
      "text/plain": [
       "['bedroom', 10.75]"
      ]
     },
     "execution_count": 33,
     "metadata": {},
     "output_type": "execute_result"
    }
   ],
   "source": [
    "# Buscando o elemento da lista \"house\" de trás para frente por meio dos números negativos\n",
    "house[-2]"
   ]
  },
  {
   "cell_type": "code",
   "execution_count": 34,
   "metadata": {},
   "outputs": [
    {
     "data": {
      "text/plain": [
       "['Gabriela', 1.65]"
      ]
     },
     "execution_count": 34,
     "metadata": {},
     "output_type": "execute_result"
    }
   ],
   "source": [
    "# Pegando a parte da lista \"fam\" apartir do sexto elemento até o oitavo, observando que a contagem dos elementos começa a partir do número 0. \n",
    "fam[6:8]"
   ]
  },
  {
   "cell_type": "code",
   "execution_count": 35,
   "metadata": {},
   "outputs": [
    {
     "data": {
      "text/plain": [
       "['Cristiane', 1.65]"
      ]
     },
     "execution_count": 35,
     "metadata": {},
     "output_type": "execute_result"
    }
   ],
   "source": [
    "fam[2:4]"
   ]
  },
  {
   "cell_type": "code",
   "execution_count": 36,
   "metadata": {},
   "outputs": [
    {
     "data": {
      "text/plain": [
       "['Dulce', 1.3]"
      ]
     },
     "execution_count": 36,
     "metadata": {},
     "output_type": "execute_result"
    }
   ],
   "source": [
    "fam[4:6]"
   ]
  },
  {
   "cell_type": "code",
   "execution_count": 37,
   "metadata": {},
   "outputs": [
    {
     "data": {
      "text/plain": [
       "['Dulce', 1.3, 'Gabriela', 1.65]"
      ]
     },
     "execution_count": 37,
     "metadata": {},
     "output_type": "execute_result"
    }
   ],
   "source": [
    "# Pegando do quarto elemento até o final da lista \"fam\"\n",
    "fam[4:]"
   ]
  },
  {
   "cell_type": "code",
   "execution_count": 38,
   "metadata": {},
   "outputs": [
    {
     "name": "stdout",
     "output_type": "stream",
     "text": [
      "kitchen\n"
     ]
    }
   ],
   "source": [
    "# \"Printando\" o segundo elemento da lista de áreas\n",
    "print(áreas[2])"
   ]
  },
  {
   "cell_type": "code",
   "execution_count": 39,
   "metadata": {},
   "outputs": [
    {
     "name": "stdout",
     "output_type": "stream",
     "text": [
      "9.5\n"
     ]
    }
   ],
   "source": [
    "# \"Printando\" o ultimo elemento usando o index negativo\n",
    "print(áreas[-1])"
   ]
  },
  {
   "cell_type": "code",
   "execution_count": 40,
   "metadata": {},
   "outputs": [
    {
     "name": "stdout",
     "output_type": "stream",
     "text": [
      "living room\n"
     ]
    }
   ],
   "source": [
    "# \"Printando\" o valor de \"living room\"\n",
    "print(áreas[4])"
   ]
  }
 ],
 "metadata": {
  "kernelspec": {
   "display_name": "Python 3",
   "language": "python",
   "name": "python3"
  },
  "language_info": {
   "codemirror_mode": {
    "name": "ipython",
    "version": 3
   },
   "file_extension": ".py",
   "mimetype": "text/x-python",
   "name": "python",
   "nbconvert_exporter": "python",
   "pygments_lexer": "ipython3",
   "version": "3.9.13"
  },
  "orig_nbformat": 4
 },
 "nbformat": 4,
 "nbformat_minor": 2
}
