{
  "nbformat": 4,
  "nbformat_minor": 0,
  "metadata": {
    "colab": {
      "provenance": [],
      "authorship_tag": "ABX9TyP7uYADpi8oBEHAoGfabhtw",
      "include_colab_link": true
    },
    "kernelspec": {
      "name": "python3",
      "display_name": "Python 3"
    },
    "language_info": {
      "name": "python"
    }
  },
  "cells": [
    {
      "cell_type": "markdown",
      "metadata": {
        "id": "view-in-github",
        "colab_type": "text"
      },
      "source": [
        "<a href=\"https://colab.research.google.com/github/pedrofelixrv/Colab/blob/main/AULAS_22_03_%C3%A0_10_04.ipynb\" target=\"_parent\"><img src=\"https://colab.research.google.com/assets/colab-badge.svg\" alt=\"Open In Colab\"/></a>"
      ]
    },
    {
      "cell_type": "markdown",
      "source": [
        "**PRIMEIRA AULA - 20/03**"
      ],
      "metadata": {
        "id": "st65YJjbKEip"
      }
    },
    {
      "cell_type": "code",
      "execution_count": 443,
      "metadata": {
        "id": "jELFuiK6rLEo"
      },
      "outputs": [],
      "source": [
        "# Atribuindo valores à variáveis.\n",
        "height = 1.79\n",
        "weight = 68.7"
      ]
    },
    {
      "cell_type": "code",
      "source": [
        "# Mostrando o valor de uma variável.\n",
        "weight"
      ],
      "metadata": {
        "colab": {
          "base_uri": "https://localhost:8080/"
        },
        "id": "Ad8zwfWLjhif",
        "outputId": "3eecaa5c-4545-4c63-b0e0-9039cbe76a36"
      },
      "execution_count": 444,
      "outputs": [
        {
          "output_type": "execute_result",
          "data": {
            "text/plain": [
              "68.7"
            ]
          },
          "metadata": {},
          "execution_count": 444
        }
      ]
    },
    {
      "cell_type": "code",
      "source": [
        "# Utilizando operação de divisão e potenciação com números.\n",
        "68.7 / 1.79 ** 2"
      ],
      "metadata": {
        "colab": {
          "base_uri": "https://localhost:8080/"
        },
        "id": "-_yn84ADlG09",
        "outputId": "6a244a78-61fe-4bce-c623-fed90be1c10b"
      },
      "execution_count": 445,
      "outputs": [
        {
          "output_type": "execute_result",
          "data": {
            "text/plain": [
              "21.44127836209856"
            ]
          },
          "metadata": {},
          "execution_count": 445
        }
      ]
    },
    {
      "cell_type": "code",
      "source": [
        "# Utilizando operação de divisão e potenciação com as variáveis peso e altura.\n",
        "weight / height ** 2"
      ],
      "metadata": {
        "colab": {
          "base_uri": "https://localhost:8080/"
        },
        "id": "djjWdW0ClMoI",
        "outputId": "c6f7ae67-cb1e-4630-e5bb-1d42ee8a7acc"
      },
      "execution_count": 446,
      "outputs": [
        {
          "output_type": "execute_result",
          "data": {
            "text/plain": [
              "21.44127836209856"
            ]
          },
          "metadata": {},
          "execution_count": 446
        }
      ]
    },
    {
      "cell_type": "code",
      "source": [
        "# Atribuindo o valor da operação de divisão e potenciação à uma variável.\n",
        "bmi = weight / height ** 2\n",
        "bmi"
      ],
      "metadata": {
        "colab": {
          "base_uri": "https://localhost:8080/"
        },
        "id": "7QhQzfI2lYdi",
        "outputId": "6d347997-efdc-447d-daec-de771be0daa0"
      },
      "execution_count": 447,
      "outputs": [
        {
          "output_type": "execute_result",
          "data": {
            "text/plain": [
              "21.44127836209856"
            ]
          },
          "metadata": {},
          "execution_count": 447
        }
      ]
    },
    {
      "cell_type": "code",
      "source": [
        "# Utilizando o comando \"print\" para mostrar o valor da variável \"bmi\".\n",
        "print (bmi)"
      ],
      "metadata": {
        "colab": {
          "base_uri": "https://localhost:8080/"
        },
        "id": "F5xtNq4hln5t",
        "outputId": "e8f133f6-ef8b-462d-d398-c36911e0f4b2"
      },
      "execution_count": 448,
      "outputs": [
        {
          "output_type": "stream",
          "name": "stdout",
          "text": [
            "21.44127836209856\n"
          ]
        }
      ]
    },
    {
      "cell_type": "code",
      "source": [
        "# Utilizando o comando \"type\" para revelar o tipo da variável. São os tipos: Float ou flutuante, são variáveis que apresentam números decimais.\n",
        "type (bmi)"
      ],
      "metadata": {
        "colab": {
          "base_uri": "https://localhost:8080/"
        },
        "id": "F8JgyZitlylH",
        "outputId": "bc705d01-0b39-4f6e-db6d-01497793a9c7"
      },
      "execution_count": 449,
      "outputs": [
        {
          "output_type": "execute_result",
          "data": {
            "text/plain": [
              "float"
            ]
          },
          "metadata": {},
          "execution_count": 449
        }
      ]
    },
    {
      "cell_type": "code",
      "source": [
        "# Int são o tipo de variáveis que possuem numéros inteiros.\n",
        "day_of_week = 5\n",
        "type (day_of_week)"
      ],
      "metadata": {
        "colab": {
          "base_uri": "https://localhost:8080/"
        },
        "id": "O80ER9l2l6av",
        "outputId": "8939f76b-c3b6-4dbe-9e17-6e217daad700"
      },
      "execution_count": 450,
      "outputs": [
        {
          "output_type": "execute_result",
          "data": {
            "text/plain": [
              "int"
            ]
          },
          "metadata": {},
          "execution_count": 450
        }
      ]
    },
    {
      "cell_type": "code",
      "source": [
        "# Str ou string, são variáveis que possuem texto.\n",
        "x = 'body mass index'\n",
        "y = \"this works too\"\n",
        "type (y)"
      ],
      "metadata": {
        "colab": {
          "base_uri": "https://localhost:8080/"
        },
        "id": "q5Ym8OY5mHJb",
        "outputId": "b450349a-f1ed-4179-d929-4a0f62672f4a"
      },
      "execution_count": 451,
      "outputs": [
        {
          "output_type": "execute_result",
          "data": {
            "text/plain": [
              "str"
            ]
          },
          "metadata": {},
          "execution_count": 451
        }
      ]
    },
    {
      "cell_type": "code",
      "source": [
        "# O tipo de variável bool são variaveis que possuem o dois valores, verdadeiro ou falso, nunca uma terceira situação.\n",
        "z = True\n",
        "type (z)"
      ],
      "metadata": {
        "colab": {
          "base_uri": "https://localhost:8080/"
        },
        "id": "rXP67oFrmZoV",
        "outputId": "a31e643b-9597-4028-c0f7-e2ddb944800e"
      },
      "execution_count": 452,
      "outputs": [
        {
          "output_type": "execute_result",
          "data": {
            "text/plain": [
              "bool"
            ]
          },
          "metadata": {},
          "execution_count": 452
        }
      ]
    },
    {
      "cell_type": "code",
      "source": [
        "# Soma de números inteiro por meio do sinal \"+\".\n",
        "2 + 3"
      ],
      "metadata": {
        "colab": {
          "base_uri": "https://localhost:8080/"
        },
        "id": "AelhaL_8mf53",
        "outputId": "02de2ecd-029e-4c9c-9faf-d7d673623f9b"
      },
      "execution_count": 453,
      "outputs": [
        {
          "output_type": "execute_result",
          "data": {
            "text/plain": [
              "5"
            ]
          },
          "metadata": {},
          "execution_count": 453
        }
      ]
    },
    {
      "cell_type": "code",
      "source": [
        "# Contatenação se trata do ato de unir strings. A seguir, um exemplo de contatenação da string 'ab' mais a string 'cd'.\n",
        "'ab' + 'cd'"
      ],
      "metadata": {
        "colab": {
          "base_uri": "https://localhost:8080/",
          "height": 35
        },
        "id": "wKrErt6lmkOb",
        "outputId": "e192304d-a59a-4415-e645-0d29fb600e45"
      },
      "execution_count": 454,
      "outputs": [
        {
          "output_type": "execute_result",
          "data": {
            "text/plain": [
              "'abcd'"
            ],
            "application/vnd.google.colaboratory.intrinsic+json": {
              "type": "string"
            }
          },
          "metadata": {},
          "execution_count": 454
        }
      ]
    },
    {
      "cell_type": "code",
      "source": [
        "# Também é possivel contatenar variáveis do tipo strin. Nesse caso, a variável A recebe 'ab' e a variável B recebe 'cd' que são contatenadas.\n",
        "A = 'ab'\n",
        "B = 'cd'\n",
        "A + B"
      ],
      "metadata": {
        "colab": {
          "base_uri": "https://localhost:8080/",
          "height": 35
        },
        "id": "sNVYwrPLmrb3",
        "outputId": "40c42f3f-1725-4f91-c5e4-fa8f843551e2"
      },
      "execution_count": 455,
      "outputs": [
        {
          "output_type": "execute_result",
          "data": {
            "text/plain": [
              "'abcd'"
            ],
            "application/vnd.google.colaboratory.intrinsic+json": {
              "type": "string"
            }
          },
          "metadata": {},
          "execution_count": 455
        }
      ]
    },
    {
      "cell_type": "code",
      "source": [
        "# exemplo\n",
        "print(5/8)"
      ],
      "metadata": {
        "colab": {
          "base_uri": "https://localhost:8080/"
        },
        "id": "vF3q-l1bm4hk",
        "outputId": "6829a69c-d49d-4282-8703-56575843b521"
      },
      "execution_count": 456,
      "outputs": [
        {
          "output_type": "stream",
          "name": "stdout",
          "text": [
            "0.625\n"
          ]
        }
      ]
    },
    {
      "cell_type": "code",
      "source": [
        "# soma de 7 com 8\n",
        "7 + 8"
      ],
      "metadata": {
        "colab": {
          "base_uri": "https://localhost:8080/"
        },
        "id": "ltkks0DKnCB7",
        "outputId": "6afbd0c2-bf7b-41cf-ad0b-7020288a6879"
      },
      "execution_count": 457,
      "outputs": [
        {
          "output_type": "execute_result",
          "data": {
            "text/plain": [
              "15"
            ]
          },
          "metadata": {},
          "execution_count": 457
        }
      ]
    },
    {
      "cell_type": "code",
      "source": [
        "# Operação de soma e subtração atribuidas a uma variável.\n",
        "soma = 5 + 6\n",
        "print (soma)\n",
        "subtração = 5 - 6\n",
        "print (subtração)"
      ],
      "metadata": {
        "colab": {
          "base_uri": "https://localhost:8080/"
        },
        "id": "BEmWIdZPnbt5",
        "outputId": "b3b44b74-2ca7-46c6-f9c8-a650a860e0b5"
      },
      "execution_count": 458,
      "outputs": [
        {
          "output_type": "stream",
          "name": "stdout",
          "text": [
            "11\n",
            "-1\n"
          ]
        }
      ]
    },
    {
      "cell_type": "code",
      "source": [
        "# Operação de potenciação, multiplicação e resto de divisão atribuidas a uma variável.\n",
        "pontência = 5 ** 3\n",
        "multiplicação = 5 * 3\n",
        "resto_da_divisão = 5 % 3\n",
        "print (pontência)\n",
        "print (multiplicação)\n",
        "print (resto_da_divisão)"
      ],
      "metadata": {
        "colab": {
          "base_uri": "https://localhost:8080/"
        },
        "id": "4KiIZIZGoDy6",
        "outputId": "ff4b47e7-fe90-4708-9b6e-775513c1fa0f"
      },
      "execution_count": 459,
      "outputs": [
        {
          "output_type": "stream",
          "name": "stdout",
          "text": [
            "125\n",
            "15\n",
            "2\n"
          ]
        }
      ]
    },
    {
      "cell_type": "code",
      "source": [
        "# Operação sendo atribuida a uma variável.\n",
        "rendimento = 100 * 1.1 ** 7\n",
        "print (rendimento)"
      ],
      "metadata": {
        "colab": {
          "base_uri": "https://localhost:8080/"
        },
        "id": "oyVXdKazoKKM",
        "outputId": "189fd249-2093-4d8b-d4cc-1c18b93d9a84"
      },
      "execution_count": 460,
      "outputs": [
        {
          "output_type": "stream",
          "name": "stdout",
          "text": [
            "194.87171000000012\n"
          ]
        }
      ]
    },
    {
      "cell_type": "markdown",
      "source": [
        "**SEGUNDA AULA - 22/03**"
      ],
      "metadata": {
        "id": "a70uDyu1PuH6"
      }
    },
    {
      "cell_type": "code",
      "source": [
        "# Operação realizada com variáveis e contatenação de uma variável com ela mesmo.\n",
        "savings = 100\n",
        "growth_multiplier = 1.1\n",
        "desc = 'compound interest'\n",
        "year1 = savings * growth_multiplier\n",
        "print (type(year1))\n",
        "doubledesc = desc + desc\n",
        "print (doubledesc)"
      ],
      "metadata": {
        "colab": {
          "base_uri": "https://localhost:8080/"
        },
        "id": "-jLUZuykoUns",
        "outputId": "e98ea60a-f184-42d1-ee12-8c54777b2d31"
      },
      "execution_count": 461,
      "outputs": [
        {
          "output_type": "stream",
          "name": "stdout",
          "text": [
            "<class 'float'>\n",
            "compound interestcompound interest\n"
          ]
        }
      ]
    },
    {
      "cell_type": "code",
      "source": [
        "# Operação de conversão de uma variável do tipo string para uma variável do tipo float.\n",
        "pi_string = '3.1415926'\n",
        "pi_float = float (pi_string)\n",
        "print (type(pi_string))\n",
        "print (type(pi_float))"
      ],
      "metadata": {
        "colab": {
          "base_uri": "https://localhost:8080/"
        },
        "id": "LhPzD0Epobjy",
        "outputId": "6486bca6-ceaa-4547-d0a8-20e82b0a3b37"
      },
      "execution_count": 462,
      "outputs": [
        {
          "output_type": "stream",
          "name": "stdout",
          "text": [
            "<class 'str'>\n",
            "<class 'float'>\n"
          ]
        }
      ]
    },
    {
      "cell_type": "code",
      "source": [
        "savings = 100\n",
        "result = 100 * 1.10 ** 2\n",
        "# print (\"I started with\" + savings + \"and now have\" + result + \". Awesome!\")\n",
        "\n",
        "# Não é possível contatenar str com número. Para corrigir o problema, convertemos os números para texto, ou colamos virgulas entre os momentos, separando 'str' de 'int' e 'float'\n",
        "print (\"I started with $\" + str(savings) + \"and now have $\" + str(result) + \". Awesome!\")\n",
        "# ou\n",
        "print (\"I started with $\", savings, \"and now have $\", result, \". Awesome!\")"
      ],
      "metadata": {
        "colab": {
          "base_uri": "https://localhost:8080/"
        },
        "id": "8dJARWs2opfA",
        "outputId": "5f5fcec7-ca85-47ea-86ab-ec0c1ab15fe0"
      },
      "execution_count": 463,
      "outputs": [
        {
          "output_type": "stream",
          "name": "stdout",
          "text": [
            "I started with $100and now have $121.00000000000001. Awesome!\n",
            "I started with $ 100 and now have $ 121.00000000000001 . Awesome!\n"
          ]
        }
      ]
    },
    {
      "cell_type": "markdown",
      "source": [
        "**TERCEIRA AULA - 28/03**"
      ],
      "metadata": {
        "id": "Ihfm9NhDUDZd"
      }
    },
    {
      "cell_type": "code",
      "source": [
        "  # Atribuindo uma lista, que ficam entre colchetes, a uma variável. O que está entre [] e separados por virgula são os elementos dessa lista.\n",
        "  fam = [1.73, 1.68, 1.71, 1.89]\n",
        "  fam"
      ],
      "metadata": {
        "colab": {
          "base_uri": "https://localhost:8080/"
        },
        "id": "IFHixAAv9K7k",
        "outputId": "94a410eb-5645-44aa-a489-264a6618655b"
      },
      "execution_count": 464,
      "outputs": [
        {
          "output_type": "execute_result",
          "data": {
            "text/plain": [
              "[1.73, 1.68, 1.71, 1.89]"
            ]
          },
          "metadata": {},
          "execution_count": 464
        }
      ]
    },
    {
      "cell_type": "code",
      "source": [
        "# Dentro de uma lista é possível coexistir string, int, float e etc.\n",
        "fam = ['Pedro', 1.70, 'Cristiane', 1.65, 'Dulce', 1.30, 'Gabriela', 1.55]\n",
        "fam"
      ],
      "metadata": {
        "colab": {
          "base_uri": "https://localhost:8080/"
        },
        "id": "ts87FmtD-QBD",
        "outputId": "0a582400-0068-444c-8437-7b21e887d9cd"
      },
      "execution_count": 465,
      "outputs": [
        {
          "output_type": "execute_result",
          "data": {
            "text/plain": [
              "['Pedro', 1.7, 'Cristiane', 1.65, 'Dulce', 1.3, 'Gabriela', 1.55]"
            ]
          },
          "metadata": {},
          "execution_count": 465
        }
      ]
    },
    {
      "cell_type": "code",
      "source": [
        "# Dentro de uma lista é possível que haja outras listas. Nesse exemplo, a lista \"fam2\" possui outras listas em seu valor, essas sub-listas são separadas por [].\n",
        "fam2 = [['Pedro', 1.70],\n",
        "        ['Cristiane', 1.65],\n",
        "        ['Dulce', 1.30],\n",
        "        ['Gabriela', 1.55]]\n",
        "fam2"
      ],
      "metadata": {
        "colab": {
          "base_uri": "https://localhost:8080/"
        },
        "id": "fcRIx4H8_L4c",
        "outputId": "d3746b5e-e062-419c-f84d-7048aabea9da"
      },
      "execution_count": 466,
      "outputs": [
        {
          "output_type": "execute_result",
          "data": {
            "text/plain": [
              "[['Pedro', 1.7], ['Cristiane', 1.65], ['Dulce', 1.3], ['Gabriela', 1.55]]"
            ]
          },
          "metadata": {},
          "execution_count": 466
        }
      ]
    },
    {
      "cell_type": "code",
      "source": [
        "# O tipo da varíavel \"fam\" é \"list\"\n",
        "type(fam)"
      ],
      "metadata": {
        "colab": {
          "base_uri": "https://localhost:8080/"
        },
        "id": "V5sXRkJm_3CM",
        "outputId": "9cc231d5-3ca1-4e4b-db17-1012ab8c1558"
      },
      "execution_count": 467,
      "outputs": [
        {
          "output_type": "execute_result",
          "data": {
            "text/plain": [
              "list"
            ]
          },
          "metadata": {},
          "execution_count": 467
        }
      ]
    },
    {
      "cell_type": "code",
      "source": [
        "type(fam2)"
      ],
      "metadata": {
        "colab": {
          "base_uri": "https://localhost:8080/"
        },
        "id": "YN22rcaV_6wU",
        "outputId": "f0876de3-b030-4f72-c825-23e772f97fb4"
      },
      "execution_count": 468,
      "outputs": [
        {
          "output_type": "execute_result",
          "data": {
            "text/plain": [
              "list"
            ]
          },
          "metadata": {},
          "execution_count": 468
        }
      ]
    },
    {
      "cell_type": "code",
      "source": [
        "# Atribuindo valores a variáveis para criar uma lista a partir delas.\n",
        "# Áreas dos compartimentos\n",
        "hall = 14.0\n",
        "kit = 18.0\n",
        "liv = 20.0\n",
        "bed = 10.75\n",
        "bath = 9.50\n",
        "# Criando uma lista com as áreas dos compartimentos\n",
        "áreas = [hall, kit, liv, bed, bath]\n",
        "# \"Printando\" a lista das áreas\n",
        "print(áreas)\n",
        "# Adaptando a lista\n",
        "áreas = 'hallway', hall, 'kitchen', kit, 'living room', liv, 'bedroom', bed, 'bathroom', bath\n",
        "print(áreas)"
      ],
      "metadata": {
        "colab": {
          "base_uri": "https://localhost:8080/"
        },
        "id": "269C7jLQAwc0",
        "outputId": "b492eec0-4a0c-44c4-a70e-ba6f5769e6d3"
      },
      "execution_count": 469,
      "outputs": [
        {
          "output_type": "stream",
          "name": "stdout",
          "text": [
            "[14.0, 18.0, 20.0, 10.75, 9.5]\n",
            "('hallway', 14.0, 'kitchen', 18.0, 'living room', 20.0, 'bedroom', 10.75, 'bathroom', 9.5)\n"
          ]
        }
      ]
    },
    {
      "cell_type": "code",
      "source": [
        "A = [1, 2, 3, 4]\n",
        "# \"A\" é uma lista qye possui quatro elementos inteiros\n",
        "B =[[1, 2, 3], [4, 5, 6]]\n",
        "# \"B\" é uma lista na qual possui outras duas lista dentro, sendo cada lista possuindo três elementos inteiros\n",
        "C = [1 + 2, 'A' * 5, 3]\n",
        "# \"C\" é uma lista na qual possui três elementos, sendo o primeiro elemento uma soma de inteiros, o segundo elemento a multiplicação de uma string, e o terceiro elemento um inteiro."
      ],
      "metadata": {
        "id": "PdVd8PZwEyYr"
      },
      "execution_count": 470,
      "outputs": []
    },
    {
      "cell_type": "code",
      "source": [
        "# Lista de listas das áreas dos compartimentos\n",
        "house = [['hallway', hall],\n",
        "         ['kitchen', kit],\n",
        "         ['living room', liv],\n",
        "         ['bedroom', bed],\n",
        "         ['bathroom', bath]]\n",
        "#  \"Printando\" a lista das lista\n",
        "print(house)\n",
        "# \"Printando\" o tipo da variável \"house\"\n",
        "print(type(house))"
      ],
      "metadata": {
        "colab": {
          "base_uri": "https://localhost:8080/"
        },
        "id": "mqa3GL5bGfI7",
        "outputId": "91ec0c76-f94a-4e81-d340-7e59719d66b5"
      },
      "execution_count": 471,
      "outputs": [
        {
          "output_type": "stream",
          "name": "stdout",
          "text": [
            "[['hallway', 14.0], ['kitchen', 18.0], ['living room', 20.0], ['bedroom', 10.75], ['bathroom', 9.5]]\n",
            "<class 'list'>\n"
          ]
        }
      ]
    },
    {
      "cell_type": "code",
      "source": [
        "# Buscando o segundo elemento da lista \"fam\"\n",
        "fam[2]"
      ],
      "metadata": {
        "colab": {
          "base_uri": "https://localhost:8080/",
          "height": 35
        },
        "id": "ISTCT_PMIXTr",
        "outputId": "f1eac126-1ecd-4c86-87d3-2c20dc300dbc"
      },
      "execution_count": 472,
      "outputs": [
        {
          "output_type": "execute_result",
          "data": {
            "text/plain": [
              "'Cristiane'"
            ],
            "application/vnd.google.colaboratory.intrinsic+json": {
              "type": "string"
            }
          },
          "metadata": {},
          "execution_count": 472
        }
      ]
    },
    {
      "cell_type": "code",
      "source": [
        "# Buscando o sexto elemento da lista \"fam\"\n",
        "fam[6]"
      ],
      "metadata": {
        "colab": {
          "base_uri": "https://localhost:8080/",
          "height": 35
        },
        "id": "wxhchdsoIZ8b",
        "outputId": "25d185c7-981b-4619-aac5-f8b51d75a304"
      },
      "execution_count": 473,
      "outputs": [
        {
          "output_type": "execute_result",
          "data": {
            "text/plain": [
              "'Gabriela'"
            ],
            "application/vnd.google.colaboratory.intrinsic+json": {
              "type": "string"
            }
          },
          "metadata": {},
          "execution_count": 473
        }
      ]
    },
    {
      "cell_type": "code",
      "source": [
        "# Buscando o segundo elemento da lista \"house\"\n",
        "house[2]"
      ],
      "metadata": {
        "colab": {
          "base_uri": "https://localhost:8080/"
        },
        "id": "5SMgoOU4Ikqi",
        "outputId": "0a2f647a-6088-416b-d7c3-012d5db9be72"
      },
      "execution_count": 474,
      "outputs": [
        {
          "output_type": "execute_result",
          "data": {
            "text/plain": [
              "['living room', 20.0]"
            ]
          },
          "metadata": {},
          "execution_count": 474
        }
      ]
    },
    {
      "cell_type": "code",
      "source": [
        "# Buscando o terceiro elemento da lista \"house\"\n",
        "house[3]"
      ],
      "metadata": {
        "colab": {
          "base_uri": "https://localhost:8080/"
        },
        "id": "QXWV152fJH5L",
        "outputId": "385ded6e-6db8-44d2-cedd-d6362c12ee84"
      },
      "execution_count": 475,
      "outputs": [
        {
          "output_type": "execute_result",
          "data": {
            "text/plain": [
              "['bedroom', 10.75]"
            ]
          },
          "metadata": {},
          "execution_count": 475
        }
      ]
    },
    {
      "cell_type": "code",
      "source": [
        "# Buscando o elemento da lista \"house\" de trás para frente por meio dos números negativos\n",
        "house[-2]"
      ],
      "metadata": {
        "colab": {
          "base_uri": "https://localhost:8080/"
        },
        "id": "0P1ZLaJ2JQlj",
        "outputId": "c99c42f7-44a0-4c2a-d2b4-871adb9ffc2f"
      },
      "execution_count": 476,
      "outputs": [
        {
          "output_type": "execute_result",
          "data": {
            "text/plain": [
              "['bedroom', 10.75]"
            ]
          },
          "metadata": {},
          "execution_count": 476
        }
      ]
    },
    {
      "cell_type": "code",
      "source": [
        "# Pegando a parte da lista \"fam\" apartir do sexto elemento até o oitavo, observando que a contagem dos elementos começa a partir do número 0. \n",
        "fam[6:8]"
      ],
      "metadata": {
        "colab": {
          "base_uri": "https://localhost:8080/"
        },
        "id": "GLzaiZKQJ8rC",
        "outputId": "efb3fc25-76b4-40e5-a878-75344d25a41f"
      },
      "execution_count": 477,
      "outputs": [
        {
          "output_type": "execute_result",
          "data": {
            "text/plain": [
              "['Gabriela', 1.55]"
            ]
          },
          "metadata": {},
          "execution_count": 477
        }
      ]
    },
    {
      "cell_type": "code",
      "source": [
        "fam[2:4]"
      ],
      "metadata": {
        "colab": {
          "base_uri": "https://localhost:8080/"
        },
        "id": "5yGr2aNMKVTu",
        "outputId": "281ae4c2-91b4-4392-fa76-d18490e3e508"
      },
      "execution_count": 478,
      "outputs": [
        {
          "output_type": "execute_result",
          "data": {
            "text/plain": [
              "['Cristiane', 1.65]"
            ]
          },
          "metadata": {},
          "execution_count": 478
        }
      ]
    },
    {
      "cell_type": "code",
      "source": [
        "fam[4:6]"
      ],
      "metadata": {
        "colab": {
          "base_uri": "https://localhost:8080/"
        },
        "id": "a-rz1567KkYb",
        "outputId": "3ffb4dce-c581-42ff-ad62-a203781ed300"
      },
      "execution_count": 479,
      "outputs": [
        {
          "output_type": "execute_result",
          "data": {
            "text/plain": [
              "['Dulce', 1.3]"
            ]
          },
          "metadata": {},
          "execution_count": 479
        }
      ]
    },
    {
      "cell_type": "code",
      "source": [
        "# Pegando do quarto elemento até o final da lista \"fam\"\n",
        "fam[4:]"
      ],
      "metadata": {
        "colab": {
          "base_uri": "https://localhost:8080/"
        },
        "id": "nT4WuPlwLHYD",
        "outputId": "6466ea70-cba2-4d20-b791-979062ae7ef0"
      },
      "execution_count": 480,
      "outputs": [
        {
          "output_type": "execute_result",
          "data": {
            "text/plain": [
              "['Dulce', 1.3, 'Gabriela', 1.55]"
            ]
          },
          "metadata": {},
          "execution_count": 480
        }
      ]
    },
    {
      "cell_type": "code",
      "source": [
        "# \"Printando\" o segundo elemento da lista de áreas\n",
        "print(áreas[2])"
      ],
      "metadata": {
        "colab": {
          "base_uri": "https://localhost:8080/"
        },
        "id": "zRwqEZTGL4vS",
        "outputId": "faa46a6a-37c1-407f-aba2-5eac205de2d0"
      },
      "execution_count": 481,
      "outputs": [
        {
          "output_type": "stream",
          "name": "stdout",
          "text": [
            "kitchen\n"
          ]
        }
      ]
    },
    {
      "cell_type": "code",
      "source": [
        "# \"Printando\" o ultimo elemento usando o index negativo\n",
        "print(áreas[-1])"
      ],
      "metadata": {
        "colab": {
          "base_uri": "https://localhost:8080/"
        },
        "id": "aGgmUFeTMnLL",
        "outputId": "70266e03-685b-41cf-f8f3-9c4fb96ce8ea"
      },
      "execution_count": 482,
      "outputs": [
        {
          "output_type": "stream",
          "name": "stdout",
          "text": [
            "9.5\n"
          ]
        }
      ]
    },
    {
      "cell_type": "code",
      "source": [
        "# \"Printando\" o valor de \"living room\"\n",
        "print(áreas[4])"
      ],
      "metadata": {
        "colab": {
          "base_uri": "https://localhost:8080/"
        },
        "id": "c_xx5yWfM52C",
        "outputId": "0e67fbd9-28bb-464b-ee70-48efb3cf7ba8"
      },
      "execution_count": 483,
      "outputs": [
        {
          "output_type": "stream",
          "name": "stdout",
          "text": [
            "living room\n"
          ]
        }
      ]
    },
    {
      "cell_type": "markdown",
      "source": [
        "**QUARTA AULA - 29\\03**"
      ],
      "metadata": {
        "id": "f4g5o4ODvLIl"
      }
    },
    {
      "cell_type": "code",
      "source": [
        "# Somando os valores dos elementos 3 e 5 da lista \"áreas\" e atribuindo o resultado a uma variável.\n",
        "eat_sleep_area = áreas[3] + áreas[5]"
      ],
      "metadata": {
        "id": "Qo5pjyfNtH6E"
      },
      "execution_count": 484,
      "outputs": []
    },
    {
      "cell_type": "code",
      "source": [
        "print(eat_sleep_area)"
      ],
      "metadata": {
        "colab": {
          "base_uri": "https://localhost:8080/"
        },
        "id": "5P4mKhazvVny",
        "outputId": "cedd9c1e-4306-4be8-e14e-5464a002d2d7"
      },
      "execution_count": 485,
      "outputs": [
        {
          "output_type": "stream",
          "name": "stdout",
          "text": [
            "38.0\n"
          ]
        }
      ]
    },
    {
      "cell_type": "code",
      "source": [
        "# Acessando os seis primeiros elementos da lista \"àreas\".\n",
        "áreas = 'hallway', hall, 'kitchen', kit, 'living room', liv, 'bedroom', bed, 'bathroom', bath\n",
        "print(áreas[:6])"
      ],
      "metadata": {
        "colab": {
          "base_uri": "https://localhost:8080/"
        },
        "id": "bA3U0V__wPKx",
        "outputId": "20b36b87-419b-4451-be13-17c539a52cff"
      },
      "execution_count": 486,
      "outputs": [
        {
          "output_type": "stream",
          "name": "stdout",
          "text": [
            "('hallway', 14.0, 'kitchen', 18.0, 'living room', 20.0)\n"
          ]
        }
      ]
    },
    {
      "cell_type": "code",
      "source": [
        "# Atribuindo os seis primeiros elementos da lista \"áreas\" a uma variável.\n",
        "downstairs = áreas[:6]"
      ],
      "metadata": {
        "id": "KLP7pb0uwmei"
      },
      "execution_count": 487,
      "outputs": []
    },
    {
      "cell_type": "code",
      "source": [
        "# \"Printando\" do sexto elemento ao ultimo elemento da lista \"áreas\".\n",
        "print(áreas[6:])"
      ],
      "metadata": {
        "colab": {
          "base_uri": "https://localhost:8080/"
        },
        "id": "JCq1ah942Ix5",
        "outputId": "7215b818-af89-49f7-bea5-610584779982"
      },
      "execution_count": 488,
      "outputs": [
        {
          "output_type": "stream",
          "name": "stdout",
          "text": [
            "('bedroom', 10.75, 'bathroom', 9.5)\n"
          ]
        }
      ]
    },
    {
      "cell_type": "code",
      "source": [
        "# Atribuindoo do sexto elemento ao ultimo elemento da lista \"áreas\" para uma variável.\n",
        "upstairs = áreas[6:]"
      ],
      "metadata": {
        "id": "CdU98y07wx86"
      },
      "execution_count": 489,
      "outputs": []
    },
    {
      "cell_type": "code",
      "source": [
        "print(downstairs)\n",
        "print(upstairs)"
      ],
      "metadata": {
        "colab": {
          "base_uri": "https://localhost:8080/"
        },
        "id": "_sR_D0XbzALC",
        "outputId": "f6a14733-fd63-4e02-9724-1cede3598743"
      },
      "execution_count": 490,
      "outputs": [
        {
          "output_type": "stream",
          "name": "stdout",
          "text": [
            "('hallway', 14.0, 'kitchen', 18.0, 'living room', 20.0)\n",
            "('bedroom', 10.75, 'bathroom', 9.5)\n"
          ]
        }
      ]
    },
    {
      "cell_type": "code",
      "source": [
        "# Mostrando elementos de uma lista que está dentro de uma lista.\n",
        "x = [['a', 'b', 'c'],\n",
        "     [\"d\",\"e\",\"f\"],\n",
        "     [\"g\",\"h\",\"i\"]]\n",
        "# O primeiro número entre colchetes é o número da lista, o segundo número entre colchetes se trata do número do elemento dentro da lista designada pelo o número anterior.\n",
        "x[2][0]\n",
        "x[2][:2]"
      ],
      "metadata": {
        "colab": {
          "base_uri": "https://localhost:8080/"
        },
        "id": "zFrYCIJDx9wy",
        "outputId": "a1e0c11b-c645-442b-9a10-c5e7db88f16a"
      },
      "execution_count": 491,
      "outputs": [
        {
          "output_type": "execute_result",
          "data": {
            "text/plain": [
              "['g', 'h']"
            ]
          },
          "metadata": {},
          "execution_count": 491
        }
      ]
    },
    {
      "cell_type": "code",
      "source": [
        "house[-1][1]"
      ],
      "metadata": {
        "colab": {
          "base_uri": "https://localhost:8080/"
        },
        "id": "-h14lwPwyofC",
        "outputId": "55f023ba-2ca0-4f8a-829b-0bbb021fe10c"
      },
      "execution_count": 492,
      "outputs": [
        {
          "output_type": "execute_result",
          "data": {
            "text/plain": [
              "9.5"
            ]
          },
          "metadata": {},
          "execution_count": 492
        }
      ]
    },
    {
      "cell_type": "code",
      "source": [
        "# Mostrando a lista \"fam\"\n",
        "print(fam)"
      ],
      "metadata": {
        "colab": {
          "base_uri": "https://localhost:8080/"
        },
        "id": "eRGCfWKkysZi",
        "outputId": "a859bad8-5508-4bf6-9830-740bca3a4898"
      },
      "execution_count": 493,
      "outputs": [
        {
          "output_type": "stream",
          "name": "stdout",
          "text": [
            "['Pedro', 1.7, 'Cristiane', 1.65, 'Dulce', 1.3, 'Gabriela', 1.55]\n"
          ]
        }
      ]
    },
    {
      "cell_type": "code",
      "source": [
        "# Motificando o elemento 7 da lista \"fam\" e atribuindo o novo valor de 1.65. \n",
        "fam[7] = 1.65\n",
        "print(fam)"
      ],
      "metadata": {
        "colab": {
          "base_uri": "https://localhost:8080/"
        },
        "id": "0yDTecnD05Rx",
        "outputId": "b2f5c319-2e89-4a30-80c6-cfd350c8e5ab"
      },
      "execution_count": 494,
      "outputs": [
        {
          "output_type": "stream",
          "name": "stdout",
          "text": [
            "['Pedro', 1.7, 'Cristiane', 1.65, 'Dulce', 1.3, 'Gabriela', 1.65]\n"
          ]
        }
      ]
    },
    {
      "cell_type": "code",
      "source": [
        "# O mesmo pode ser feito em intervalos maiores, como no exemplo a seguir: do primeiro elemento (0) ao terceiro elemento (2) será motificado, sendo atribuido um novo valor para esses elementos.\n",
        "fam[0:2] = 'Vinicius', 1.75\n",
        "print(fam)"
      ],
      "metadata": {
        "colab": {
          "base_uri": "https://localhost:8080/"
        },
        "id": "KgCMGjJg1WXJ",
        "outputId": "87029c1f-b013-4eb7-91b0-d22f6caffe2d"
      },
      "execution_count": 495,
      "outputs": [
        {
          "output_type": "stream",
          "name": "stdout",
          "text": [
            "['Vinicius', 1.75, 'Cristiane', 1.65, 'Dulce', 1.3, 'Gabriela', 1.65]\n"
          ]
        }
      ]
    },
    {
      "cell_type": "code",
      "source": [
        "# Adicionando elementos em uma lista já existente.\n",
        "fam + [\"Maciel\", 1.65]"
      ],
      "metadata": {
        "colab": {
          "base_uri": "https://localhost:8080/"
        },
        "id": "YiFH4NH42keg",
        "outputId": "f026eecd-d6f9-4149-8a15-9e3e0a9e9e2c"
      },
      "execution_count": 496,
      "outputs": [
        {
          "output_type": "execute_result",
          "data": {
            "text/plain": [
              "['Vinicius',\n",
              " 1.75,\n",
              " 'Cristiane',\n",
              " 1.65,\n",
              " 'Dulce',\n",
              " 1.3,\n",
              " 'Gabriela',\n",
              " 1.65,\n",
              " 'Maciel',\n",
              " 1.65]"
            ]
          },
          "metadata": {},
          "execution_count": 496
        }
      ]
    },
    {
      "cell_type": "code",
      "source": [
        "# Adcionando uma extenção em uma lista.\n",
        "fam_ext = fam + [\"Maciel\", 1.65]\n",
        "# Excluindo o primeiro elemento (0) da lista \"fam\".\n",
        "del(fam[0])\n",
        "fam"
      ],
      "metadata": {
        "colab": {
          "base_uri": "https://localhost:8080/"
        },
        "id": "BqoZpmGd3MRZ",
        "outputId": "bd38f612-605c-43f3-a217-93b88d35add8"
      },
      "execution_count": 497,
      "outputs": [
        {
          "output_type": "execute_result",
          "data": {
            "text/plain": [
              "[1.75, 'Cristiane', 1.65, 'Dulce', 1.3, 'Gabriela', 1.65]"
            ]
          },
          "metadata": {},
          "execution_count": 497
        }
      ]
    },
    {
      "cell_type": "code",
      "source": [
        "# Mostrando o valor da nova varíavel.\n",
        "print(fam_ext)"
      ],
      "metadata": {
        "colab": {
          "base_uri": "https://localhost:8080/"
        },
        "id": "yKHKVCxm34fo",
        "outputId": "b2e07a0a-52c0-411b-da20-b8452d8241b9"
      },
      "execution_count": 498,
      "outputs": [
        {
          "output_type": "stream",
          "name": "stdout",
          "text": [
            "['Vinicius', 1.75, 'Cristiane', 1.65, 'Dulce', 1.3, 'Gabriela', 1.65, 'Maciel', 1.65]\n"
          ]
        }
      ]
    },
    {
      "cell_type": "code",
      "source": [
        "# Variável \"y\" recebendo a variável \"x\" como valor. Nesse caso, \"x\" e \"y\" são a mesma coisa, isso quer dizer que o que acontecer com uma acontece também coma outra.\n",
        "x = [\"a\", \"b\", \"c\"]\n",
        "y = x\n",
        "y[1] = \"z\"\n",
        "print(y)"
      ],
      "metadata": {
        "colab": {
          "base_uri": "https://localhost:8080/"
        },
        "id": "YXUqlNb85nkR",
        "outputId": "c397092c-6d68-40b7-cfdd-3de27647f898"
      },
      "execution_count": 499,
      "outputs": [
        {
          "output_type": "stream",
          "name": "stdout",
          "text": [
            "['a', 'z', 'c']\n"
          ]
        }
      ]
    },
    {
      "cell_type": "code",
      "source": [
        "print(x)"
      ],
      "metadata": {
        "colab": {
          "base_uri": "https://localhost:8080/"
        },
        "id": "G2ESu74L52FQ",
        "outputId": "d8210353-bc2b-45bd-c3b7-f5cb2e7c9189"
      },
      "execution_count": 500,
      "outputs": [
        {
          "output_type": "stream",
          "name": "stdout",
          "text": [
            "['a', 'z', 'c']\n"
          ]
        }
      ]
    },
    {
      "cell_type": "code",
      "source": [
        "# Para criar uma cópia de da lista que está na variável \"x\" é possível utilizar os seguintes comandos:\n",
        "x = [\"a\",\"b\",\"c\"]\n",
        "y = list(x)\n",
        "print(y)"
      ],
      "metadata": {
        "colab": {
          "base_uri": "https://localhost:8080/"
        },
        "id": "wQOHE-P96FsQ",
        "outputId": "56384df0-3f06-414b-c0ea-7a3f68c91ae6"
      },
      "execution_count": 501,
      "outputs": [
        {
          "output_type": "stream",
          "name": "stdout",
          "text": [
            "['a', 'b', 'c']\n"
          ]
        }
      ]
    },
    {
      "cell_type": "code",
      "source": [
        "# ou\n",
        "y = x[:]\n",
        "print(y)"
      ],
      "metadata": {
        "colab": {
          "base_uri": "https://localhost:8080/"
        },
        "id": "CgkVGw1l6eHw",
        "outputId": "ad8aa4bc-7a78-4ce1-85b4-9301bf36f4a5"
      },
      "execution_count": 502,
      "outputs": [
        {
          "output_type": "stream",
          "name": "stdout",
          "text": [
            "['a', 'b', 'c']\n"
          ]
        }
      ]
    },
    {
      "cell_type": "code",
      "source": [
        "y[1] = \"z\"\n",
        "# Nesses casos, a variável \"y\", que recebe a cópia do valor de x, ou seja, a lista, é distinta da varíavel \"x\", portanto, o que acontece com uma variável se limita apenas a mesma, não afetando a outra outra varível.\n",
        "print(y)\n",
        "print(x)"
      ],
      "metadata": {
        "colab": {
          "base_uri": "https://localhost:8080/"
        },
        "id": "gj35OmPP6mGo",
        "outputId": "ad780f52-3184-4646-e99e-1b7b4711a08a"
      },
      "execution_count": 503,
      "outputs": [
        {
          "output_type": "stream",
          "name": "stdout",
          "text": [
            "['a', 'z', 'c']\n",
            "['a', 'b', 'c']\n"
          ]
        }
      ]
    },
    {
      "cell_type": "code",
      "source": [
        "# Motificando o nono elemento da lista \"áreas\" e atribuindo-o um novo valor.\n",
        "áreas = ['hallway', 14.0, 'kitchen', 18.0, 'living room', 20.0, 'bedroom', 10.75, 'bathroom', 9.5]\n",
        "áreas[9] = 10.50\n",
        "print(áreas)"
      ],
      "metadata": {
        "id": "P4afE8WR7QR3",
        "colab": {
          "base_uri": "https://localhost:8080/"
        },
        "outputId": "85ec4f3c-da8f-47fb-f64d-cb79262e54b3"
      },
      "execution_count": 504,
      "outputs": [
        {
          "output_type": "stream",
          "name": "stdout",
          "text": [
            "['hallway', 14.0, 'kitchen', 18.0, 'living room', 20.0, 'bedroom', 10.75, 'bathroom', 10.5]\n"
          ]
        }
      ]
    },
    {
      "cell_type": "code",
      "source": [
        "# Motificando a string \"living room\" para \"chill zone\".\n",
        "áreas[4] = 'chill zone'\n",
        "print(áreas)"
      ],
      "metadata": {
        "colab": {
          "base_uri": "https://localhost:8080/"
        },
        "id": "HBmSm6jR6Pxv",
        "outputId": "c0457cf8-0b1c-4f6f-84ba-3abfed4099d2"
      },
      "execution_count": 505,
      "outputs": [
        {
          "output_type": "stream",
          "name": "stdout",
          "text": [
            "['hallway', 14.0, 'kitchen', 18.0, 'chill zone', 20.0, 'bedroom', 10.75, 'bathroom', 10.5]\n"
          ]
        }
      ]
    },
    {
      "cell_type": "code",
      "source": [
        "# Adicionando novos elementos em uma lista já existente e, criando uma nova lista com a lista modificada.\n",
        "áreas + ['poolhouse', 24.5]\n",
        "áreas_1 = áreas + ['poolhouse', 24.5]\n",
        "print(áreas)\n",
        "print(áreas_1)"
      ],
      "metadata": {
        "colab": {
          "base_uri": "https://localhost:8080/"
        },
        "id": "Xr_dr5peB_rI",
        "outputId": "574252f9-7a98-4076-9034-e6424a977570"
      },
      "execution_count": 506,
      "outputs": [
        {
          "output_type": "stream",
          "name": "stdout",
          "text": [
            "['hallway', 14.0, 'kitchen', 18.0, 'chill zone', 20.0, 'bedroom', 10.75, 'bathroom', 10.5]\n",
            "['hallway', 14.0, 'kitchen', 18.0, 'chill zone', 20.0, 'bedroom', 10.75, 'bathroom', 10.5, 'poolhouse', 24.5]\n"
          ]
        }
      ]
    },
    {
      "cell_type": "code",
      "source": [
        "# Adicionando novamente novos elementos a uma lista e, novamente, criando uma nova lista com a lista modificada.\n",
        "áreas_1 + ['garage', 15.5]\n",
        "áreas_2 = áreas_1 + ['garage', 15.5]\n",
        "print(áreas_1)\n",
        "print(áreas_2)"
      ],
      "metadata": {
        "colab": {
          "base_uri": "https://localhost:8080/"
        },
        "id": "kghGwOpPCamF",
        "outputId": "5d473926-f90a-4024-8d86-8f3dfa9e38b6"
      },
      "execution_count": 507,
      "outputs": [
        {
          "output_type": "stream",
          "name": "stdout",
          "text": [
            "['hallway', 14.0, 'kitchen', 18.0, 'chill zone', 20.0, 'bedroom', 10.75, 'bathroom', 10.5, 'poolhouse', 24.5]\n",
            "['hallway', 14.0, 'kitchen', 18.0, 'chill zone', 20.0, 'bedroom', 10.75, 'bathroom', 10.5, 'poolhouse', 24.5, 'garage', 15.5]\n"
          ]
        }
      ]
    },
    {
      "cell_type": "code",
      "source": [
        "# Maneira errada de se criar uma cópia de uma lista. Nesse caso, a variável \"áreas_copy\" não cria uma cópia, mas sim é recebe em como valor a lista \"áreas\", tornando-se a mesma coisa.\n",
        "áreas = [11.25, 18.0, 20.0, 10.75, 9.5]\n",
        "áreas_copy = áreas\n",
        "áreas_copy[0] = 5.0\n",
        "print(áreas)"
      ],
      "metadata": {
        "colab": {
          "base_uri": "https://localhost:8080/"
        },
        "id": "FB8Z1fo8Fgxj",
        "outputId": "dfadadb6-43df-41bd-a738-16883dc34202"
      },
      "execution_count": 508,
      "outputs": [
        {
          "output_type": "stream",
          "name": "stdout",
          "text": [
            "[5.0, 18.0, 20.0, 10.75, 9.5]\n"
          ]
        }
      ]
    },
    {
      "cell_type": "code",
      "source": [
        "# Maneira correta de se criar uma cópia de uma lista. Nesse caso, é usado o comando que cria uma lista com o mesmo valor de outra, porém, não há qualquer vínculo com a lista copiada.\n",
        "áreas = [11.25, 18.0, 20.0, 10.75, 9.5]\n",
        "áreas_copy = list(áreas)\n",
        "áreas_copy[0] = 5.0\n",
        "print(áreas)\n",
        "print(áreas_copy)"
      ],
      "metadata": {
        "colab": {
          "base_uri": "https://localhost:8080/"
        },
        "id": "BHDA74ENGD3v",
        "outputId": "27ac0c68-2e7e-449e-e3ea-b8c7f640d29e"
      },
      "execution_count": 509,
      "outputs": [
        {
          "output_type": "stream",
          "name": "stdout",
          "text": [
            "[11.25, 18.0, 20.0, 10.75, 9.5]\n",
            "[5.0, 18.0, 20.0, 10.75, 9.5]\n"
          ]
        }
      ]
    },
    {
      "cell_type": "markdown",
      "source": [
        "**QUINTA AULA - 03\\04**"
      ],
      "metadata": {
        "id": "eHlk_PZSFNbq"
      }
    },
    {
      "cell_type": "code",
      "source": [
        "fam = [1.73, 1.68, 1.71, 1.89]"
      ],
      "metadata": {
        "id": "mJpgnnkKFyoy"
      },
      "execution_count": 510,
      "outputs": []
    },
    {
      "cell_type": "code",
      "source": [
        "# Utilizando a função \"max\". Essa função é utilizada para mostrar o elemento de maior valor de uma lista.\n",
        "max(fam)"
      ],
      "metadata": {
        "colab": {
          "base_uri": "https://localhost:8080/"
        },
        "id": "saceqbc7FUwB",
        "outputId": "914a2dd3-8ef1-4200-ace0-758382dcd01e"
      },
      "execution_count": 511,
      "outputs": [
        {
          "output_type": "execute_result",
          "data": {
            "text/plain": [
              "1.89"
            ]
          },
          "metadata": {},
          "execution_count": 511
        }
      ]
    },
    {
      "cell_type": "code",
      "source": [
        "# A função \"round\" é utilizada para arredondar um número. Nesse caso, o número \"1\" após o primeiro número signfica que o número que será arredondado aceitará uma casa decimal.\n",
        "round(1.68, 1)"
      ],
      "metadata": {
        "colab": {
          "base_uri": "https://localhost:8080/"
        },
        "id": "P8_fJcyTGTiE",
        "outputId": "a907d2ae-3dad-4317-8afd-fbdb39c3e8fc"
      },
      "execution_count": 512,
      "outputs": [
        {
          "output_type": "execute_result",
          "data": {
            "text/plain": [
              "1.7"
            ]
          },
          "metadata": {},
          "execution_count": 512
        }
      ]
    },
    {
      "cell_type": "code",
      "source": [
        "round(1.68)"
      ],
      "metadata": {
        "colab": {
          "base_uri": "https://localhost:8080/"
        },
        "id": "XZu7U1qCGaIq",
        "outputId": "fe38bad1-7d9a-4a94-9450-b0a02a6d9f19"
      },
      "execution_count": 513,
      "outputs": [
        {
          "output_type": "execute_result",
          "data": {
            "text/plain": [
              "2"
            ]
          },
          "metadata": {},
          "execution_count": 513
        }
      ]
    },
    {
      "cell_type": "code",
      "source": [
        "help(round)"
      ],
      "metadata": {
        "colab": {
          "base_uri": "https://localhost:8080/"
        },
        "id": "_ok_8KmeGls5",
        "outputId": "d7c13529-3e5f-4915-9f03-e23f9f9f823b"
      },
      "execution_count": 514,
      "outputs": [
        {
          "output_type": "stream",
          "name": "stdout",
          "text": [
            "Help on built-in function round in module builtins:\n",
            "\n",
            "round(number, ndigits=None)\n",
            "    Round a number to a given precision in decimal digits.\n",
            "    \n",
            "    The return value is an integer if ndigits is omitted or None.  Otherwise\n",
            "    the return value has the same type as the number.  ndigits may be negative.\n",
            "\n"
          ]
        }
      ]
    },
    {
      "cell_type": "code",
      "source": [
        "# Criando duas variáveis: var1 e var2.\n",
        "var1 = [1, 2, 3, 4]\n",
        "var2 = True\n",
        "# Mostrando o tipo de var1 utilizando o comando \"type\" junto com o comando \"print\".\n",
        "print(type(var1))\n",
        "# Mostrando a quantidade de elementos dentro de var2 utilizando a função \"len\"\n",
        "print(len(var1))\n",
        "# Convertendo o tipo de \"var2\" para \"int\" e atribuindo o novo valor em uma variável.\n",
        "out2 = int(var2)\n",
        "# Mostrando a nova variável.\n",
        "print(out2)"
      ],
      "metadata": {
        "colab": {
          "base_uri": "https://localhost:8080/"
        },
        "id": "Y-2qdhvZG_NJ",
        "outputId": "a52dd4ed-b089-49c2-c6f7-6c73d5d4bd17"
      },
      "execution_count": 515,
      "outputs": [
        {
          "output_type": "stream",
          "name": "stdout",
          "text": [
            "<class 'list'>\n",
            "4\n",
            "1\n"
          ]
        }
      ]
    },
    {
      "cell_type": "code",
      "source": [
        "#\n",
        "first = [11.25, 18.0, 20.0, 10.75, 9.50]\n",
        "second = [10.75, 9.50]\n",
        "#\n",
        "full = first + second\n",
        "print(full)\n",
        "#\n",
        "full_sorted = sorted(full, reverse = True)\n",
        "#\n",
        "print(full_sorted)"
      ],
      "metadata": {
        "colab": {
          "base_uri": "https://localhost:8080/"
        },
        "id": "vlsojFj8JK_b",
        "outputId": "44f64be1-0fe6-472f-8e42-2fb27ee1cd8e"
      },
      "execution_count": 516,
      "outputs": [
        {
          "output_type": "stream",
          "name": "stdout",
          "text": [
            "[11.25, 18.0, 20.0, 10.75, 9.5, 10.75, 9.5]\n",
            "[20.0, 18.0, 11.25, 10.75, 10.75, 9.5, 9.5]\n"
          ]
        }
      ]
    },
    {
      "cell_type": "code",
      "source": [
        "#\n",
        "lista_de_alimentos_com_preco = ['arroz', 7.0,\n",
        "                                'feijão', 10.0,\n",
        "                                'macarrão', 5.0,\n",
        "                                'picanha', 70.0,\n",
        "                                'linguiça', 25.0,\n",
        "                                'frango', 30.0,\n",
        "                                'tomate', 3.50,\n",
        "                                'alface', 5.0,\n",
        "                                'cebola', 3.50,\n",
        "                                'suco de laranja', 6.0]"
      ],
      "metadata": {
        "id": "-Cs_u2wKMgp8"
      },
      "execution_count": 517,
      "outputs": []
    },
    {
      "cell_type": "code",
      "source": [
        "#\n",
        "lista_de_alimentos_com_preco.index('picanha')"
      ],
      "metadata": {
        "colab": {
          "base_uri": "https://localhost:8080/"
        },
        "id": "JYO3uL9mM6Lz",
        "outputId": "60d1b81f-e29f-4603-df5b-8bdbcd7bf388"
      },
      "execution_count": 518,
      "outputs": [
        {
          "output_type": "execute_result",
          "data": {
            "text/plain": [
              "6"
            ]
          },
          "metadata": {},
          "execution_count": 518
        }
      ]
    },
    {
      "cell_type": "code",
      "source": [
        "#\n",
        "lista_de_alimentos_com_preco.count(3.50)"
      ],
      "metadata": {
        "colab": {
          "base_uri": "https://localhost:8080/"
        },
        "id": "dAlb4TVONFhL",
        "outputId": "3de200e1-7f46-4dff-d2f1-871ce9709870"
      },
      "execution_count": 519,
      "outputs": [
        {
          "output_type": "execute_result",
          "data": {
            "text/plain": [
              "2"
            ]
          },
          "metadata": {},
          "execution_count": 519
        }
      ]
    },
    {
      "cell_type": "code",
      "source": [
        "#\n",
        "lista_de_alimentos_com_preco.append('cervejinha')\n",
        "lista_de_alimentos_com_preco.append(50.0)\n",
        "print(lista_de_alimentos_com_preco)"
      ],
      "metadata": {
        "colab": {
          "base_uri": "https://localhost:8080/"
        },
        "id": "ML5wKtIsN01k",
        "outputId": "3ec4776e-ba26-4cd9-9ffe-a62f6b4cf014"
      },
      "execution_count": 520,
      "outputs": [
        {
          "output_type": "stream",
          "name": "stdout",
          "text": [
            "['arroz', 7.0, 'feijão', 10.0, 'macarrão', 5.0, 'picanha', 70.0, 'linguiça', 25.0, 'frango', 30.0, 'tomate', 3.5, 'alface', 5.0, 'cebola', 3.5, 'suco de laranja', 6.0, 'cervejinha', 50.0]\n"
          ]
        }
      ]
    },
    {
      "cell_type": "code",
      "source": [
        "sister = \"Dulce\""
      ],
      "metadata": {
        "id": "RoHtTX9bOlk7"
      },
      "execution_count": 521,
      "outputs": []
    },
    {
      "cell_type": "code",
      "source": [
        "#\n",
        "sister.capitalize()"
      ],
      "metadata": {
        "colab": {
          "base_uri": "https://localhost:8080/",
          "height": 35
        },
        "id": "VlMOHYZGPVUc",
        "outputId": "69e703b0-5aa1-4ae7-c6d7-19b2f6faf0a3"
      },
      "execution_count": 522,
      "outputs": [
        {
          "output_type": "execute_result",
          "data": {
            "text/plain": [
              "'Dulce'"
            ],
            "application/vnd.google.colaboratory.intrinsic+json": {
              "type": "string"
            }
          },
          "metadata": {},
          "execution_count": 522
        }
      ]
    },
    {
      "cell_type": "code",
      "source": [
        "#\n",
        "sister.replace(\"ulce\",\"oce\")"
      ],
      "metadata": {
        "colab": {
          "base_uri": "https://localhost:8080/",
          "height": 35
        },
        "id": "PvkQlpxAP8eM",
        "outputId": "e851fb65-7c22-438f-d325-982687fe6a5c"
      },
      "execution_count": 523,
      "outputs": [
        {
          "output_type": "execute_result",
          "data": {
            "text/plain": [
              "'Doce'"
            ],
            "application/vnd.google.colaboratory.intrinsic+json": {
              "type": "string"
            }
          },
          "metadata": {},
          "execution_count": 523
        }
      ]
    },
    {
      "cell_type": "code",
      "source": [
        "#\n",
        "place = \"poolhouse\"\n",
        "#\n",
        "place_up = place.upper()\n",
        "#\n",
        "print(place)\n",
        "print(place_up)\n",
        "#\n",
        "place.count('o')"
      ],
      "metadata": {
        "colab": {
          "base_uri": "https://localhost:8080/"
        },
        "id": "zikESTDJQkyc",
        "outputId": "04644fec-0a6e-4658-ba41-f12ea834a13b"
      },
      "execution_count": 524,
      "outputs": [
        {
          "output_type": "stream",
          "name": "stdout",
          "text": [
            "poolhouse\n",
            "POOLHOUSE\n"
          ]
        },
        {
          "output_type": "execute_result",
          "data": {
            "text/plain": [
              "3"
            ]
          },
          "metadata": {},
          "execution_count": 524
        }
      ]
    },
    {
      "cell_type": "code",
      "source": [
        "#\n",
        "áreas = [11.25, 18.0, 20.0, 10.75, 9.50]\n",
        "#\n",
        "print(áreas.index(20.0))"
      ],
      "metadata": {
        "colab": {
          "base_uri": "https://localhost:8080/"
        },
        "id": "zXvuJRMoS51I",
        "outputId": "a254ca9d-8f2e-4243-f479-044ced088b06"
      },
      "execution_count": 525,
      "outputs": [
        {
          "output_type": "stream",
          "name": "stdout",
          "text": [
            "2\n"
          ]
        }
      ]
    },
    {
      "cell_type": "code",
      "source": [
        "print(áreas.count(9.5))"
      ],
      "metadata": {
        "colab": {
          "base_uri": "https://localhost:8080/"
        },
        "id": "yPNNW4NJTrBt",
        "outputId": "d8c1eb8b-6e01-4c30-d9d0-ae70cb6ca564"
      },
      "execution_count": 526,
      "outputs": [
        {
          "output_type": "stream",
          "name": "stdout",
          "text": [
            "1\n"
          ]
        }
      ]
    },
    {
      "cell_type": "markdown",
      "source": [
        "**SEXTA AULA - 05/04**"
      ],
      "metadata": {
        "id": "DHzWkO8JuPk6"
      }
    },
    {
      "cell_type": "code",
      "source": [
        "pip list"
      ],
      "metadata": {
        "colab": {
          "base_uri": "https://localhost:8080/"
        },
        "id": "y4jMJ7bsuZ8b",
        "outputId": "ccf2c132-4943-4ce5-e6c7-6fddd9a86ad4"
      },
      "execution_count": 527,
      "outputs": [
        {
          "output_type": "stream",
          "name": "stdout",
          "text": [
            "Package                       Version\n",
            "----------------------------- --------------------\n",
            "absl-py                       1.4.0\n",
            "alabaster                     0.7.13\n",
            "albumentations                1.2.1\n",
            "altair                        4.2.2\n",
            "anyio                         3.6.2\n",
            "appdirs                       1.4.4\n",
            "argon2-cffi                   21.3.0\n",
            "argon2-cffi-bindings          21.2.0\n",
            "arviz                         0.15.1\n",
            "astropy                       5.2.2\n",
            "astunparse                    1.6.3\n",
            "attrs                         22.2.0\n",
            "audioread                     3.0.0\n",
            "autograd                      1.5\n",
            "Babel                         2.12.1\n",
            "backcall                      0.2.0\n",
            "beautifulsoup4                4.11.2\n",
            "bleach                        6.0.0\n",
            "blis                          0.7.9\n",
            "blosc2                        2.0.0\n",
            "bokeh                         2.4.3\n",
            "branca                        0.6.0\n",
            "CacheControl                  0.12.11\n",
            "cached-property               1.5.2\n",
            "cachetools                    5.3.0\n",
            "catalogue                     2.0.8\n",
            "certifi                       2022.12.7\n",
            "cffi                          1.15.1\n",
            "chardet                       4.0.0\n",
            "charset-normalizer            2.0.12\n",
            "chex                          0.1.7\n",
            "click                         8.1.3\n",
            "cloudpickle                   2.2.1\n",
            "cmake                         3.25.2\n",
            "cmdstanpy                     1.1.0\n",
            "colorcet                      3.0.1\n",
            "colorlover                    0.3.0\n",
            "community                     1.0.0b1\n",
            "confection                    0.0.4\n",
            "cons                          0.4.5\n",
            "contextlib2                   0.6.0.post1\n",
            "contourpy                     1.0.7\n",
            "convertdate                   2.4.0\n",
            "cryptography                  40.0.1\n",
            "cufflinks                     0.17.3\n",
            "cvxopt                        1.3.0\n",
            "cvxpy                         1.3.1\n",
            "cycler                        0.11.0\n",
            "cymem                         2.0.7\n",
            "Cython                        0.29.34\n",
            "dask                          2022.12.1\n",
            "datascience                   0.17.6\n",
            "db-dtypes                     1.1.1\n",
            "dbus-python                   1.2.16\n",
            "debugpy                       1.6.6\n",
            "decorator                     4.4.2\n",
            "defusedxml                    0.7.1\n",
            "distributed                   2022.12.1\n",
            "dlib                          19.24.1\n",
            "dm-tree                       0.1.8\n",
            "docutils                      0.16\n",
            "dopamine-rl                   4.0.6\n",
            "earthengine-api               0.1.347\n",
            "easydict                      1.10\n",
            "ecos                          2.0.12\n",
            "editdistance                  0.6.2\n",
            "en-core-web-sm                3.5.0\n",
            "entrypoints                   0.4\n",
            "ephem                         4.1.4\n",
            "et-xmlfile                    1.1.0\n",
            "etils                         1.1.1\n",
            "etuples                       0.3.8\n",
            "exceptiongroup                1.1.1\n",
            "fastai                        2.7.12\n",
            "fastcore                      1.5.29\n",
            "fastdownload                  0.0.7\n",
            "fastjsonschema                2.16.3\n",
            "fastprogress                  1.0.3\n",
            "fastrlock                     0.8.1\n",
            "filelock                      3.10.7\n",
            "firebase-admin                5.3.0\n",
            "Flask                         2.2.3\n",
            "flatbuffers                   23.3.3\n",
            "flax                          0.6.8\n",
            "folium                        0.14.0\n",
            "fonttools                     4.39.3\n",
            "frozendict                    2.3.6\n",
            "fsspec                        2023.3.0\n",
            "future                        0.18.3\n",
            "gast                          0.4.0\n",
            "GDAL                          3.3.2\n",
            "gdown                         4.6.6\n",
            "gensim                        4.3.1\n",
            "geographiclib                 2.0\n",
            "geopy                         2.3.0\n",
            "gin-config                    0.5.0\n",
            "glob2                         0.7\n",
            "google                        2.0.3\n",
            "google-api-core               2.11.0\n",
            "google-api-python-client      2.70.0\n",
            "google-auth                   2.17.1\n",
            "google-auth-httplib2          0.1.0\n",
            "google-auth-oauthlib          1.0.0\n",
            "google-cloud-bigquery         3.4.2\n",
            "google-cloud-bigquery-storage 2.19.1\n",
            "google-cloud-core             2.3.2\n",
            "google-cloud-datastore        2.11.1\n",
            "google-cloud-firestore        2.7.3\n",
            "google-cloud-language         2.6.1\n",
            "google-cloud-storage          2.7.0\n",
            "google-cloud-translate        3.8.4\n",
            "google-colab                  1.0.0\n",
            "google-crc32c                 1.5.0\n",
            "google-pasta                  0.2.0\n",
            "google-resumable-media        2.4.1\n",
            "googleapis-common-protos      1.59.0\n",
            "googledrivedownloader         0.4\n",
            "graphviz                      0.20.1\n",
            "greenlet                      2.0.2\n",
            "grpcio                        1.53.0\n",
            "grpcio-status                 1.48.2\n",
            "gspread                       3.4.2\n",
            "gspread-dataframe             3.0.8\n",
            "gym                           0.25.2\n",
            "gym-notices                   0.0.8\n",
            "h5netcdf                      1.1.0\n",
            "h5py                          3.8.0\n",
            "HeapDict                      1.0.1\n",
            "hijri-converter               2.2.4\n",
            "holidays                      0.22\n",
            "holoviews                     1.15.4\n",
            "html5lib                      1.1\n",
            "htmlmin                       0.1.12\n",
            "httpimport                    1.3.0\n",
            "httplib2                      0.21.0\n",
            "humanize                      4.6.0\n",
            "hyperopt                      0.2.7\n",
            "idna                          3.4\n",
            "ImageHash                     4.3.1\n",
            "imageio                       2.25.1\n",
            "imageio-ffmpeg                0.4.8\n",
            "imagesize                     1.4.1\n",
            "imbalanced-learn              0.10.1\n",
            "imgaug                        0.4.0\n",
            "importlib-metadata            6.1.0\n",
            "importlib-resources           5.12.0\n",
            "imutils                       0.5.4\n",
            "inflect                       6.0.2\n",
            "iniconfig                     2.0.0\n",
            "intel-openmp                  2023.1.0\n",
            "ipykernel                     5.5.6\n",
            "ipython                       7.34.0\n",
            "ipython-genutils              0.2.0\n",
            "ipython-sql                   0.4.1\n",
            "ipywidgets                    7.7.1\n",
            "itsdangerous                  2.1.2\n",
            "jax                           0.4.7\n",
            "jaxlib                        0.4.7+cuda11.cudnn86\n",
            "jieba                         0.42.1\n",
            "Jinja2                        3.1.2\n",
            "joblib                        1.1.1\n",
            "jsonpickle                    3.0.1\n",
            "jsonschema                    4.3.3\n",
            "jupyter-client                6.1.12\n",
            "jupyter-console               6.1.0\n",
            "jupyter_core                  5.3.0\n",
            "jupyter-server                1.23.6\n",
            "jupyterlab-pygments           0.2.2\n",
            "jupyterlab-widgets            3.0.7\n",
            "kaggle                        1.5.13\n",
            "keras                         2.12.0\n",
            "keras-vis                     0.4.1\n",
            "kiwisolver                    1.4.4\n",
            "korean-lunar-calendar         0.3.1\n",
            "langcodes                     3.3.0\n",
            "lazy_loader                   0.2\n",
            "libclang                      16.0.0\n",
            "librosa                       0.10.0.post2\n",
            "lightgbm                      3.3.5\n",
            "lit                           16.0.0\n",
            "llvmlite                      0.39.1\n",
            "locket                        1.0.0\n",
            "logical-unification           0.4.5\n",
            "LunarCalendar                 0.0.9\n",
            "lxml                          4.9.2\n",
            "Markdown                      3.4.3\n",
            "markdown-it-py                2.2.0\n",
            "MarkupSafe                    2.1.2\n",
            "matplotlib                    3.7.1\n",
            "matplotlib-inline             0.1.6\n",
            "matplotlib-venn               0.11.9\n",
            "mdurl                         0.1.2\n",
            "miniKanren                    1.0.3\n",
            "missingno                     0.5.2\n",
            "mistune                       0.8.4\n",
            "mizani                        0.8.1\n",
            "mkl                           2019.0\n",
            "ml-dtypes                     0.0.4\n",
            "mlxtend                       0.14.0\n",
            "more-itertools                9.1.0\n",
            "moviepy                       1.0.3\n",
            "mpmath                        1.3.0\n",
            "msgpack                       1.0.5\n",
            "multimethod                   1.9.1\n",
            "multipledispatch              0.6.0\n",
            "multitasking                  0.0.11\n",
            "murmurhash                    1.0.9\n",
            "music21                       8.1.0\n",
            "natsort                       8.3.1\n",
            "nbclient                      0.7.3\n",
            "nbconvert                     6.5.4\n",
            "nbformat                      5.8.0\n",
            "nest-asyncio                  1.5.6\n",
            "networkx                      3.0\n",
            "nibabel                       3.0.2\n",
            "nltk                          3.8.1\n",
            "notebook                      6.4.8\n",
            "numba                         0.56.4\n",
            "numexpr                       2.8.4\n",
            "numpy                         1.22.4\n",
            "oauth2client                  4.1.3\n",
            "oauthlib                      3.2.2\n",
            "opencv-contrib-python         4.7.0.72\n",
            "opencv-python                 4.7.0.72\n",
            "opencv-python-headless        4.7.0.72\n",
            "openpyxl                      3.0.10\n",
            "opt-einsum                    3.3.0\n",
            "optax                         0.1.4\n",
            "orbax                         0.1.7\n",
            "osqp                          0.6.2.post0\n",
            "packaging                     23.0\n",
            "palettable                    3.3.0\n",
            "pandas                        1.4.4\n",
            "pandas-datareader             0.10.0\n",
            "pandas-gbq                    0.17.9\n",
            "pandas-profiling              3.2.0\n",
            "pandocfilters                 1.5.0\n",
            "panel                         0.14.4\n",
            "param                         1.13.0\n",
            "parso                         0.8.3\n",
            "partd                         1.3.0\n",
            "pathlib                       1.0.1\n",
            "pathy                         0.10.1\n",
            "patsy                         0.5.3\n",
            "pep517                        0.13.0\n",
            "pexpect                       4.8.0\n",
            "phik                          0.12.3\n",
            "pickleshare                   0.7.5\n",
            "Pillow                        8.4.0\n",
            "pip                           23.0.1\n",
            "pip-tools                     6.6.2\n",
            "platformdirs                  3.2.0\n",
            "plotly                        5.13.1\n",
            "plotnine                      0.10.1\n",
            "pluggy                        1.0.0\n",
            "pooch                         1.6.0\n",
            "portpicker                    1.3.9\n",
            "prefetch-generator            1.0.3\n",
            "preshed                       3.0.8\n",
            "prettytable                   0.7.2\n",
            "proglog                       0.1.10\n",
            "progressbar2                  4.2.0\n",
            "prometheus-client             0.16.0\n",
            "promise                       2.3\n",
            "prompt-toolkit                3.0.38\n",
            "prophet                       1.1.2\n",
            "proto-plus                    1.22.2\n",
            "protobuf                      3.20.3\n",
            "psutil                        5.9.4\n",
            "psycopg2                      2.9.6\n",
            "ptyprocess                    0.7.0\n",
            "py-cpuinfo                    9.0.0\n",
            "py4j                          0.10.9.7\n",
            "pyarrow                       9.0.0\n",
            "pyasn1                        0.4.8\n",
            "pyasn1-modules                0.2.8\n",
            "pycocotools                   2.0.6\n",
            "pycparser                     2.21\n",
            "pyct                          0.5.0\n",
            "pydantic                      1.10.7\n",
            "pydata-google-auth            1.7.0\n",
            "pydicom                       2.3.1\n",
            "pydot                         1.4.2\n",
            "pydot-ng                      2.0.0\n",
            "pydotplus                     2.0.2\n",
            "PyDrive                       1.3.1\n",
            "pyerfa                        2.0.0.3\n",
            "pygame                        2.3.0\n",
            "Pygments                      2.14.0\n",
            "PyGObject                     3.36.0\n",
            "pymc                          5.1.2\n",
            "PyMeeus                       0.5.12\n",
            "pymystem3                     0.2.0\n",
            "PyOpenGL                      3.1.6\n",
            "pyparsing                     3.0.9\n",
            "pyrsistent                    0.19.3\n",
            "PySocks                       1.7.1\n",
            "pytensor                      2.10.1\n",
            "pytest                        7.2.2\n",
            "python-apt                    0.0.0\n",
            "python-dateutil               2.8.2\n",
            "python-louvain                0.16\n",
            "python-slugify                8.0.1\n",
            "python-utils                  3.5.2\n",
            "pytz                          2022.7.1\n",
            "pytz-deprecation-shim         0.1.0.post0\n",
            "pyviz-comms                   2.2.1\n",
            "PyWavelets                    1.4.1\n",
            "PyYAML                        6.0\n",
            "pyzmq                         23.2.1\n",
            "qdldl                         0.1.5.post3\n",
            "qudida                        0.0.4\n",
            "regex                         2022.10.31\n",
            "requests                      2.27.1\n",
            "requests-oauthlib             1.3.1\n",
            "requests-unixsocket           0.2.0\n",
            "rich                          13.3.3\n",
            "rpy2                          3.5.5\n",
            "rsa                           4.9\n",
            "scikit-image                  0.19.3\n",
            "scikit-learn                  1.2.2\n",
            "scipy                         1.10.1\n",
            "scs                           3.2.2\n",
            "seaborn                       0.12.2\n",
            "Send2Trash                    1.8.0\n",
            "setuptools                    67.6.1\n",
            "shapely                       2.0.1\n",
            "six                           1.16.0\n",
            "sklearn-pandas                2.2.0\n",
            "smart-open                    6.3.0\n",
            "sniffio                       1.3.0\n",
            "snowballstemmer               2.2.0\n",
            "sortedcontainers              2.4.0\n",
            "soundfile                     0.12.1\n",
            "soupsieve                     2.4\n",
            "soxr                          0.3.4\n",
            "spacy                         3.5.1\n",
            "spacy-legacy                  3.0.12\n",
            "spacy-loggers                 1.0.4\n",
            "Sphinx                        3.5.4\n",
            "sphinxcontrib-applehelp       1.0.4\n",
            "sphinxcontrib-devhelp         1.0.2\n",
            "sphinxcontrib-htmlhelp        2.0.1\n",
            "sphinxcontrib-jsmath          1.0.1\n",
            "sphinxcontrib-qthelp          1.0.3\n",
            "sphinxcontrib-serializinghtml 1.1.5\n",
            "SQLAlchemy                    1.4.47\n",
            "sqlparse                      0.4.3\n",
            "srsly                         2.4.6\n",
            "statsmodels                   0.13.5\n",
            "sympy                         1.11.1\n",
            "tables                        3.8.0\n",
            "tabulate                      0.8.10\n",
            "tangled-up-in-unicode         0.2.0\n",
            "tblib                         1.7.0\n",
            "tenacity                      8.2.2\n",
            "tensorboard                   2.12.1\n",
            "tensorboard-data-server       0.7.0\n",
            "tensorboard-plugin-wit        1.8.1\n",
            "tensorflow                    2.12.0\n",
            "tensorflow-datasets           4.8.3\n",
            "tensorflow-estimator          2.12.0\n",
            "tensorflow-gcs-config         2.12.0\n",
            "tensorflow-hub                0.13.0\n",
            "tensorflow-io-gcs-filesystem  0.32.0\n",
            "tensorflow-metadata           1.13.0\n",
            "tensorflow-probability        0.19.0\n",
            "tensorstore                   0.1.35\n",
            "termcolor                     2.2.0\n",
            "terminado                     0.17.1\n",
            "text-unidecode                1.3\n",
            "textblob                      0.17.1\n",
            "tf-slim                       1.1.0\n",
            "thinc                         8.1.9\n",
            "threadpoolctl                 3.1.0\n",
            "tifffile                      2023.3.21\n",
            "tinycss2                      1.2.1\n",
            "toml                          0.10.2\n",
            "tomli                         2.0.1\n",
            "toolz                         0.12.0\n",
            "torch                         2.0.0+cu118\n",
            "torchaudio                    2.0.1+cu118\n",
            "torchdata                     0.6.0\n",
            "torchsummary                  1.5.1\n",
            "torchtext                     0.15.1\n",
            "torchvision                   0.15.1+cu118\n",
            "tornado                       6.2\n",
            "tqdm                          4.65.0\n",
            "traitlets                     5.7.1\n",
            "triton                        2.0.0\n",
            "tweepy                        4.13.0\n",
            "typer                         0.7.0\n",
            "typing_extensions             4.5.0\n",
            "tzdata                        2023.3\n",
            "tzlocal                       4.3\n",
            "uritemplate                   4.1.1\n",
            "urllib3                       1.26.15\n",
            "vega-datasets                 0.9.0\n",
            "visions                       0.7.4\n",
            "wasabi                        1.1.1\n",
            "wcwidth                       0.2.6\n",
            "webcolors                     1.13\n",
            "webencodings                  0.5.1\n",
            "websocket-client              1.5.1\n",
            "Werkzeug                      2.2.3\n",
            "wheel                         0.40.0\n",
            "widgetsnbextension            3.6.4\n",
            "wordcloud                     1.8.2.2\n",
            "wrapt                         1.14.1\n",
            "xarray                        2022.12.0\n",
            "xarray-einstats               0.5.1\n",
            "xgboost                       1.7.5\n",
            "xlrd                          2.0.1\n",
            "yellowbrick                   1.5\n",
            "yfinance                      0.2.14\n",
            "zict                          2.2.0\n",
            "zipp                          3.15.0\n"
          ]
        }
      ]
    },
    {
      "cell_type": "code",
      "source": [
        "pip install numpy"
      ],
      "metadata": {
        "colab": {
          "base_uri": "https://localhost:8080/"
        },
        "id": "Wmylf78iuh8I",
        "outputId": "8529d2b6-cfe2-463d-bcbb-22bc8ee9953b"
      },
      "execution_count": 528,
      "outputs": [
        {
          "output_type": "stream",
          "name": "stdout",
          "text": [
            "Looking in indexes: https://pypi.org/simple, https://us-python.pkg.dev/colab-wheels/public/simple/\n",
            "Requirement already satisfied: numpy in /usr/local/lib/python3.9/dist-packages (1.22.4)\n"
          ]
        }
      ]
    },
    {
      "cell_type": "code",
      "source": [
        "pip install pydicom"
      ],
      "metadata": {
        "colab": {
          "base_uri": "https://localhost:8080/"
        },
        "id": "T2hiC_6Rupb4",
        "outputId": "5cc33f28-1ea8-4d2c-80c9-dd137747ba9e"
      },
      "execution_count": 529,
      "outputs": [
        {
          "output_type": "stream",
          "name": "stdout",
          "text": [
            "Looking in indexes: https://pypi.org/simple, https://us-python.pkg.dev/colab-wheels/public/simple/\n",
            "Requirement already satisfied: pydicom in /usr/local/lib/python3.9/dist-packages (2.3.1)\n"
          ]
        }
      ]
    },
    {
      "cell_type": "code",
      "source": [
        "import numpy"
      ],
      "metadata": {
        "id": "bShzZ9MPvFvg"
      },
      "execution_count": 536,
      "outputs": []
    },
    {
      "cell_type": "code",
      "source": [
        "array([1, 2, 3])"
      ],
      "metadata": {
        "id": "KY4ZJgK5vbw5",
        "colab": {
          "base_uri": "https://localhost:8080/",
          "height": 165
        },
        "outputId": "5c59dbfa-d0c3-4762-8539-aaa24f50b6b9"
      },
      "execution_count": 535,
      "outputs": [
        {
          "output_type": "error",
          "ename": "NameError",
          "evalue": "ignored",
          "traceback": [
            "\u001b[0;31m---------------------------------------------------------------------------\u001b[0m",
            "\u001b[0;31mNameError\u001b[0m                                 Traceback (most recent call last)",
            "\u001b[0;32m<ipython-input-535-5942bb5430c4>\u001b[0m in \u001b[0;36m<cell line: 1>\u001b[0;34m()\u001b[0m\n\u001b[0;32m----> 1\u001b[0;31m \u001b[0marray\u001b[0m\u001b[0;34m(\u001b[0m\u001b[0;34m[\u001b[0m\u001b[0;36m1\u001b[0m\u001b[0;34m,\u001b[0m \u001b[0;36m2\u001b[0m\u001b[0;34m,\u001b[0m \u001b[0;36m3\u001b[0m\u001b[0;34m]\u001b[0m\u001b[0;34m)\u001b[0m\u001b[0;34m\u001b[0m\u001b[0;34m\u001b[0m\u001b[0m\n\u001b[0m",
            "\u001b[0;31mNameError\u001b[0m: name 'array' is not defined"
          ]
        }
      ]
    },
    {
      "cell_type": "code",
      "source": [
        "numpy.array([1, 2, 3])"
      ],
      "metadata": {
        "colab": {
          "base_uri": "https://localhost:8080/"
        },
        "id": "y7DJE_PWvitp",
        "outputId": "05048226-9eae-4e2e-befc-417ca9da12cd"
      },
      "execution_count": 537,
      "outputs": [
        {
          "output_type": "execute_result",
          "data": {
            "text/plain": [
              "array([1, 2, 3])"
            ]
          },
          "metadata": {},
          "execution_count": 537
        }
      ]
    },
    {
      "cell_type": "code",
      "source": [
        "import numpy as np"
      ],
      "metadata": {
        "id": "GnLAiJNKwKSR"
      },
      "execution_count": 538,
      "outputs": []
    },
    {
      "cell_type": "code",
      "source": [
        "np.array([1, 2, 3])"
      ],
      "metadata": {
        "colab": {
          "base_uri": "https://localhost:8080/"
        },
        "id": "wPcqcEMcwQYZ",
        "outputId": "f0487724-4e43-4961-ba23-16e678d076b1"
      },
      "execution_count": 539,
      "outputs": [
        {
          "output_type": "execute_result",
          "data": {
            "text/plain": [
              "array([1, 2, 3])"
            ]
          },
          "metadata": {},
          "execution_count": 539
        }
      ]
    },
    {
      "cell_type": "code",
      "source": [
        "from numpy import array"
      ],
      "metadata": {
        "id": "0E6bMMMzwhrR"
      },
      "execution_count": 540,
      "outputs": []
    },
    {
      "cell_type": "code",
      "source": [
        "array([1, 2, 3])"
      ],
      "metadata": {
        "colab": {
          "base_uri": "https://localhost:8080/"
        },
        "id": "_ZWHBhAKwmyb",
        "outputId": "537c44ab-6287-4343-db36-f5a10cd4ef32"
      },
      "execution_count": 541,
      "outputs": [
        {
          "output_type": "execute_result",
          "data": {
            "text/plain": [
              "array([1, 2, 3])"
            ]
          },
          "metadata": {},
          "execution_count": 541
        }
      ]
    },
    {
      "cell_type": "code",
      "source": [
        "import numpy as np\n",
        "fam = ['Pedro', 1.70, 'Cristiane', 1.65, 'Dulce', 1.30, 'Gabriela', 1.55]\n",
        "\n",
        "fam_ext = fam + [\"Maciel\", 1.70]\n",
        "\n",
        "print(str(len(fam_ext)) + \" elements in fam_ext\")"
      ],
      "metadata": {
        "colab": {
          "base_uri": "https://localhost:8080/"
        },
        "id": "9EJb86_dwwyJ",
        "outputId": "48fa5c54-8c92-4a23-ca9a-98f0cd536b09"
      },
      "execution_count": 542,
      "outputs": [
        {
          "output_type": "stream",
          "name": "stdout",
          "text": [
            "10 elements in fam_ext\n"
          ]
        }
      ]
    },
    {
      "cell_type": "code",
      "source": [
        "np_fam = np.array(fam_ext)\n",
        "print(type(fam_ext))\n",
        "print(type(np_fam))"
      ],
      "metadata": {
        "colab": {
          "base_uri": "https://localhost:8080/"
        },
        "id": "06VgDx8fyFpZ",
        "outputId": "902e6313-4292-4ca1-b1d3-02143ceb240d"
      },
      "execution_count": 543,
      "outputs": [
        {
          "output_type": "stream",
          "name": "stdout",
          "text": [
            "<class 'list'>\n",
            "<class 'numpy.ndarray'>\n"
          ]
        }
      ]
    },
    {
      "cell_type": "code",
      "source": [
        "r = 0.43\n",
        "\n",
        "import math\n",
        "\n",
        "C = 2 * math.pi * r\n",
        "\n",
        "A = math.pi * r ** 2\n",
        "\n",
        "print(\"Circumference: \" + str(C))\n",
        "print(\"Área: \" + str(A)) "
      ],
      "metadata": {
        "colab": {
          "base_uri": "https://localhost:8080/"
        },
        "id": "XvCQeNJ3yi8R",
        "outputId": "0e339ae0-a7d6-40cb-d030-166a094f0000"
      },
      "execution_count": 544,
      "outputs": [
        {
          "output_type": "stream",
          "name": "stdout",
          "text": [
            "Circumference: 2.701769682087222\n",
            "Área: 0.5808804816487527\n"
          ]
        }
      ]
    },
    {
      "cell_type": "code",
      "source": [
        "height = [1.73, 1.68, 1.71, 1.89, 1.79]\n",
        "height"
      ],
      "metadata": {
        "colab": {
          "base_uri": "https://localhost:8080/"
        },
        "id": "nPAcCIGt1FPq",
        "outputId": "e6a5002b-cf5b-4cf4-aa96-b129c29d6b1b"
      },
      "execution_count": 545,
      "outputs": [
        {
          "output_type": "execute_result",
          "data": {
            "text/plain": [
              "[1.73, 1.68, 1.71, 1.89, 1.79]"
            ]
          },
          "metadata": {},
          "execution_count": 545
        }
      ]
    },
    {
      "cell_type": "code",
      "source": [
        "weight = [65.4, 59.2, 63.6, 88.4, 68.7]\n",
        "weight"
      ],
      "metadata": {
        "colab": {
          "base_uri": "https://localhost:8080/"
        },
        "id": "X0PuluqI1UhK",
        "outputId": "de44dd78-451d-431b-d161-fe80e5fbb07d"
      },
      "execution_count": 546,
      "outputs": [
        {
          "output_type": "execute_result",
          "data": {
            "text/plain": [
              "[65.4, 59.2, 63.6, 88.4, 68.7]"
            ]
          },
          "metadata": {},
          "execution_count": 546
        }
      ]
    },
    {
      "cell_type": "code",
      "source": [
        "weight / height ** 2"
      ],
      "metadata": {
        "id": "m0LEFu0w1gXs"
      },
      "execution_count": null,
      "outputs": []
    },
    {
      "cell_type": "code",
      "source": [
        "import numpy as np\n",
        "np_height = np.array(height)\n",
        "print(np_height)"
      ],
      "metadata": {
        "colab": {
          "base_uri": "https://localhost:8080/"
        },
        "id": "FRW0985I14v6",
        "outputId": "421f92ea-931f-41fd-b48a-3436a8d92d6a"
      },
      "execution_count": 549,
      "outputs": [
        {
          "output_type": "stream",
          "name": "stdout",
          "text": [
            "[1.73 1.68 1.71 1.89 1.79]\n"
          ]
        }
      ]
    },
    {
      "cell_type": "code",
      "source": [
        "np_weight = np.array(weight)\n",
        "print(np_weight)"
      ],
      "metadata": {
        "colab": {
          "base_uri": "https://localhost:8080/"
        },
        "id": "3ssP-u2F2Ioi",
        "outputId": "5066e19a-ca9e-4b3c-fce1-9f6bd8f838aa"
      },
      "execution_count": 550,
      "outputs": [
        {
          "output_type": "stream",
          "name": "stdout",
          "text": [
            "[65.4 59.2 63.6 88.4 68.7]\n"
          ]
        }
      ]
    },
    {
      "cell_type": "code",
      "source": [
        "bmi = np_weight / np_height ** 2\n",
        "print(bmi)"
      ],
      "metadata": {
        "colab": {
          "base_uri": "https://localhost:8080/"
        },
        "id": "X5bldFW12Xlm",
        "outputId": "97099423-664c-4a0e-c470-c92af2861262"
      },
      "execution_count": 551,
      "outputs": [
        {
          "output_type": "stream",
          "name": "stdout",
          "text": [
            "[21.85171573 20.97505669 21.75028214 24.7473475  21.44127836]\n"
          ]
        }
      ]
    },
    {
      "cell_type": "code",
      "source": [
        "pyton_list = [1, 2, 3]\n",
        "numpy_array = np.array([1, 2, 3])"
      ],
      "metadata": {
        "id": "8qCeoapZ3Rja"
      },
      "execution_count": 552,
      "outputs": []
    },
    {
      "cell_type": "code",
      "source": [
        "pyton_list + pyton_list"
      ],
      "metadata": {
        "colab": {
          "base_uri": "https://localhost:8080/"
        },
        "id": "NBwi3K1Z3g3S",
        "outputId": "8a325f26-f833-4801-8d2f-56b2ed52c941"
      },
      "execution_count": 553,
      "outputs": [
        {
          "output_type": "execute_result",
          "data": {
            "text/plain": [
              "[1, 2, 3, 1, 2, 3]"
            ]
          },
          "metadata": {},
          "execution_count": 553
        }
      ]
    },
    {
      "cell_type": "code",
      "source": [
        "numpy_array + numpy_array"
      ],
      "metadata": {
        "colab": {
          "base_uri": "https://localhost:8080/"
        },
        "id": "CPH1pUVf3k46",
        "outputId": "8f4eccdc-3447-499d-d3dc-806925735bf4"
      },
      "execution_count": 554,
      "outputs": [
        {
          "output_type": "execute_result",
          "data": {
            "text/plain": [
              "array([2, 4, 6])"
            ]
          },
          "metadata": {},
          "execution_count": 554
        }
      ]
    },
    {
      "cell_type": "code",
      "source": [
        "bmi"
      ],
      "metadata": {
        "colab": {
          "base_uri": "https://localhost:8080/"
        },
        "id": "vL-apwPI4LLb",
        "outputId": "0c01f727-df5a-4218-9385-defc45d7f229"
      },
      "execution_count": 555,
      "outputs": [
        {
          "output_type": "execute_result",
          "data": {
            "text/plain": [
              "array([21.85171573, 20.97505669, 21.75028214, 24.7473475 , 21.44127836])"
            ]
          },
          "metadata": {},
          "execution_count": 555
        }
      ]
    },
    {
      "cell_type": "code",
      "source": [
        "bmi[1]"
      ],
      "metadata": {
        "colab": {
          "base_uri": "https://localhost:8080/"
        },
        "id": "XxFMdSFo4YAe",
        "outputId": "784de7ea-e576-4cb3-bda0-611a544395e3"
      },
      "execution_count": 556,
      "outputs": [
        {
          "output_type": "execute_result",
          "data": {
            "text/plain": [
              "20.97505668934241"
            ]
          },
          "metadata": {},
          "execution_count": 556
        }
      ]
    },
    {
      "cell_type": "code",
      "source": [
        "bmi > 23"
      ],
      "metadata": {
        "colab": {
          "base_uri": "https://localhost:8080/"
        },
        "id": "JqOT3BIh4c9u",
        "outputId": "f2dc628c-b0ab-4089-ddc6-3dc978a974f4"
      },
      "execution_count": 557,
      "outputs": [
        {
          "output_type": "execute_result",
          "data": {
            "text/plain": [
              "array([False, False, False,  True, False])"
            ]
          },
          "metadata": {},
          "execution_count": 557
        }
      ]
    },
    {
      "cell_type": "code",
      "source": [
        "bmi[bmi > 23]"
      ],
      "metadata": {
        "colab": {
          "base_uri": "https://localhost:8080/"
        },
        "id": "m96mVMGG4iun",
        "outputId": "b24f8005-4d2c-42fc-bb14-16cda9fdbf12"
      },
      "execution_count": 558,
      "outputs": [
        {
          "output_type": "execute_result",
          "data": {
            "text/plain": [
              "array([24.7473475])"
            ]
          },
          "metadata": {},
          "execution_count": 558
        }
      ]
    },
    {
      "cell_type": "markdown",
      "source": [
        "**SÉTIMA AULA - 10/04**"
      ],
      "metadata": {
        "id": "Z0nk4HUNMuPc"
      }
    },
    {
      "cell_type": "code",
      "source": [
        "np_2d = np.array([[1.73, 1.68, 1.71, 1.89, 1.79],\n",
        "                 [65.4, 59.2, 63.6, 88.4, 69.7]])\n",
        "np_2d"
      ],
      "metadata": {
        "colab": {
          "base_uri": "https://localhost:8080/"
        },
        "id": "UqF7iIEXEy5p",
        "outputId": "a035db27-d248-449a-bb5b-05dad39a8b94"
      },
      "execution_count": 561,
      "outputs": [
        {
          "output_type": "execute_result",
          "data": {
            "text/plain": [
              "array([[ 1.73,  1.68,  1.71,  1.89,  1.79],\n",
              "       [65.4 , 59.2 , 63.6 , 88.4 , 69.7 ]])"
            ]
          },
          "metadata": {},
          "execution_count": 561
        }
      ]
    },
    {
      "cell_type": "code",
      "source": [
        "np_2d.shape"
      ],
      "metadata": {
        "colab": {
          "base_uri": "https://localhost:8080/"
        },
        "id": "5gUICMTfHO-R",
        "outputId": "7144e591-e880-4922-acff-bc28c591413f"
      },
      "execution_count": 562,
      "outputs": [
        {
          "output_type": "execute_result",
          "data": {
            "text/plain": [
              "(2, 5)"
            ]
          },
          "metadata": {},
          "execution_count": 562
        }
      ]
    },
    {
      "cell_type": "code",
      "source": [
        "np.array([[1.73, 1.68, 1.71, 1.89, 1.79],\n",
        "         [65.4, 59.2, 63.6, 88.4, '69.7']])"
      ],
      "metadata": {
        "colab": {
          "base_uri": "https://localhost:8080/"
        },
        "id": "FhzIhoPXHUTJ",
        "outputId": "ee2455ed-5a36-4de6-a2e6-5820837710e7"
      },
      "execution_count": 563,
      "outputs": [
        {
          "output_type": "execute_result",
          "data": {
            "text/plain": [
              "array([['1.73', '1.68', '1.71', '1.89', '1.79'],\n",
              "       ['65.4', '59.2', '63.6', '88.4', '69.7']], dtype='<U32')"
            ]
          },
          "metadata": {},
          "execution_count": 563
        }
      ]
    },
    {
      "cell_type": "code",
      "source": [
        "np_2d = np.array([1.73, 1.68, 1.71, 1.89, 1.79])\n",
        "np_2d"
      ],
      "metadata": {
        "colab": {
          "base_uri": "https://localhost:8080/"
        },
        "id": "vAPUjFAuHmey",
        "outputId": "ea6f391c-8363-43df-ef1b-7ee0e5d8ea5a"
      },
      "execution_count": 565,
      "outputs": [
        {
          "output_type": "execute_result",
          "data": {
            "text/plain": [
              "array([1.73, 1.68, 1.71, 1.89, 1.79])"
            ]
          },
          "metadata": {},
          "execution_count": 565
        }
      ]
    },
    {
      "cell_type": "code",
      "source": [
        "np1_2d = np.array([[1.73, 1.68, 1.71, 1.89, 1.79],\n",
        "                  [65.4, 59.2, 63.6, 88.4, 69.7],\n",
        "                  [25.1, 22.2, 18.3, 35.4, 23.5]])\n",
        "np_2d"
      ],
      "metadata": {
        "colab": {
          "base_uri": "https://localhost:8080/"
        },
        "id": "XaozL0sNH6MJ",
        "outputId": "8083b926-f7f8-4c22-b475-0c502395e162"
      },
      "execution_count": 572,
      "outputs": [
        {
          "output_type": "execute_result",
          "data": {
            "text/plain": [
              "array([[ 1.73,  1.68,  1.71,  1.89,  1.79],\n",
              "       [65.4 , 59.2 , 63.6 , 88.4 , 69.7 ],\n",
              "       [25.1 , 22.2 , 18.3 , 35.4 , 23.5 ]])"
            ]
          },
          "metadata": {},
          "execution_count": 572
        }
      ]
    },
    {
      "cell_type": "code",
      "source": [
        "np2_2d = np.array([[1.73, 1.68, 1.71],\n",
        "                  [65.4, 59.2, 63.6],\n",
        "                  [25.1, 22.2, 18.3]])\n",
        "np_2d"
      ],
      "metadata": {
        "colab": {
          "base_uri": "https://localhost:8080/"
        },
        "id": "Md3k_RgeIrhi",
        "outputId": "32764d22-1e8b-4595-f629-1e83ec63a108"
      },
      "execution_count": 573,
      "outputs": [
        {
          "output_type": "execute_result",
          "data": {
            "text/plain": [
              "array([[ 1.73,  1.68,  1.71,  1.89,  1.79],\n",
              "       [65.4 , 59.2 , 63.6 , 88.4 , 69.7 ],\n",
              "       [25.1 , 22.2 , 18.3 , 35.4 , 23.5 ]])"
            ]
          },
          "metadata": {},
          "execution_count": 573
        }
      ]
    },
    {
      "cell_type": "code",
      "source": [
        "np_2d[0][2]"
      ],
      "metadata": {
        "colab": {
          "base_uri": "https://localhost:8080/"
        },
        "id": "u2Ugcp-_JayK",
        "outputId": "be441b8e-b3bf-4c38-e24e-e4b93ab8b35b"
      },
      "execution_count": 576,
      "outputs": [
        {
          "output_type": "execute_result",
          "data": {
            "text/plain": [
              "1.71"
            ]
          },
          "metadata": {},
          "execution_count": 576
        }
      ]
    },
    {
      "cell_type": "code",
      "source": [
        "np_2d[0,2]"
      ],
      "metadata": {
        "colab": {
          "base_uri": "https://localhost:8080/"
        },
        "id": "fJ1H4NG0Jjd8",
        "outputId": "8e331f68-fbb2-4738-a004-afa97e650b36"
      },
      "execution_count": 577,
      "outputs": [
        {
          "output_type": "execute_result",
          "data": {
            "text/plain": [
              "1.71"
            ]
          },
          "metadata": {},
          "execution_count": 577
        }
      ]
    },
    {
      "cell_type": "code",
      "source": [
        "np_2d[:,1:3]"
      ],
      "metadata": {
        "colab": {
          "base_uri": "https://localhost:8080/"
        },
        "id": "pGgDuBjfKDde",
        "outputId": "0e49a79d-6d9a-430e-ede1-10f4e9bde6ef"
      },
      "execution_count": 578,
      "outputs": [
        {
          "output_type": "execute_result",
          "data": {
            "text/plain": [
              "array([[ 1.68,  1.71],\n",
              "       [59.2 , 63.6 ],\n",
              "       [22.2 , 18.3 ]])"
            ]
          },
          "metadata": {},
          "execution_count": 578
        }
      ]
    },
    {
      "cell_type": "code",
      "source": [
        "np_2d[1,:]"
      ],
      "metadata": {
        "colab": {
          "base_uri": "https://localhost:8080/"
        },
        "id": "EjSTaw8WKLR_",
        "outputId": "691b5776-5851-4841-9b7d-0f9e464965b6"
      },
      "execution_count": 579,
      "outputs": [
        {
          "output_type": "execute_result",
          "data": {
            "text/plain": [
              "array([65.4, 59.2, 63.6, 88.4, 69.7])"
            ]
          },
          "metadata": {},
          "execution_count": 579
        }
      ]
    },
    {
      "cell_type": "code",
      "source": [
        "#\n",
        "baseball = [180, 215, 210, 210, 188, 176, 209, 200]\n",
        "#\n",
        "import numpy\n",
        "#\n",
        "np_baseball = np.array(baseball)\n",
        "#\n",
        "print(type(np_baseball))\n",
        "#\n",
        "print(np_baseball.shape)"
      ],
      "metadata": {
        "colab": {
          "base_uri": "https://localhost:8080/"
        },
        "id": "ROhZHZJFKgnV",
        "outputId": "62e7ec12-b755-4ab8-bebe-9a64d1b5ef4c"
      },
      "execution_count": 585,
      "outputs": [
        {
          "output_type": "stream",
          "name": "stdout",
          "text": [
            "<class 'numpy.ndarray'>\n",
            "(8,)\n"
          ]
        }
      ]
    },
    {
      "cell_type": "code",
      "source": [
        "import random as rd\n",
        "import numpy as np\n",
        "#\n",
        "height = range(150,210)\n",
        "#\n",
        "weight = range(50,149)\n",
        "#\n",
        "height = rd.sample(height,20)\n",
        "#\n",
        "weight = rd.sample(weight,20)\n",
        "#\n",
        "height_array = np.array(height) * 0.01\n",
        "#\n",
        "weight_array = np.array(weight)\n",
        "#\n",
        "bmi = weight_array / height_array ** 2\n",
        "#\n",
        "light = bmi < 21\n",
        "#\n",
        "print(light)\n",
        "#\n",
        "print(bmi[bmi < 21])\n",
        "#\n",
        "print(weight_array[8:16])\n",
        "#\n",
        "print(height_array[11:20])"
      ],
      "metadata": {
        "colab": {
          "base_uri": "https://localhost:8080/"
        },
        "id": "IA33w3cCM33D",
        "outputId": "299b928f-b96f-4639-b8f0-902f17a486de"
      },
      "execution_count": 603,
      "outputs": [
        {
          "output_type": "stream",
          "name": "stdout",
          "text": [
            "[False  True False False False False  True False False False  True False\n",
            "  True False False False False  True False False]\n",
            "[17.61772522 18.74219075 16.27604167 16.83103222 20.95717116]\n",
            "[133 130  60  85  64 109 126 100]\n",
            "[1.89 1.95 1.64 1.6  1.55 1.53 1.62 1.77 1.76]\n"
          ]
        }
      ]
    },
    {
      "cell_type": "code",
      "source": [
        "#\n",
        "baseball = [[180, 78.4],\n",
        "           [215, 102.7],\n",
        "           [210, 98.5],\n",
        "           [188, 75.2]]\n",
        "#\n",
        "import numpy as np\n",
        "#\n",
        "np_baseball = np.array(baseball)\n",
        "#\n",
        "print(np_baseball[2,])\n",
        "#\n",
        "np_weight_lb = np_baseball[:,1]\n",
        "#\n",
        "print(np_baseball[1,1])\n",
        "#\n",
        "print(np.mean(np_baseball[:,0]))\n",
        "#\n",
        "print(np.median(np_baseball[1,:]))"
      ],
      "metadata": {
        "colab": {
          "base_uri": "https://localhost:8080/"
        },
        "id": "pPKlPaUtUYJV",
        "outputId": "2f85ab5d-3b3b-454c-8b09-f64edb01c2c7"
      },
      "execution_count": 624,
      "outputs": [
        {
          "output_type": "stream",
          "name": "stdout",
          "text": [
            "[210.   98.5]\n",
            "102.7\n",
            "198.25\n",
            "158.85\n"
          ]
        }
      ]
    }
  ]
}