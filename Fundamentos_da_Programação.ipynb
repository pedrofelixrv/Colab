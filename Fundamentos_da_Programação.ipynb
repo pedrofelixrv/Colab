{
  "nbformat": 4,
  "nbformat_minor": 0,
  "metadata": {
    "colab": {
      "provenance": [],
      "authorship_tag": "ABX9TyPVZUk11HXHU7IIswt5iCWg",
      "include_colab_link": true
    },
    "kernelspec": {
      "name": "python3",
      "display_name": "Python 3"
    },
    "language_info": {
      "name": "python"
    }
  },
  "cells": [
    {
      "cell_type": "markdown",
      "metadata": {
        "id": "view-in-github",
        "colab_type": "text"
      },
      "source": [
        "<a href=\"https://colab.research.google.com/github/pedrofelixrv/FundamentosDaProgramacao/blob/main/Fundamentos_da_Programa%C3%A7%C3%A3o.ipynb\" target=\"_parent\"><img src=\"https://colab.research.google.com/assets/colab-badge.svg\" alt=\"Open In Colab\"/></a>"
      ]
    },
    {
      "cell_type": "markdown",
      "source": [
        "**PRIMEIRA AULA - 20/03**"
      ],
      "metadata": {
        "id": "st65YJjbKEip"
      }
    },
    {
      "cell_type": "code",
      "execution_count": 4,
      "metadata": {
        "id": "jELFuiK6rLEo"
      },
      "outputs": [],
      "source": [
        "# Atribuindo valores à variáveis.\n",
        "altura = 1.79\n",
        "peso = 68.7"
      ]
    },
    {
      "cell_type": "code",
      "source": [
        "# Mostrando o valor de uma variável.\n",
        "peso"
      ],
      "metadata": {
        "colab": {
          "base_uri": "https://localhost:8080/"
        },
        "id": "Ad8zwfWLjhif",
        "outputId": "f5cf29c3-d205-4c4a-d699-89a6375f1b45"
      },
      "execution_count": 5,
      "outputs": [
        {
          "output_type": "execute_result",
          "data": {
            "text/plain": [
              "68.7"
            ]
          },
          "metadata": {},
          "execution_count": 5
        }
      ]
    },
    {
      "cell_type": "code",
      "source": [
        "# Utilizando operação de divisão e potenciação com números.\n",
        "68.7 / 1.79 ** 2"
      ],
      "metadata": {
        "colab": {
          "base_uri": "https://localhost:8080/"
        },
        "id": "-_yn84ADlG09",
        "outputId": "1362a82b-c157-4c3e-ef4b-41dbb07428b1"
      },
      "execution_count": null,
      "outputs": [
        {
          "output_type": "execute_result",
          "data": {
            "text/plain": [
              "21.44127836209856"
            ]
          },
          "metadata": {},
          "execution_count": 3
        }
      ]
    },
    {
      "cell_type": "code",
      "source": [
        "# Utilizando operação de divisão e potenciação com as variáveis peso e altura.\n",
        "weight / height ** 2"
      ],
      "metadata": {
        "colab": {
          "base_uri": "https://localhost:8080/"
        },
        "id": "djjWdW0ClMoI",
        "outputId": "98b0f649-4bc7-48b4-a282-94c84b920089"
      },
      "execution_count": null,
      "outputs": [
        {
          "output_type": "execute_result",
          "data": {
            "text/plain": [
              "21.44127836209856"
            ]
          },
          "metadata": {},
          "execution_count": 4
        }
      ]
    },
    {
      "cell_type": "code",
      "source": [
        "# Atribuindo o valor da operação de divisão e potenciação à uma variável.\n",
        "bmi = weight / height ** 2\n",
        "bmi"
      ],
      "metadata": {
        "colab": {
          "base_uri": "https://localhost:8080/"
        },
        "id": "7QhQzfI2lYdi",
        "outputId": "6c7fbaae-e8b5-482a-85aa-5c93c6b6dbb1"
      },
      "execution_count": null,
      "outputs": [
        {
          "output_type": "execute_result",
          "data": {
            "text/plain": [
              "21.44127836209856"
            ]
          },
          "metadata": {},
          "execution_count": 5
        }
      ]
    },
    {
      "cell_type": "code",
      "source": [
        "# Utilizando o comando \"print\" para mostrar o valor da variável \"bmi\".\n",
        "print (bmi)"
      ],
      "metadata": {
        "colab": {
          "base_uri": "https://localhost:8080/"
        },
        "id": "F5xtNq4hln5t",
        "outputId": "1ef3f72b-dcea-425d-a0fd-61a02064085a"
      },
      "execution_count": null,
      "outputs": [
        {
          "output_type": "stream",
          "name": "stdout",
          "text": [
            "21.44127836209856\n"
          ]
        }
      ]
    },
    {
      "cell_type": "code",
      "source": [
        "# Utilizando o comando \"type\" para revelar o tipo da variável. São os tipos: Float ou flutuante, são variáveis que apresentam números decimais.\n",
        "type (bmi)"
      ],
      "metadata": {
        "colab": {
          "base_uri": "https://localhost:8080/"
        },
        "id": "F8JgyZitlylH",
        "outputId": "caf1664c-f08f-4a51-bb70-da0b3be1de63"
      },
      "execution_count": null,
      "outputs": [
        {
          "output_type": "execute_result",
          "data": {
            "text/plain": [
              "float"
            ]
          },
          "metadata": {},
          "execution_count": 7
        }
      ]
    },
    {
      "cell_type": "code",
      "source": [
        "# Int são o tipo de variáveis que possuem numéros inteiros.\n",
        "day_of_week = 5\n",
        "type (day_of_week)"
      ],
      "metadata": {
        "colab": {
          "base_uri": "https://localhost:8080/"
        },
        "id": "O80ER9l2l6av",
        "outputId": "e6a7445e-18f4-49f9-c38d-1dc592037b91"
      },
      "execution_count": null,
      "outputs": [
        {
          "output_type": "execute_result",
          "data": {
            "text/plain": [
              "int"
            ]
          },
          "metadata": {},
          "execution_count": 8
        }
      ]
    },
    {
      "cell_type": "code",
      "source": [
        "# Str ou string, são variáveis que possuem texto.\n",
        "x = 'body mass index'\n",
        "y = \"this works too\"\n",
        "type (y)"
      ],
      "metadata": {
        "colab": {
          "base_uri": "https://localhost:8080/"
        },
        "id": "q5Ym8OY5mHJb",
        "outputId": "fed50aaf-a8e7-4791-b2a9-7ae4385292a5"
      },
      "execution_count": null,
      "outputs": [
        {
          "output_type": "execute_result",
          "data": {
            "text/plain": [
              "str"
            ]
          },
          "metadata": {},
          "execution_count": 9
        }
      ]
    },
    {
      "cell_type": "code",
      "source": [
        "# O tipo de variável bool são variaveis que possuem o dois valores, verdadeiro ou falso, nunca uma terceira situação.\n",
        "z = True\n",
        "type (z)"
      ],
      "metadata": {
        "colab": {
          "base_uri": "https://localhost:8080/"
        },
        "id": "rXP67oFrmZoV",
        "outputId": "a5cc6dc1-ab6a-481f-c0f5-c8a187416e2c"
      },
      "execution_count": null,
      "outputs": [
        {
          "output_type": "execute_result",
          "data": {
            "text/plain": [
              "bool"
            ]
          },
          "metadata": {},
          "execution_count": 10
        }
      ]
    },
    {
      "cell_type": "code",
      "source": [
        "# Soma de números inteiro por meio do sinal \"+\".\n",
        "2 + 3"
      ],
      "metadata": {
        "colab": {
          "base_uri": "https://localhost:8080/"
        },
        "id": "AelhaL_8mf53",
        "outputId": "781d233c-2e6e-4df3-96aa-6b9c3854c62d"
      },
      "execution_count": null,
      "outputs": [
        {
          "output_type": "execute_result",
          "data": {
            "text/plain": [
              "5"
            ]
          },
          "metadata": {},
          "execution_count": 11
        }
      ]
    },
    {
      "cell_type": "code",
      "source": [
        "# Contatenação se trata do ato de unir strings. A seguir, um exemplo de contatenação da string 'ab' mais a string 'cd'.\n",
        "'ab' + 'cd'"
      ],
      "metadata": {
        "colab": {
          "base_uri": "https://localhost:8080/",
          "height": 35
        },
        "id": "wKrErt6lmkOb",
        "outputId": "e45bf90e-a0bc-4d1c-a23e-d98294e8fd2c"
      },
      "execution_count": null,
      "outputs": [
        {
          "output_type": "execute_result",
          "data": {
            "text/plain": [
              "'abcd'"
            ],
            "application/vnd.google.colaboratory.intrinsic+json": {
              "type": "string"
            }
          },
          "metadata": {},
          "execution_count": 12
        }
      ]
    },
    {
      "cell_type": "code",
      "source": [
        "# Também é possivel contatenar variáveis do tipo strin. Nesse caso, a variável A recebe 'ab' e a variável B recebe 'cd' que são contatenadas.\n",
        "A = 'ab'\n",
        "B = 'cd'\n",
        "A + B"
      ],
      "metadata": {
        "colab": {
          "base_uri": "https://localhost:8080/",
          "height": 35
        },
        "id": "sNVYwrPLmrb3",
        "outputId": "20ea4292-b65f-423f-aad2-124567a244ec"
      },
      "execution_count": null,
      "outputs": [
        {
          "output_type": "execute_result",
          "data": {
            "text/plain": [
              "'abcd'"
            ],
            "application/vnd.google.colaboratory.intrinsic+json": {
              "type": "string"
            }
          },
          "metadata": {},
          "execution_count": 13
        }
      ]
    },
    {
      "cell_type": "code",
      "source": [
        "# exemplo\n",
        "print(5/8)"
      ],
      "metadata": {
        "colab": {
          "base_uri": "https://localhost:8080/"
        },
        "id": "vF3q-l1bm4hk",
        "outputId": "c6adbad8-e1a9-42b4-8bc5-ef2d0cca6c03"
      },
      "execution_count": null,
      "outputs": [
        {
          "output_type": "stream",
          "name": "stdout",
          "text": [
            "0.625\n"
          ]
        }
      ]
    },
    {
      "cell_type": "code",
      "source": [
        "# soma de 7 com 8\n",
        "7 + 8"
      ],
      "metadata": {
        "colab": {
          "base_uri": "https://localhost:8080/"
        },
        "id": "ltkks0DKnCB7",
        "outputId": "8f93cd75-268c-4b07-fc83-f5929cc271f5"
      },
      "execution_count": null,
      "outputs": [
        {
          "output_type": "execute_result",
          "data": {
            "text/plain": [
              "15"
            ]
          },
          "metadata": {},
          "execution_count": 15
        }
      ]
    },
    {
      "cell_type": "code",
      "source": [
        "# Operação de soma e subtração atribuidas a uma variável.\n",
        "soma = 5 + 6\n",
        "print (soma)\n",
        "subtração = 5 - 6\n",
        "print (subtração)"
      ],
      "metadata": {
        "colab": {
          "base_uri": "https://localhost:8080/"
        },
        "id": "BEmWIdZPnbt5",
        "outputId": "b54e03d1-74c8-4789-a57d-c5013ab849d3"
      },
      "execution_count": null,
      "outputs": [
        {
          "output_type": "stream",
          "name": "stdout",
          "text": [
            "11\n",
            "-1\n"
          ]
        }
      ]
    },
    {
      "cell_type": "code",
      "source": [
        "# Operação de potenciação, multiplicação e resto de divisão atribuidas a uma variável.\n",
        "pontência = 5 ** 3\n",
        "multiplicação = 5 * 3\n",
        "resto_da_divisão = 5 % 3\n",
        "print (pontência)\n",
        "print (multiplicação)\n",
        "print (resto_da_divisão)"
      ],
      "metadata": {
        "colab": {
          "base_uri": "https://localhost:8080/"
        },
        "id": "4KiIZIZGoDy6",
        "outputId": "615c5690-5644-4193-a0e2-189544625d11"
      },
      "execution_count": null,
      "outputs": [
        {
          "output_type": "stream",
          "name": "stdout",
          "text": [
            "125\n",
            "15\n",
            "2\n"
          ]
        }
      ]
    },
    {
      "cell_type": "code",
      "source": [
        "# Operação sendo atribuida a uma variável.\n",
        "rendimento = 100 * 1.1 ** 7\n",
        "print (rendimento)"
      ],
      "metadata": {
        "colab": {
          "base_uri": "https://localhost:8080/"
        },
        "id": "oyVXdKazoKKM",
        "outputId": "b8bbc1a2-5557-4b65-b6a6-b6467e875c66"
      },
      "execution_count": null,
      "outputs": [
        {
          "output_type": "stream",
          "name": "stdout",
          "text": [
            "194.87171000000012\n"
          ]
        }
      ]
    },
    {
      "cell_type": "markdown",
      "source": [
        "**SEGUNDA AULA - 22/03**"
      ],
      "metadata": {
        "id": "a70uDyu1PuH6"
      }
    },
    {
      "cell_type": "code",
      "source": [
        "# Operação realizada com variáveis e contatenação de uma variável com ela mesmo.\n",
        "savings = 100\n",
        "growth_multiplier = 1.1\n",
        "desc = 'compound interest'\n",
        "year1 = savings * growth_multiplier\n",
        "print (type(year1))\n",
        "doubledesc = desc + desc\n",
        "print (doubledesc)"
      ],
      "metadata": {
        "colab": {
          "base_uri": "https://localhost:8080/"
        },
        "id": "-jLUZuykoUns",
        "outputId": "edb9fe6b-ae99-401f-8f7b-225d7310efdd"
      },
      "execution_count": null,
      "outputs": [
        {
          "output_type": "stream",
          "name": "stdout",
          "text": [
            "<class 'float'>\n",
            "compound interestcompound interest\n"
          ]
        }
      ]
    },
    {
      "cell_type": "code",
      "source": [
        "# Operação de conversão de uma variável do tipo string para uma variável do tipo float.\n",
        "pi_string = '3.1415926'\n",
        "pi_float = float (pi_string)\n",
        "print (type(pi_string))\n",
        "print (type(pi_float))"
      ],
      "metadata": {
        "colab": {
          "base_uri": "https://localhost:8080/"
        },
        "id": "LhPzD0Epobjy",
        "outputId": "362d49b6-82b9-4cb0-eb68-6565f1438329"
      },
      "execution_count": null,
      "outputs": [
        {
          "output_type": "stream",
          "name": "stdout",
          "text": [
            "<class 'str'>\n",
            "<class 'float'>\n"
          ]
        }
      ]
    },
    {
      "cell_type": "code",
      "source": [
        "savings = 100\n",
        "result = 100 * 1.10 ** 7\n",
        "# print (\"I started with\" + savings + \"and now have\" + result + \". Awesome!\")\n",
        "\n",
        "# Não é possível contatenar str com número. Para corrigir o problema, convertemos os números para texto, ou colamos virgulas entre os momentos, separando 'str' de 'int' e 'float'\n",
        "print (\"I started with $\" + str(savings) + \"and now have $\" + str(result) + \". Awesome!\")\n",
        "# ou\n",
        "print (\"I started with $\", savings, \"and now have $\", result, \". Awesome!\")"
      ],
      "metadata": {
        "colab": {
          "base_uri": "https://localhost:8080/"
        },
        "id": "8dJARWs2opfA",
        "outputId": "f9eef8b7-e970-4f72-d8ef-300882bf798c"
      },
      "execution_count": null,
      "outputs": [
        {
          "output_type": "stream",
          "name": "stdout",
          "text": [
            "I started with $100and now have $194.87171000000012. Awesome!\n",
            "I started with $ 100 and now have $ 194.87171000000012 . Awesome!\n"
          ]
        }
      ]
    },
    {
      "cell_type": "markdown",
      "source": [
        "**TERCEIRA AULA - 28/03**"
      ],
      "metadata": {
        "id": "Ihfm9NhDUDZd"
      }
    },
    {
      "cell_type": "code",
      "source": [
        "  # Atribuindo uma lista, que ficam entre colchetes, a uma variável. O que está entre [] e separados por virgula são os elementos dessa lista.\n",
        "  fam = [1.73, 1.68, 1.71, 1.89]\n",
        "  fam"
      ],
      "metadata": {
        "colab": {
          "base_uri": "https://localhost:8080/"
        },
        "id": "IFHixAAv9K7k",
        "outputId": "f104c427-d81c-4f6b-aac3-1bb3d6cd3945"
      },
      "execution_count": null,
      "outputs": [
        {
          "output_type": "execute_result",
          "data": {
            "text/plain": [
              "[1.73, 1.68, 1.71, 1.89]"
            ]
          },
          "metadata": {},
          "execution_count": 1
        }
      ]
    },
    {
      "cell_type": "code",
      "source": [
        "# Dentro de uma lista é possível coexistir string, int, float e etc.\n",
        "fam = ['Pedro', 1.70, 'Cristiane', 1.65, 'Dulce', 1.30, 'Gabriela', 1.55]\n",
        "fam"
      ],
      "metadata": {
        "colab": {
          "base_uri": "https://localhost:8080/"
        },
        "id": "ts87FmtD-QBD",
        "outputId": "2a5ed216-67e0-4736-8e6a-d8482d8b744e"
      },
      "execution_count": null,
      "outputs": [
        {
          "output_type": "execute_result",
          "data": {
            "text/plain": [
              "['Pedro', 1.7, 'Cristiane', 1.65, 'Dulce', 1.3, 'Gabriela', 1.55]"
            ]
          },
          "metadata": {},
          "execution_count": 5
        }
      ]
    },
    {
      "cell_type": "code",
      "source": [
        "# Dentro de uma lista é possível que haja outras listas. Nesse exemplo, a lista \"fam2\" possui outras listas em seu valor, essas sub-listas são separadas por [].\n",
        "fam2 = [['Pedro', 1.70],\n",
        "        ['Cristiane', 1.65],\n",
        "        ['Dulce', 1.30],\n",
        "        ['Gabriela', 1.55]]\n",
        "fam2"
      ],
      "metadata": {
        "colab": {
          "base_uri": "https://localhost:8080/"
        },
        "id": "fcRIx4H8_L4c",
        "outputId": "19b69b73-692b-46c3-8b24-4c2fa7969de7"
      },
      "execution_count": null,
      "outputs": [
        {
          "output_type": "execute_result",
          "data": {
            "text/plain": [
              "[['Pedro', 1.7], ['Cristiane', 1.65], ['Dulce', 1.3], ['Gabriela', 1.55]]"
            ]
          },
          "metadata": {},
          "execution_count": 6
        }
      ]
    },
    {
      "cell_type": "code",
      "source": [
        "# O tipo da varíavel \"fam\" é \"list\"\n",
        "type(fam)"
      ],
      "metadata": {
        "colab": {
          "base_uri": "https://localhost:8080/"
        },
        "id": "V5sXRkJm_3CM",
        "outputId": "3aaeab8b-6a7a-4779-9df9-a4038350ab3c"
      },
      "execution_count": null,
      "outputs": [
        {
          "output_type": "execute_result",
          "data": {
            "text/plain": [
              "list"
            ]
          },
          "metadata": {},
          "execution_count": 7
        }
      ]
    },
    {
      "cell_type": "code",
      "source": [
        "type(fam2)"
      ],
      "metadata": {
        "colab": {
          "base_uri": "https://localhost:8080/"
        },
        "id": "YN22rcaV_6wU",
        "outputId": "630e4681-ebcb-4083-cc0a-90dde33982c7"
      },
      "execution_count": null,
      "outputs": [
        {
          "output_type": "execute_result",
          "data": {
            "text/plain": [
              "list"
            ]
          },
          "metadata": {},
          "execution_count": 8
        }
      ]
    },
    {
      "cell_type": "code",
      "source": [
        "# Atribuindo valores a variáveis para criar uma lista a partir delas.\n",
        "# Áreas dos compartimentos\n",
        "hall = 14.0\n",
        "kit = 18.0\n",
        "liv = 20.0\n",
        "bed = 10.75\n",
        "bath = 9.50\n",
        "# Criando uma lista com as áreas dos compartimentos\n",
        "áreas = [hall, kit, liv, bed, bath]\n",
        "# \"Printando\" a lista das áreas\n",
        "print(áreas)\n",
        "# Adaptando a lista\n",
        "áreas = 'hallway', hall, 'kitchen', kit, 'living room', liv, 'bedroom', bed, 'bathroom', bath\n",
        "print(áreas)"
      ],
      "metadata": {
        "colab": {
          "base_uri": "https://localhost:8080/"
        },
        "id": "269C7jLQAwc0",
        "outputId": "98140140-82a6-467e-a3b7-8ff9cf841eb2"
      },
      "execution_count": null,
      "outputs": [
        {
          "output_type": "stream",
          "name": "stdout",
          "text": [
            "[14.0, 18.0, 20.0, 10.75, 9.5]\n",
            "('hallway', 14.0, 'kitchen', 18.0, 'living room', 20.0, 'bedroom', 10.75, 'bathroom', 9.5)\n"
          ]
        }
      ]
    },
    {
      "cell_type": "code",
      "source": [
        "A = [1, 2, 3, 4]\n",
        "# \"A\" é uma lista qye possui quatro elementos inteiros\n",
        "B =[[1, 2, 3], [4, 5, 6]]\n",
        "# \"B\" é uma lista na qual possui outras duas lista dentro, sendo cada lista possuindo três elementos inteiros\n",
        "C = [1 + 2, 'A' * 5, 3]\n",
        "# \"C\" é uma lista na qual possui três elementos, sendo o primeiro elemento uma soma de inteiros, o segundo elemento a multiplicação de uma string, e o terceiro elemento um inteiro."
      ],
      "metadata": {
        "id": "PdVd8PZwEyYr"
      },
      "execution_count": null,
      "outputs": []
    },
    {
      "cell_type": "code",
      "source": [
        "# Lista de listas das áreas dos compartimentos\n",
        "house = [['hallway,', hall],\n",
        "         ['kitchen', kit],\n",
        "         ['living room', liv],\n",
        "         ['bedroom', bed],\n",
        "         ['bathroom', bath]]\n",
        "#  \"Printando\" a lista das lista\n",
        "print(house)\n",
        "# \"Printando\" o tipo da variável \"house\"\n",
        "print(type(house))"
      ],
      "metadata": {
        "colab": {
          "base_uri": "https://localhost:8080/"
        },
        "id": "mqa3GL5bGfI7",
        "outputId": "6ff4fcf9-aeb8-4111-9fbb-d97b5bd11181"
      },
      "execution_count": null,
      "outputs": [
        {
          "output_type": "stream",
          "name": "stdout",
          "text": [
            "[['hallway,', 14.0], ['kitchen', 18.0], ['living room', 20.0], ['bedroom', 10.75], ['bathroom', 9.5]]\n",
            "<class 'list'>\n"
          ]
        }
      ]
    },
    {
      "cell_type": "code",
      "source": [
        "# Buscando o segundo elemento da lista \"fam\"\n",
        "fam[2]"
      ],
      "metadata": {
        "colab": {
          "base_uri": "https://localhost:8080/",
          "height": 35
        },
        "id": "ISTCT_PMIXTr",
        "outputId": "9264b8b2-6506-4e6d-f1c1-941178819850"
      },
      "execution_count": null,
      "outputs": [
        {
          "output_type": "execute_result",
          "data": {
            "text/plain": [
              "'Cristiane'"
            ],
            "application/vnd.google.colaboratory.intrinsic+json": {
              "type": "string"
            }
          },
          "metadata": {},
          "execution_count": 17
        }
      ]
    },
    {
      "cell_type": "code",
      "source": [
        "# Buscando o sexto elemento da lista \"fam\"\n",
        "fam[6]"
      ],
      "metadata": {
        "colab": {
          "base_uri": "https://localhost:8080/",
          "height": 35
        },
        "id": "wxhchdsoIZ8b",
        "outputId": "daf57299-b822-4334-8e10-628c42f40308"
      },
      "execution_count": null,
      "outputs": [
        {
          "output_type": "execute_result",
          "data": {
            "text/plain": [
              "'Gabriela'"
            ],
            "application/vnd.google.colaboratory.intrinsic+json": {
              "type": "string"
            }
          },
          "metadata": {},
          "execution_count": 19
        }
      ]
    },
    {
      "cell_type": "code",
      "source": [
        "# Buscando o segundo elemento da lista \"house\"\n",
        "house[2]"
      ],
      "metadata": {
        "colab": {
          "base_uri": "https://localhost:8080/"
        },
        "id": "5SMgoOU4Ikqi",
        "outputId": "e4c8a881-bde5-4bf9-fb72-dab82f1a5662"
      },
      "execution_count": null,
      "outputs": [
        {
          "output_type": "execute_result",
          "data": {
            "text/plain": [
              "['living room', 20.0]"
            ]
          },
          "metadata": {},
          "execution_count": 20
        }
      ]
    },
    {
      "cell_type": "code",
      "source": [
        "# Buscando o terceiro elemento da lista \"house\"\n",
        "house[3]"
      ],
      "metadata": {
        "colab": {
          "base_uri": "https://localhost:8080/"
        },
        "id": "QXWV152fJH5L",
        "outputId": "38a4efa7-b788-4e7c-be22-28cd37f62580"
      },
      "execution_count": null,
      "outputs": [
        {
          "output_type": "execute_result",
          "data": {
            "text/plain": [
              "['bedroom', 10.75]"
            ]
          },
          "metadata": {},
          "execution_count": 21
        }
      ]
    },
    {
      "cell_type": "code",
      "source": [
        "# Buscando o elemento da lista \"house\" de trás para frente por meio dos números negativos\n",
        "house[-2]"
      ],
      "metadata": {
        "colab": {
          "base_uri": "https://localhost:8080/"
        },
        "id": "0P1ZLaJ2JQlj",
        "outputId": "7e81c74f-ef48-44f6-bee2-f2a41e1f02b1"
      },
      "execution_count": null,
      "outputs": [
        {
          "output_type": "execute_result",
          "data": {
            "text/plain": [
              "['bedroom', 10.75]"
            ]
          },
          "metadata": {},
          "execution_count": 22
        }
      ]
    },
    {
      "cell_type": "code",
      "source": [
        "# Pegando a parte da lista \"fam\" apartir do sexto elemento até o oitavo, observando que a contagem dos elementos começa a partir do número 0. \n",
        "fam[6:8]"
      ],
      "metadata": {
        "colab": {
          "base_uri": "https://localhost:8080/"
        },
        "id": "GLzaiZKQJ8rC",
        "outputId": "11720e5d-7ca4-4097-c134-f8beaa08fcaa"
      },
      "execution_count": null,
      "outputs": [
        {
          "output_type": "execute_result",
          "data": {
            "text/plain": [
              "['Gabriela', 1.55]"
            ]
          },
          "metadata": {},
          "execution_count": 24
        }
      ]
    },
    {
      "cell_type": "code",
      "source": [
        "fam[2:4]"
      ],
      "metadata": {
        "colab": {
          "base_uri": "https://localhost:8080/"
        },
        "id": "5yGr2aNMKVTu",
        "outputId": "9258afe6-3f17-4bbf-b225-bed78c22a0af"
      },
      "execution_count": null,
      "outputs": [
        {
          "output_type": "execute_result",
          "data": {
            "text/plain": [
              "['Cristiane', 1.65]"
            ]
          },
          "metadata": {},
          "execution_count": 25
        }
      ]
    },
    {
      "cell_type": "code",
      "source": [
        "fam[4:6]"
      ],
      "metadata": {
        "colab": {
          "base_uri": "https://localhost:8080/"
        },
        "id": "a-rz1567KkYb",
        "outputId": "29c921fb-5d39-42e6-fd09-824ff3bff84a"
      },
      "execution_count": null,
      "outputs": [
        {
          "output_type": "execute_result",
          "data": {
            "text/plain": [
              "['Dulce', 1.3]"
            ]
          },
          "metadata": {},
          "execution_count": 26
        }
      ]
    },
    {
      "cell_type": "code",
      "source": [
        "# Pegando do quarto elemento até o final da lista \"fam\"\n",
        "fam[4:]"
      ],
      "metadata": {
        "colab": {
          "base_uri": "https://localhost:8080/"
        },
        "id": "nT4WuPlwLHYD",
        "outputId": "dd6f3341-39b9-4759-bfd6-59023ecd7ccf"
      },
      "execution_count": null,
      "outputs": [
        {
          "output_type": "execute_result",
          "data": {
            "text/plain": [
              "['Dulce', 1.3, 'Gabriela', 1.55]"
            ]
          },
          "metadata": {},
          "execution_count": 28
        }
      ]
    },
    {
      "cell_type": "code",
      "source": [
        "# \"Printando\" o segundo elemento da lista de áreas\n",
        "print(áreas[2])"
      ],
      "metadata": {
        "colab": {
          "base_uri": "https://localhost:8080/"
        },
        "id": "zRwqEZTGL4vS",
        "outputId": "bbaba703-1e09-4a87-aeba-8fa3d655bf97"
      },
      "execution_count": null,
      "outputs": [
        {
          "output_type": "stream",
          "name": "stdout",
          "text": [
            "kit\n"
          ]
        }
      ]
    },
    {
      "cell_type": "code",
      "source": [
        "# \"Printando\" o ultimo elemento usando o index negativo\n",
        "print(áreas[-1])"
      ],
      "metadata": {
        "colab": {
          "base_uri": "https://localhost:8080/"
        },
        "id": "aGgmUFeTMnLL",
        "outputId": "ae943e12-9d4a-482a-94e4-1e382fd53979"
      },
      "execution_count": null,
      "outputs": [
        {
          "output_type": "stream",
          "name": "stdout",
          "text": [
            "9.5\n"
          ]
        }
      ]
    },
    {
      "cell_type": "code",
      "source": [
        "# \"Printando\" o valor de \"living room\"\n",
        "print(áreas[4])"
      ],
      "metadata": {
        "colab": {
          "base_uri": "https://localhost:8080/"
        },
        "id": "c_xx5yWfM52C",
        "outputId": "174cf337-f802-4dcd-8b39-7ae64f151c86"
      },
      "execution_count": null,
      "outputs": [
        {
          "output_type": "stream",
          "name": "stdout",
          "text": [
            "living room\n"
          ]
        }
      ]
    }
  ]
}