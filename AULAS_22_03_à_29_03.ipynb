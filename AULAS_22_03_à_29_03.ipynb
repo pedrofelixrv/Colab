{
  "nbformat": 4,
  "nbformat_minor": 0,
  "metadata": {
    "colab": {
      "provenance": [],
      "authorship_tag": "ABX9TyOOr+tiUqKNwfoTnuPrBPaS",
      "include_colab_link": true
    },
    "kernelspec": {
      "name": "python3",
      "display_name": "Python 3"
    },
    "language_info": {
      "name": "python"
    }
  },
  "cells": [
    {
      "cell_type": "markdown",
      "metadata": {
        "id": "view-in-github",
        "colab_type": "text"
      },
      "source": [
        "<a href=\"https://colab.research.google.com/github/pedrofelixrv/Colab/blob/main/AULAS_22_03_%C3%A0_29_03.ipynb\" target=\"_parent\"><img src=\"https://colab.research.google.com/assets/colab-badge.svg\" alt=\"Open In Colab\"/></a>"
      ]
    },
    {
      "cell_type": "markdown",
      "source": [
        "**PRIMEIRA AULA - 20/03**"
      ],
      "metadata": {
        "id": "st65YJjbKEip"
      }
    },
    {
      "cell_type": "code",
      "execution_count": 140,
      "metadata": {
        "id": "jELFuiK6rLEo"
      },
      "outputs": [],
      "source": [
        "# Atribuindo valores à variáveis.\n",
        "height = 1.79\n",
        "weight = 68.7"
      ]
    },
    {
      "cell_type": "code",
      "source": [
        "# Mostrando o valor de uma variável.\n",
        "weight"
      ],
      "metadata": {
        "colab": {
          "base_uri": "https://localhost:8080/"
        },
        "id": "Ad8zwfWLjhif",
        "outputId": "d672265d-5523-40db-994a-5acf12900c38"
      },
      "execution_count": 141,
      "outputs": [
        {
          "output_type": "execute_result",
          "data": {
            "text/plain": [
              "68.7"
            ]
          },
          "metadata": {},
          "execution_count": 141
        }
      ]
    },
    {
      "cell_type": "code",
      "source": [
        "# Utilizando operação de divisão e potenciação com números.\n",
        "68.7 / 1.79 ** 2"
      ],
      "metadata": {
        "colab": {
          "base_uri": "https://localhost:8080/"
        },
        "id": "-_yn84ADlG09",
        "outputId": "d32ac3e5-e0fa-4cbf-93ed-edbfef8f5af4"
      },
      "execution_count": 142,
      "outputs": [
        {
          "output_type": "execute_result",
          "data": {
            "text/plain": [
              "21.44127836209856"
            ]
          },
          "metadata": {},
          "execution_count": 142
        }
      ]
    },
    {
      "cell_type": "code",
      "source": [
        "# Utilizando operação de divisão e potenciação com as variáveis peso e altura.\n",
        "weight / height ** 2"
      ],
      "metadata": {
        "colab": {
          "base_uri": "https://localhost:8080/"
        },
        "id": "djjWdW0ClMoI",
        "outputId": "aa024f24-0fe5-44d4-e187-683ee276a4e7"
      },
      "execution_count": 143,
      "outputs": [
        {
          "output_type": "execute_result",
          "data": {
            "text/plain": [
              "21.44127836209856"
            ]
          },
          "metadata": {},
          "execution_count": 143
        }
      ]
    },
    {
      "cell_type": "code",
      "source": [
        "# Atribuindo o valor da operação de divisão e potenciação à uma variável.\n",
        "bmi = weight / height ** 2\n",
        "bmi"
      ],
      "metadata": {
        "colab": {
          "base_uri": "https://localhost:8080/"
        },
        "id": "7QhQzfI2lYdi",
        "outputId": "817bc206-841f-4d33-bbd4-bf37f2dd8153"
      },
      "execution_count": 144,
      "outputs": [
        {
          "output_type": "execute_result",
          "data": {
            "text/plain": [
              "21.44127836209856"
            ]
          },
          "metadata": {},
          "execution_count": 144
        }
      ]
    },
    {
      "cell_type": "code",
      "source": [
        "# Utilizando o comando \"print\" para mostrar o valor da variável \"bmi\".\n",
        "print (bmi)"
      ],
      "metadata": {
        "colab": {
          "base_uri": "https://localhost:8080/"
        },
        "id": "F5xtNq4hln5t",
        "outputId": "aeecdcaf-7435-4a5f-c563-23f56dea6d81"
      },
      "execution_count": 145,
      "outputs": [
        {
          "output_type": "stream",
          "name": "stdout",
          "text": [
            "21.44127836209856\n"
          ]
        }
      ]
    },
    {
      "cell_type": "code",
      "source": [
        "# Utilizando o comando \"type\" para revelar o tipo da variável. São os tipos: Float ou flutuante, são variáveis que apresentam números decimais.\n",
        "type (bmi)"
      ],
      "metadata": {
        "colab": {
          "base_uri": "https://localhost:8080/"
        },
        "id": "F8JgyZitlylH",
        "outputId": "ca12b990-bb84-4022-8863-9d5b80234d3c"
      },
      "execution_count": 146,
      "outputs": [
        {
          "output_type": "execute_result",
          "data": {
            "text/plain": [
              "float"
            ]
          },
          "metadata": {},
          "execution_count": 146
        }
      ]
    },
    {
      "cell_type": "code",
      "source": [
        "# Int são o tipo de variáveis que possuem numéros inteiros.\n",
        "day_of_week = 5\n",
        "type (day_of_week)"
      ],
      "metadata": {
        "colab": {
          "base_uri": "https://localhost:8080/"
        },
        "id": "O80ER9l2l6av",
        "outputId": "5151617e-8554-44f8-e36b-304836b3f2de"
      },
      "execution_count": 147,
      "outputs": [
        {
          "output_type": "execute_result",
          "data": {
            "text/plain": [
              "int"
            ]
          },
          "metadata": {},
          "execution_count": 147
        }
      ]
    },
    {
      "cell_type": "code",
      "source": [
        "# Str ou string, são variáveis que possuem texto.\n",
        "x = 'body mass index'\n",
        "y = \"this works too\"\n",
        "type (y)"
      ],
      "metadata": {
        "colab": {
          "base_uri": "https://localhost:8080/"
        },
        "id": "q5Ym8OY5mHJb",
        "outputId": "4b07e7c6-6145-4395-977d-88f821c7122a"
      },
      "execution_count": 148,
      "outputs": [
        {
          "output_type": "execute_result",
          "data": {
            "text/plain": [
              "str"
            ]
          },
          "metadata": {},
          "execution_count": 148
        }
      ]
    },
    {
      "cell_type": "code",
      "source": [
        "# O tipo de variável bool são variaveis que possuem o dois valores, verdadeiro ou falso, nunca uma terceira situação.\n",
        "z = True\n",
        "type (z)"
      ],
      "metadata": {
        "colab": {
          "base_uri": "https://localhost:8080/"
        },
        "id": "rXP67oFrmZoV",
        "outputId": "330710b0-fb33-4b46-8cf5-8351c695bb46"
      },
      "execution_count": 149,
      "outputs": [
        {
          "output_type": "execute_result",
          "data": {
            "text/plain": [
              "bool"
            ]
          },
          "metadata": {},
          "execution_count": 149
        }
      ]
    },
    {
      "cell_type": "code",
      "source": [
        "# Soma de números inteiro por meio do sinal \"+\".\n",
        "2 + 3"
      ],
      "metadata": {
        "colab": {
          "base_uri": "https://localhost:8080/"
        },
        "id": "AelhaL_8mf53",
        "outputId": "a5e9726b-24df-412f-aa75-6afb1d959be0"
      },
      "execution_count": 150,
      "outputs": [
        {
          "output_type": "execute_result",
          "data": {
            "text/plain": [
              "5"
            ]
          },
          "metadata": {},
          "execution_count": 150
        }
      ]
    },
    {
      "cell_type": "code",
      "source": [
        "# Contatenação se trata do ato de unir strings. A seguir, um exemplo de contatenação da string 'ab' mais a string 'cd'.\n",
        "'ab' + 'cd'"
      ],
      "metadata": {
        "colab": {
          "base_uri": "https://localhost:8080/",
          "height": 35
        },
        "id": "wKrErt6lmkOb",
        "outputId": "671a9260-b80c-49af-b7fd-2413fca0f2da"
      },
      "execution_count": 151,
      "outputs": [
        {
          "output_type": "execute_result",
          "data": {
            "text/plain": [
              "'abcd'"
            ],
            "application/vnd.google.colaboratory.intrinsic+json": {
              "type": "string"
            }
          },
          "metadata": {},
          "execution_count": 151
        }
      ]
    },
    {
      "cell_type": "code",
      "source": [
        "# Também é possivel contatenar variáveis do tipo strin. Nesse caso, a variável A recebe 'ab' e a variável B recebe 'cd' que são contatenadas.\n",
        "A = 'ab'\n",
        "B = 'cd'\n",
        "A + B"
      ],
      "metadata": {
        "colab": {
          "base_uri": "https://localhost:8080/",
          "height": 35
        },
        "id": "sNVYwrPLmrb3",
        "outputId": "6e9046bd-cd5b-4c8b-b95e-eb708b5e5550"
      },
      "execution_count": 152,
      "outputs": [
        {
          "output_type": "execute_result",
          "data": {
            "text/plain": [
              "'abcd'"
            ],
            "application/vnd.google.colaboratory.intrinsic+json": {
              "type": "string"
            }
          },
          "metadata": {},
          "execution_count": 152
        }
      ]
    },
    {
      "cell_type": "code",
      "source": [
        "# exemplo\n",
        "print(5/8)"
      ],
      "metadata": {
        "colab": {
          "base_uri": "https://localhost:8080/"
        },
        "id": "vF3q-l1bm4hk",
        "outputId": "13be2e80-ab4f-45ac-a7f6-1eaa09a50dd9"
      },
      "execution_count": 153,
      "outputs": [
        {
          "output_type": "stream",
          "name": "stdout",
          "text": [
            "0.625\n"
          ]
        }
      ]
    },
    {
      "cell_type": "code",
      "source": [
        "# soma de 7 com 8\n",
        "7 + 8"
      ],
      "metadata": {
        "colab": {
          "base_uri": "https://localhost:8080/"
        },
        "id": "ltkks0DKnCB7",
        "outputId": "cb5f3c20-e565-42db-898e-506c8cdb6358"
      },
      "execution_count": 154,
      "outputs": [
        {
          "output_type": "execute_result",
          "data": {
            "text/plain": [
              "15"
            ]
          },
          "metadata": {},
          "execution_count": 154
        }
      ]
    },
    {
      "cell_type": "code",
      "source": [
        "# Operação de soma e subtração atribuidas a uma variável.\n",
        "soma = 5 + 6\n",
        "print (soma)\n",
        "subtração = 5 - 6\n",
        "print (subtração)"
      ],
      "metadata": {
        "colab": {
          "base_uri": "https://localhost:8080/"
        },
        "id": "BEmWIdZPnbt5",
        "outputId": "86abace7-48d3-4b04-9a3a-9a940676d22d"
      },
      "execution_count": 155,
      "outputs": [
        {
          "output_type": "stream",
          "name": "stdout",
          "text": [
            "11\n",
            "-1\n"
          ]
        }
      ]
    },
    {
      "cell_type": "code",
      "source": [
        "# Operação de potenciação, multiplicação e resto de divisão atribuidas a uma variável.\n",
        "pontência = 5 ** 3\n",
        "multiplicação = 5 * 3\n",
        "resto_da_divisão = 5 % 3\n",
        "print (pontência)\n",
        "print (multiplicação)\n",
        "print (resto_da_divisão)"
      ],
      "metadata": {
        "colab": {
          "base_uri": "https://localhost:8080/"
        },
        "id": "4KiIZIZGoDy6",
        "outputId": "27b8d64b-4793-4177-9a99-e6245c51f242"
      },
      "execution_count": 156,
      "outputs": [
        {
          "output_type": "stream",
          "name": "stdout",
          "text": [
            "125\n",
            "15\n",
            "2\n"
          ]
        }
      ]
    },
    {
      "cell_type": "code",
      "source": [
        "# Operação sendo atribuida a uma variável.\n",
        "rendimento = 100 * 1.1 ** 7\n",
        "print (rendimento)"
      ],
      "metadata": {
        "colab": {
          "base_uri": "https://localhost:8080/"
        },
        "id": "oyVXdKazoKKM",
        "outputId": "53432cf3-4181-486c-8054-ee342ad2ec8d"
      },
      "execution_count": 157,
      "outputs": [
        {
          "output_type": "stream",
          "name": "stdout",
          "text": [
            "194.87171000000012\n"
          ]
        }
      ]
    },
    {
      "cell_type": "markdown",
      "source": [
        "**SEGUNDA AULA - 22/03**"
      ],
      "metadata": {
        "id": "a70uDyu1PuH6"
      }
    },
    {
      "cell_type": "code",
      "source": [
        "# Operação realizada com variáveis e contatenação de uma variável com ela mesmo.\n",
        "savings = 100\n",
        "growth_multiplier = 1.1\n",
        "desc = 'compound interest'\n",
        "year1 = savings * growth_multiplier\n",
        "print (type(year1))\n",
        "doubledesc = desc + desc\n",
        "print (doubledesc)"
      ],
      "metadata": {
        "colab": {
          "base_uri": "https://localhost:8080/"
        },
        "id": "-jLUZuykoUns",
        "outputId": "d19833c4-22f5-4010-d6a2-28e8c3f668c0"
      },
      "execution_count": 158,
      "outputs": [
        {
          "output_type": "stream",
          "name": "stdout",
          "text": [
            "<class 'float'>\n",
            "compound interestcompound interest\n"
          ]
        }
      ]
    },
    {
      "cell_type": "code",
      "source": [
        "# Operação de conversão de uma variável do tipo string para uma variável do tipo float.\n",
        "pi_string = '3.1415926'\n",
        "pi_float = float (pi_string)\n",
        "print (type(pi_string))\n",
        "print (type(pi_float))"
      ],
      "metadata": {
        "colab": {
          "base_uri": "https://localhost:8080/"
        },
        "id": "LhPzD0Epobjy",
        "outputId": "9a0eb939-2dbe-4a81-ae6f-51fa2fa43839"
      },
      "execution_count": 159,
      "outputs": [
        {
          "output_type": "stream",
          "name": "stdout",
          "text": [
            "<class 'str'>\n",
            "<class 'float'>\n"
          ]
        }
      ]
    },
    {
      "cell_type": "code",
      "source": [
        "savings = 100\n",
        "result = 100 * 1.10 ** 2\n",
        "# print (\"I started with\" + savings + \"and now have\" + result + \". Awesome!\")\n",
        "\n",
        "# Não é possível contatenar str com número. Para corrigir o problema, convertemos os números para texto, ou colamos virgulas entre os momentos, separando 'str' de 'int' e 'float'\n",
        "print (\"I started with $\" + str(savings) + \"and now have $\" + str(result) + \". Awesome!\")\n",
        "# ou\n",
        "print (\"I started with $\", savings, \"and now have $\", result, \". Awesome!\")"
      ],
      "metadata": {
        "colab": {
          "base_uri": "https://localhost:8080/"
        },
        "id": "8dJARWs2opfA",
        "outputId": "520802d3-167a-44fd-a1f1-61346098e57b"
      },
      "execution_count": 160,
      "outputs": [
        {
          "output_type": "stream",
          "name": "stdout",
          "text": [
            "I started with $100and now have $121.00000000000001. Awesome!\n",
            "I started with $ 100 and now have $ 121.00000000000001 . Awesome!\n"
          ]
        }
      ]
    },
    {
      "cell_type": "markdown",
      "source": [
        "**TERCEIRA AULA - 28/03**"
      ],
      "metadata": {
        "id": "Ihfm9NhDUDZd"
      }
    },
    {
      "cell_type": "code",
      "source": [
        "  # Atribuindo uma lista, que ficam entre colchetes, a uma variável. O que está entre [] e separados por virgula são os elementos dessa lista.\n",
        "  fam = [1.73, 1.68, 1.71, 1.89]\n",
        "  fam"
      ],
      "metadata": {
        "colab": {
          "base_uri": "https://localhost:8080/"
        },
        "id": "IFHixAAv9K7k",
        "outputId": "4149112b-7488-42df-dafb-6a3977c852ca"
      },
      "execution_count": 161,
      "outputs": [
        {
          "output_type": "execute_result",
          "data": {
            "text/plain": [
              "[1.73, 1.68, 1.71, 1.89]"
            ]
          },
          "metadata": {},
          "execution_count": 161
        }
      ]
    },
    {
      "cell_type": "code",
      "source": [
        "# Dentro de uma lista é possível coexistir string, int, float e etc.\n",
        "fam = ['Pedro', 1.70, 'Cristiane', 1.65, 'Dulce', 1.30, 'Gabriela', 1.55]\n",
        "fam"
      ],
      "metadata": {
        "colab": {
          "base_uri": "https://localhost:8080/"
        },
        "id": "ts87FmtD-QBD",
        "outputId": "200f77a8-808d-486a-b685-6e05b5674072"
      },
      "execution_count": 162,
      "outputs": [
        {
          "output_type": "execute_result",
          "data": {
            "text/plain": [
              "['Pedro', 1.7, 'Cristiane', 1.65, 'Dulce', 1.3, 'Gabriela', 1.55]"
            ]
          },
          "metadata": {},
          "execution_count": 162
        }
      ]
    },
    {
      "cell_type": "code",
      "source": [
        "# Dentro de uma lista é possível que haja outras listas. Nesse exemplo, a lista \"fam2\" possui outras listas em seu valor, essas sub-listas são separadas por [].\n",
        "fam2 = [['Pedro', 1.70],\n",
        "        ['Cristiane', 1.65],\n",
        "        ['Dulce', 1.30],\n",
        "        ['Gabriela', 1.55]]\n",
        "fam2"
      ],
      "metadata": {
        "colab": {
          "base_uri": "https://localhost:8080/"
        },
        "id": "fcRIx4H8_L4c",
        "outputId": "6af30c54-4892-4a7c-ed0b-2e75f0d047ff"
      },
      "execution_count": 163,
      "outputs": [
        {
          "output_type": "execute_result",
          "data": {
            "text/plain": [
              "[['Pedro', 1.7], ['Cristiane', 1.65], ['Dulce', 1.3], ['Gabriela', 1.55]]"
            ]
          },
          "metadata": {},
          "execution_count": 163
        }
      ]
    },
    {
      "cell_type": "code",
      "source": [
        "# O tipo da varíavel \"fam\" é \"list\"\n",
        "type(fam)"
      ],
      "metadata": {
        "colab": {
          "base_uri": "https://localhost:8080/"
        },
        "id": "V5sXRkJm_3CM",
        "outputId": "9ee41885-e5be-4920-a5a2-68b11735b244"
      },
      "execution_count": 164,
      "outputs": [
        {
          "output_type": "execute_result",
          "data": {
            "text/plain": [
              "list"
            ]
          },
          "metadata": {},
          "execution_count": 164
        }
      ]
    },
    {
      "cell_type": "code",
      "source": [
        "type(fam2)"
      ],
      "metadata": {
        "colab": {
          "base_uri": "https://localhost:8080/"
        },
        "id": "YN22rcaV_6wU",
        "outputId": "67435211-0233-4936-9ed9-dff45b36fe2d"
      },
      "execution_count": 165,
      "outputs": [
        {
          "output_type": "execute_result",
          "data": {
            "text/plain": [
              "list"
            ]
          },
          "metadata": {},
          "execution_count": 165
        }
      ]
    },
    {
      "cell_type": "code",
      "source": [
        "# Atribuindo valores a variáveis para criar uma lista a partir delas.\n",
        "# Áreas dos compartimentos\n",
        "hall = 14.0\n",
        "kit = 18.0\n",
        "liv = 20.0\n",
        "bed = 10.75\n",
        "bath = 9.50\n",
        "# Criando uma lista com as áreas dos compartimentos\n",
        "áreas = [hall, kit, liv, bed, bath]\n",
        "# \"Printando\" a lista das áreas\n",
        "print(áreas)\n",
        "# Adaptando a lista\n",
        "áreas = 'hallway', hall, 'kitchen', kit, 'living room', liv, 'bedroom', bed, 'bathroom', bath\n",
        "print(áreas)"
      ],
      "metadata": {
        "colab": {
          "base_uri": "https://localhost:8080/"
        },
        "id": "269C7jLQAwc0",
        "outputId": "7834b89a-aa41-48f5-8f43-b660dfe8000c"
      },
      "execution_count": 166,
      "outputs": [
        {
          "output_type": "stream",
          "name": "stdout",
          "text": [
            "[14.0, 18.0, 20.0, 10.75, 9.5]\n",
            "('hallway', 14.0, 'kitchen', 18.0, 'living room', 20.0, 'bedroom', 10.75, 'bathroom', 9.5)\n"
          ]
        }
      ]
    },
    {
      "cell_type": "code",
      "source": [
        "A = [1, 2, 3, 4]\n",
        "# \"A\" é uma lista qye possui quatro elementos inteiros\n",
        "B =[[1, 2, 3], [4, 5, 6]]\n",
        "# \"B\" é uma lista na qual possui outras duas lista dentro, sendo cada lista possuindo três elementos inteiros\n",
        "C = [1 + 2, 'A' * 5, 3]\n",
        "# \"C\" é uma lista na qual possui três elementos, sendo o primeiro elemento uma soma de inteiros, o segundo elemento a multiplicação de uma string, e o terceiro elemento um inteiro."
      ],
      "metadata": {
        "id": "PdVd8PZwEyYr"
      },
      "execution_count": 167,
      "outputs": []
    },
    {
      "cell_type": "code",
      "source": [
        "# Lista de listas das áreas dos compartimentos\n",
        "house = [['hallway,', hall],\n",
        "         ['kitchen', kit],\n",
        "         ['living room', liv],\n",
        "         ['bedroom', bed],\n",
        "         ['bathroom', bath]]\n",
        "#  \"Printando\" a lista das lista\n",
        "print(house)\n",
        "# \"Printando\" o tipo da variável \"house\"\n",
        "print(type(house))"
      ],
      "metadata": {
        "colab": {
          "base_uri": "https://localhost:8080/"
        },
        "id": "mqa3GL5bGfI7",
        "outputId": "3a26c3f0-4e2d-4dd8-c8f3-3c3b582ef1cf"
      },
      "execution_count": 168,
      "outputs": [
        {
          "output_type": "stream",
          "name": "stdout",
          "text": [
            "[['hallway,', 14.0], ['kitchen', 18.0], ['living room', 20.0], ['bedroom', 10.75], ['bathroom', 9.5]]\n",
            "<class 'list'>\n"
          ]
        }
      ]
    },
    {
      "cell_type": "code",
      "source": [
        "# Buscando o segundo elemento da lista \"fam\"\n",
        "fam[2]"
      ],
      "metadata": {
        "colab": {
          "base_uri": "https://localhost:8080/",
          "height": 35
        },
        "id": "ISTCT_PMIXTr",
        "outputId": "7c24d58d-de94-4bac-d1d7-346f736c4d0c"
      },
      "execution_count": 169,
      "outputs": [
        {
          "output_type": "execute_result",
          "data": {
            "text/plain": [
              "'Cristiane'"
            ],
            "application/vnd.google.colaboratory.intrinsic+json": {
              "type": "string"
            }
          },
          "metadata": {},
          "execution_count": 169
        }
      ]
    },
    {
      "cell_type": "code",
      "source": [
        "# Buscando o sexto elemento da lista \"fam\"\n",
        "fam[6]"
      ],
      "metadata": {
        "colab": {
          "base_uri": "https://localhost:8080/",
          "height": 35
        },
        "id": "wxhchdsoIZ8b",
        "outputId": "25b0ccbe-aa6b-4434-9f38-fce56a55d0fc"
      },
      "execution_count": 170,
      "outputs": [
        {
          "output_type": "execute_result",
          "data": {
            "text/plain": [
              "'Gabriela'"
            ],
            "application/vnd.google.colaboratory.intrinsic+json": {
              "type": "string"
            }
          },
          "metadata": {},
          "execution_count": 170
        }
      ]
    },
    {
      "cell_type": "code",
      "source": [
        "# Buscando o segundo elemento da lista \"house\"\n",
        "house[2]"
      ],
      "metadata": {
        "colab": {
          "base_uri": "https://localhost:8080/"
        },
        "id": "5SMgoOU4Ikqi",
        "outputId": "4280288d-ee29-43c0-fc12-01e032061989"
      },
      "execution_count": 171,
      "outputs": [
        {
          "output_type": "execute_result",
          "data": {
            "text/plain": [
              "['living room', 20.0]"
            ]
          },
          "metadata": {},
          "execution_count": 171
        }
      ]
    },
    {
      "cell_type": "code",
      "source": [
        "# Buscando o terceiro elemento da lista \"house\"\n",
        "house[3]"
      ],
      "metadata": {
        "colab": {
          "base_uri": "https://localhost:8080/"
        },
        "id": "QXWV152fJH5L",
        "outputId": "21618fee-2f99-415b-952c-bcf8fdc2f360"
      },
      "execution_count": 172,
      "outputs": [
        {
          "output_type": "execute_result",
          "data": {
            "text/plain": [
              "['bedroom', 10.75]"
            ]
          },
          "metadata": {},
          "execution_count": 172
        }
      ]
    },
    {
      "cell_type": "code",
      "source": [
        "# Buscando o elemento da lista \"house\" de trás para frente por meio dos números negativos\n",
        "house[-2]"
      ],
      "metadata": {
        "colab": {
          "base_uri": "https://localhost:8080/"
        },
        "id": "0P1ZLaJ2JQlj",
        "outputId": "bb1a7116-099a-4f10-ebd0-517b980de077"
      },
      "execution_count": 173,
      "outputs": [
        {
          "output_type": "execute_result",
          "data": {
            "text/plain": [
              "['bedroom', 10.75]"
            ]
          },
          "metadata": {},
          "execution_count": 173
        }
      ]
    },
    {
      "cell_type": "code",
      "source": [
        "# Pegando a parte da lista \"fam\" apartir do sexto elemento até o oitavo, observando que a contagem dos elementos começa a partir do número 0. \n",
        "fam[6:8]"
      ],
      "metadata": {
        "colab": {
          "base_uri": "https://localhost:8080/"
        },
        "id": "GLzaiZKQJ8rC",
        "outputId": "48b553c0-b746-4b71-80c1-8877b4a63e00"
      },
      "execution_count": 174,
      "outputs": [
        {
          "output_type": "execute_result",
          "data": {
            "text/plain": [
              "['Gabriela', 1.55]"
            ]
          },
          "metadata": {},
          "execution_count": 174
        }
      ]
    },
    {
      "cell_type": "code",
      "source": [
        "fam[2:4]"
      ],
      "metadata": {
        "colab": {
          "base_uri": "https://localhost:8080/"
        },
        "id": "5yGr2aNMKVTu",
        "outputId": "f552c2fe-d0d6-421c-a1ef-96232b6804f4"
      },
      "execution_count": 175,
      "outputs": [
        {
          "output_type": "execute_result",
          "data": {
            "text/plain": [
              "['Cristiane', 1.65]"
            ]
          },
          "metadata": {},
          "execution_count": 175
        }
      ]
    },
    {
      "cell_type": "code",
      "source": [
        "fam[4:6]"
      ],
      "metadata": {
        "colab": {
          "base_uri": "https://localhost:8080/"
        },
        "id": "a-rz1567KkYb",
        "outputId": "590b202c-6480-4c00-adec-5cbe3cbdda2d"
      },
      "execution_count": 176,
      "outputs": [
        {
          "output_type": "execute_result",
          "data": {
            "text/plain": [
              "['Dulce', 1.3]"
            ]
          },
          "metadata": {},
          "execution_count": 176
        }
      ]
    },
    {
      "cell_type": "code",
      "source": [
        "# Pegando do quarto elemento até o final da lista \"fam\"\n",
        "fam[4:]"
      ],
      "metadata": {
        "colab": {
          "base_uri": "https://localhost:8080/"
        },
        "id": "nT4WuPlwLHYD",
        "outputId": "2558813c-8c9a-431e-c4c5-496a222b743f"
      },
      "execution_count": 177,
      "outputs": [
        {
          "output_type": "execute_result",
          "data": {
            "text/plain": [
              "['Dulce', 1.3, 'Gabriela', 1.55]"
            ]
          },
          "metadata": {},
          "execution_count": 177
        }
      ]
    },
    {
      "cell_type": "code",
      "source": [
        "# \"Printando\" o segundo elemento da lista de áreas\n",
        "print(áreas[2])"
      ],
      "metadata": {
        "colab": {
          "base_uri": "https://localhost:8080/"
        },
        "id": "zRwqEZTGL4vS",
        "outputId": "7affb224-bd6d-4ca4-ef3d-f8f19bc085a3"
      },
      "execution_count": 178,
      "outputs": [
        {
          "output_type": "stream",
          "name": "stdout",
          "text": [
            "kitchen\n"
          ]
        }
      ]
    },
    {
      "cell_type": "code",
      "source": [
        "# \"Printando\" o ultimo elemento usando o index negativo\n",
        "print(áreas[-1])"
      ],
      "metadata": {
        "colab": {
          "base_uri": "https://localhost:8080/"
        },
        "id": "aGgmUFeTMnLL",
        "outputId": "e7dac680-c776-4f02-c24c-aaaeb84f3496"
      },
      "execution_count": 179,
      "outputs": [
        {
          "output_type": "stream",
          "name": "stdout",
          "text": [
            "9.5\n"
          ]
        }
      ]
    },
    {
      "cell_type": "code",
      "source": [
        "# \"Printando\" o valor de \"living room\"\n",
        "print(áreas[4])"
      ],
      "metadata": {
        "colab": {
          "base_uri": "https://localhost:8080/"
        },
        "id": "c_xx5yWfM52C",
        "outputId": "0348098a-3d09-4301-c162-1afd504dab59"
      },
      "execution_count": 180,
      "outputs": [
        {
          "output_type": "stream",
          "name": "stdout",
          "text": [
            "living room\n"
          ]
        }
      ]
    },
    {
      "cell_type": "markdown",
      "source": [
        "**QUARTA AULA - 29\\03**"
      ],
      "metadata": {
        "id": "f4g5o4ODvLIl"
      }
    },
    {
      "cell_type": "code",
      "source": [
        "# Somando os valores dos elementos 3 e 5 da lista \"áreas\" e atribuindo o resultado a uma variável.\n",
        "eat_sleep_area = áreas[3] + áreas[5]"
      ],
      "metadata": {
        "id": "Qo5pjyfNtH6E"
      },
      "execution_count": 181,
      "outputs": []
    },
    {
      "cell_type": "code",
      "source": [
        "print(eat_sleep_area)"
      ],
      "metadata": {
        "colab": {
          "base_uri": "https://localhost:8080/"
        },
        "id": "5P4mKhazvVny",
        "outputId": "c0301b22-ed25-42fb-c551-35717d4d635e"
      },
      "execution_count": 182,
      "outputs": [
        {
          "output_type": "stream",
          "name": "stdout",
          "text": [
            "38.0\n"
          ]
        }
      ]
    },
    {
      "cell_type": "code",
      "source": [
        "# Acessando os seis primeiros elementos da lista \"àreas\".\n",
        "áreas = 'hallway', hall, 'kitchen', kit, 'living room', liv, 'bedroom', bed, 'bathroom', bath\n",
        "print(áreas[:6])"
      ],
      "metadata": {
        "colab": {
          "base_uri": "https://localhost:8080/"
        },
        "id": "bA3U0V__wPKx",
        "outputId": "30eae984-1cbd-472b-a356-1fe0373e0f8f"
      },
      "execution_count": 183,
      "outputs": [
        {
          "output_type": "stream",
          "name": "stdout",
          "text": [
            "('hallway', 14.0, 'kitchen', 18.0, 'living room', 20.0)\n"
          ]
        }
      ]
    },
    {
      "cell_type": "code",
      "source": [
        "# Atribuindo os seis primeiros elementos da lista \"áreas\" a uma variável.\n",
        "downstairs = áreas[:6]"
      ],
      "metadata": {
        "id": "KLP7pb0uwmei"
      },
      "execution_count": 184,
      "outputs": []
    },
    {
      "cell_type": "code",
      "source": [
        "# \"Printando\" do sexto elemento ao ultimo elemento da lista \"áreas\".\n",
        "print(áreas[6:])"
      ],
      "metadata": {
        "colab": {
          "base_uri": "https://localhost:8080/"
        },
        "id": "JCq1ah942Ix5",
        "outputId": "419edfc3-7196-435f-c96c-510809c2e93b"
      },
      "execution_count": 185,
      "outputs": [
        {
          "output_type": "stream",
          "name": "stdout",
          "text": [
            "('bedroom', 10.75, 'bathroom', 9.5)\n"
          ]
        }
      ]
    },
    {
      "cell_type": "code",
      "source": [
        "# Atribuindoo do sexto elemento ao ultimo elemento da lista \"áreas\" para uma variável.\n",
        "upstairs = áreas[6:]"
      ],
      "metadata": {
        "id": "CdU98y07wx86"
      },
      "execution_count": 186,
      "outputs": []
    },
    {
      "cell_type": "code",
      "source": [
        "print(downstairs)\n",
        "print(upstairs)"
      ],
      "metadata": {
        "colab": {
          "base_uri": "https://localhost:8080/"
        },
        "id": "_sR_D0XbzALC",
        "outputId": "6451f17c-c8b4-4b1f-a931-f13bc82a6013"
      },
      "execution_count": 187,
      "outputs": [
        {
          "output_type": "stream",
          "name": "stdout",
          "text": [
            "('hallway', 14.0, 'kitchen', 18.0, 'living room', 20.0)\n",
            "('bedroom', 10.75, 'bathroom', 9.5)\n"
          ]
        }
      ]
    },
    {
      "cell_type": "code",
      "source": [
        "# Mostrando elementos de uma lista que está dentro de uma lista.\n",
        "x = [['a', 'b', 'c'],\n",
        "     [\"d\",\"e\",\"f\"],\n",
        "     [\"g\",\"h\",\"i\"]]\n",
        "# O primeiro número entre colchetes é o número da lista, o segundo número entre colchetes se trata do número do elemento dentro da lista designada pelo o número anterior.\n",
        "x[2][0]\n",
        "x[2][:2]"
      ],
      "metadata": {
        "colab": {
          "base_uri": "https://localhost:8080/"
        },
        "id": "zFrYCIJDx9wy",
        "outputId": "d3880b9c-f952-4ccb-fedc-06fb43927c53"
      },
      "execution_count": 226,
      "outputs": [
        {
          "output_type": "execute_result",
          "data": {
            "text/plain": [
              "['g', 'h']"
            ]
          },
          "metadata": {},
          "execution_count": 226
        }
      ]
    },
    {
      "cell_type": "code",
      "source": [
        "house[-1][1]"
      ],
      "metadata": {
        "colab": {
          "base_uri": "https://localhost:8080/"
        },
        "id": "-h14lwPwyofC",
        "outputId": "ce12c81b-9c45-46b0-8c45-4a342ab3b444"
      },
      "execution_count": 189,
      "outputs": [
        {
          "output_type": "execute_result",
          "data": {
            "text/plain": [
              "9.5"
            ]
          },
          "metadata": {},
          "execution_count": 189
        }
      ]
    },
    {
      "cell_type": "code",
      "source": [
        "# Mostrando a lista \"fam\"\n",
        "print(fam)"
      ],
      "metadata": {
        "colab": {
          "base_uri": "https://localhost:8080/"
        },
        "id": "eRGCfWKkysZi",
        "outputId": "47903c87-4f6d-426d-e6f3-ddd16683e81d"
      },
      "execution_count": 190,
      "outputs": [
        {
          "output_type": "stream",
          "name": "stdout",
          "text": [
            "['Pedro', 1.7, 'Cristiane', 1.65, 'Dulce', 1.3, 'Gabriela', 1.55]\n"
          ]
        }
      ]
    },
    {
      "cell_type": "code",
      "source": [
        "# Motificando o elemento 7 da lista \"fam\" e atribuindo o novo valor de 1.65. \n",
        "fam[7] = 1.65\n",
        "print(fam)"
      ],
      "metadata": {
        "colab": {
          "base_uri": "https://localhost:8080/"
        },
        "id": "0yDTecnD05Rx",
        "outputId": "22c1095e-9997-4180-d2e5-b663f58be290"
      },
      "execution_count": 191,
      "outputs": [
        {
          "output_type": "stream",
          "name": "stdout",
          "text": [
            "['Pedro', 1.7, 'Cristiane', 1.65, 'Dulce', 1.3, 'Gabriela', 1.65]\n"
          ]
        }
      ]
    },
    {
      "cell_type": "code",
      "source": [
        "# O mesmo pode ser feito em intervalos maiores, como no exemplo a seguir: do primeiro elemento (0) ao terceiro elemento (2) será motificado, sendo atribuido um novo valor para esses elementos.\n",
        "fam[0:2] = 'Vinicius', 1.75\n",
        "print(fam)"
      ],
      "metadata": {
        "colab": {
          "base_uri": "https://localhost:8080/"
        },
        "id": "KgCMGjJg1WXJ",
        "outputId": "3eac5b54-1cbf-49f9-a7da-9af31ca8bca1"
      },
      "execution_count": 192,
      "outputs": [
        {
          "output_type": "stream",
          "name": "stdout",
          "text": [
            "['Vinicius', 1.75, 'Cristiane', 1.65, 'Dulce', 1.3, 'Gabriela', 1.65]\n"
          ]
        }
      ]
    },
    {
      "cell_type": "code",
      "source": [
        "# Adicionando elementos em uma lista já existente.\n",
        "fam + [\"Maciel\", 1.65]"
      ],
      "metadata": {
        "colab": {
          "base_uri": "https://localhost:8080/"
        },
        "id": "YiFH4NH42keg",
        "outputId": "3d5ec686-2a5a-4e2c-b58f-81aa1e0f5d39"
      },
      "execution_count": 193,
      "outputs": [
        {
          "output_type": "execute_result",
          "data": {
            "text/plain": [
              "['Vinicius',\n",
              " 1.75,\n",
              " 'Cristiane',\n",
              " 1.65,\n",
              " 'Dulce',\n",
              " 1.3,\n",
              " 'Gabriela',\n",
              " 1.65,\n",
              " 'Maciel',\n",
              " 1.65]"
            ]
          },
          "metadata": {},
          "execution_count": 193
        }
      ]
    },
    {
      "cell_type": "code",
      "source": [
        "# Adcionando uma extenção em uma lista.\n",
        "fam_ext = fam + [\"Maciel\", 1.65]\n",
        "# Excluindo o primeiro elemento (0) da lista \"fam\".\n",
        "del(fam[0])\n",
        "fam"
      ],
      "metadata": {
        "colab": {
          "base_uri": "https://localhost:8080/"
        },
        "id": "BqoZpmGd3MRZ",
        "outputId": "cc81af01-6009-4588-b277-77b9af19ef6d"
      },
      "execution_count": 202,
      "outputs": [
        {
          "output_type": "execute_result",
          "data": {
            "text/plain": [
              "[1.75, 'Cristiane', 1.65, 'Dulce', 1.3, 'Gabriela', 1.65]"
            ]
          },
          "metadata": {},
          "execution_count": 202
        }
      ]
    },
    {
      "cell_type": "code",
      "source": [
        "# Mostrando o valor da nova varíavel.\n",
        "print(fam_ext)"
      ],
      "metadata": {
        "colab": {
          "base_uri": "https://localhost:8080/"
        },
        "id": "yKHKVCxm34fo",
        "outputId": "e19f739f-fbc0-4c2f-c8ca-142c1e539433"
      },
      "execution_count": 195,
      "outputs": [
        {
          "output_type": "stream",
          "name": "stdout",
          "text": [
            "['Vinicius', 1.75, 'Cristiane', 1.65, 'Dulce', 1.3, 'Gabriela', 1.65, 'Maciel', 1.65]\n"
          ]
        }
      ]
    },
    {
      "cell_type": "code",
      "source": [
        "# Variável \"y\" recebendo a variável \"x\" como valor. Nesse caso, \"x\" e \"y\" são a mesma coisa, isso quer dizer que o que acontecer com uma acontece também coma outra.\n",
        "x = [\"a\", \"b\", \"c\"]\n",
        "y = x\n",
        "y[1] = \"z\"\n",
        "print(y)"
      ],
      "metadata": {
        "colab": {
          "base_uri": "https://localhost:8080/"
        },
        "id": "YXUqlNb85nkR",
        "outputId": "03343d41-dd75-421c-bd56-938e2749b02a"
      },
      "execution_count": 196,
      "outputs": [
        {
          "output_type": "stream",
          "name": "stdout",
          "text": [
            "['a', 'z', 'c']\n"
          ]
        }
      ]
    },
    {
      "cell_type": "code",
      "source": [
        "print(x)"
      ],
      "metadata": {
        "colab": {
          "base_uri": "https://localhost:8080/"
        },
        "id": "G2ESu74L52FQ",
        "outputId": "07463b13-3cca-4ede-e41b-bc429dbc5ec6"
      },
      "execution_count": 197,
      "outputs": [
        {
          "output_type": "stream",
          "name": "stdout",
          "text": [
            "['a', 'z', 'c']\n"
          ]
        }
      ]
    },
    {
      "cell_type": "code",
      "source": [
        "# Para criar uma cópia de da lista que está na variável \"x\" é possível utilizar os seguintes comandos:\n",
        "x = [\"a\",\"b\",\"c\"]\n",
        "y = list(x)\n",
        "print(y)"
      ],
      "metadata": {
        "colab": {
          "base_uri": "https://localhost:8080/"
        },
        "id": "wQOHE-P96FsQ",
        "outputId": "7100745b-378e-453e-faa2-0f8116dcd4f5"
      },
      "execution_count": 198,
      "outputs": [
        {
          "output_type": "stream",
          "name": "stdout",
          "text": [
            "['a', 'b', 'c']\n"
          ]
        }
      ]
    },
    {
      "cell_type": "code",
      "source": [
        "# ou\n",
        "y = x[:]\n",
        "print(y)"
      ],
      "metadata": {
        "colab": {
          "base_uri": "https://localhost:8080/"
        },
        "id": "CgkVGw1l6eHw",
        "outputId": "9cdc6dc5-eb47-4618-c879-ab10b93eb5d9"
      },
      "execution_count": 199,
      "outputs": [
        {
          "output_type": "stream",
          "name": "stdout",
          "text": [
            "['a', 'b', 'c']\n"
          ]
        }
      ]
    },
    {
      "cell_type": "code",
      "source": [
        "y[1] = \"z\"\n",
        "# Nesses casos, a variável \"y\", que recebe a cópia do valor de x, ou seja, a lista, é distinta da varíavel \"x\", portanto, o que acontece com uma variável se limita apenas a mesma, não afetando a outra outra varível.\n",
        "print(y)\n",
        "print(x)"
      ],
      "metadata": {
        "colab": {
          "base_uri": "https://localhost:8080/"
        },
        "id": "gj35OmPP6mGo",
        "outputId": "331c1b9a-60d6-49ba-a6aa-01f2a856498d"
      },
      "execution_count": 200,
      "outputs": [
        {
          "output_type": "stream",
          "name": "stdout",
          "text": [
            "['a', 'z', 'c']\n",
            "['a', 'b', 'c']\n"
          ]
        }
      ]
    },
    {
      "cell_type": "code",
      "source": [
        "# Motificando o nono elemento da lista \"áreas\" e atribuindo-o um novo valor.\n",
        "áreas = ['hallway', 14.0, 'kitchen', 18.0, 'living room', 20.0, 'bedroom', 10.75, 'bathroom', 9.5]\n",
        "áreas[9] = 10.50\n",
        "print(áreas)"
      ],
      "metadata": {
        "id": "P4afE8WR7QR3",
        "colab": {
          "base_uri": "https://localhost:8080/"
        },
        "outputId": "0283600d-e6ad-4176-d5b7-59df0f798d8a"
      },
      "execution_count": 211,
      "outputs": [
        {
          "output_type": "stream",
          "name": "stdout",
          "text": [
            "['hallway', 14.0, 'kitchen', 18.0, 'living room', 20.0, 'bedroom', 10.75, 'bathroom', 10.5]\n"
          ]
        }
      ]
    },
    {
      "cell_type": "code",
      "source": [
        "# Motificando a string \"living room\" para \"chill zone\".\n",
        "áreas[4] = 'chill zone'\n",
        "print(áreas)"
      ],
      "metadata": {
        "colab": {
          "base_uri": "https://localhost:8080/"
        },
        "id": "HBmSm6jR6Pxv",
        "outputId": "042bd4d1-a1d8-4b3f-95a7-cd308f8cf526"
      },
      "execution_count": 212,
      "outputs": [
        {
          "output_type": "stream",
          "name": "stdout",
          "text": [
            "['hallway', 14.0, 'kitchen', 18.0, 'chill zone', 20.0, 'bedroom', 10.75, 'bathroom', 10.5]\n"
          ]
        }
      ]
    },
    {
      "cell_type": "code",
      "source": [
        "# Adicionando novos elementos em uma lista já existente e, criando uma nova lista com a lista modificada.\n",
        "áreas + ['poolhouse', 24.5]\n",
        "áreas_1 = áreas + ['poolhouse', 24.5]\n",
        "print(áreas)\n",
        "print(áreas_1)"
      ],
      "metadata": {
        "colab": {
          "base_uri": "https://localhost:8080/"
        },
        "id": "Xr_dr5peB_rI",
        "outputId": "48afdc29-09ec-4572-db09-512348d277c9"
      },
      "execution_count": 219,
      "outputs": [
        {
          "output_type": "stream",
          "name": "stdout",
          "text": [
            "['hallway', 14.0, 'kitchen', 18.0, 'chill zone', 20.0, 'bedroom', 10.75, 'bathroom', 10.5]\n",
            "['hallway', 14.0, 'kitchen', 18.0, 'chill zone', 20.0, 'bedroom', 10.75, 'bathroom', 10.5, 'poolhouse', 24.5]\n"
          ]
        }
      ]
    },
    {
      "cell_type": "code",
      "source": [
        "# Adicionando novamente novos elementos a uma lista e, novamente, criando uma nova lista com a lista modificada.\n",
        "áreas_1 + ['garage', 15.5]\n",
        "áreas_2 = áreas_1 + ['garage', 15.5]\n",
        "print(áreas_1)\n",
        "print(áreas_2)"
      ],
      "metadata": {
        "colab": {
          "base_uri": "https://localhost:8080/"
        },
        "id": "kghGwOpPCamF",
        "outputId": "02269929-65d7-473f-8c74-30301449d120"
      },
      "execution_count": 220,
      "outputs": [
        {
          "output_type": "stream",
          "name": "stdout",
          "text": [
            "['hallway', 14.0, 'kitchen', 18.0, 'chill zone', 20.0, 'bedroom', 10.75, 'bathroom', 10.5, 'poolhouse', 24.5]\n",
            "['hallway', 14.0, 'kitchen', 18.0, 'chill zone', 20.0, 'bedroom', 10.75, 'bathroom', 10.5, 'poolhouse', 24.5, 'garage', 15.5]\n"
          ]
        }
      ]
    },
    {
      "cell_type": "code",
      "source": [
        "# Maneira errada de se criar uma cópia de uma lista. Nesse caso, a variável \"áreas_copy\" não cria uma cópia, mas sim é recebe em como valor a lista \"áreas\", tornando-se a mesma coisa.\n",
        "áreas = [11.25, 18.0, 20.0, 10.75, 9.5]\n",
        "áreas_copy = áreas\n",
        "áreas_copy[0] = 5.0\n",
        "print(áreas)"
      ],
      "metadata": {
        "colab": {
          "base_uri": "https://localhost:8080/"
        },
        "id": "FB8Z1fo8Fgxj",
        "outputId": "03d8dac7-c555-4039-8cc2-d736a1d29ba4"
      },
      "execution_count": 221,
      "outputs": [
        {
          "output_type": "stream",
          "name": "stdout",
          "text": [
            "[5.0, 18.0, 20.0, 10.75, 9.5]\n"
          ]
        }
      ]
    },
    {
      "cell_type": "code",
      "source": [
        "# Maneira correta de se criar uma cópia de uma lista. Nesse caso, é usado o comando que cria uma lista com o mesmo valor de outra, porém, não há qualquer vínculo com a lista copiada.\n",
        "áreas = [11.25, 18.0, 20.0, 10.75, 9.5]\n",
        "áreas_copy = list(áreas)\n",
        "áreas_copy[0] = 5.0\n",
        "print(áreas)\n",
        "print(áreas_copy)"
      ],
      "metadata": {
        "colab": {
          "base_uri": "https://localhost:8080/"
        },
        "id": "BHDA74ENGD3v",
        "outputId": "86ad51c7-ce13-4c36-f935-25b3a97e5bae"
      },
      "execution_count": 222,
      "outputs": [
        {
          "output_type": "stream",
          "name": "stdout",
          "text": [
            "[11.25, 18.0, 20.0, 10.75, 9.5]\n",
            "[5.0, 18.0, 20.0, 10.75, 9.5]\n"
          ]
        }
      ]
    }
  ]
}