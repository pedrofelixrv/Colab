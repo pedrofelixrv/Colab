{
  "nbformat": 4,
  "nbformat_minor": 0,
  "metadata": {
    "colab": {
      "provenance": [],
      "include_colab_link": true
    },
    "kernelspec": {
      "name": "python3",
      "display_name": "Python 3"
    },
    "language_info": {
      "name": "python"
    }
  },
  "cells": [
    {
      "cell_type": "markdown",
      "metadata": {
        "id": "view-in-github",
        "colab_type": "text"
      },
      "source": [
        "<a href=\"https://colab.research.google.com/github/pedrofelixrv/Colab/blob/main/ATIVIDADE_DE_CASA_1.ipynb\" target=\"_parent\"><img src=\"https://colab.research.google.com/assets/colab-badge.svg\" alt=\"Open In Colab\"/></a>"
      ]
    },
    {
      "cell_type": "markdown",
      "source": [
        "1) Elabore um código em que existe as variáveis : aluno, nota1, nota2,nota3, media. Neste código você deve escolher uma string para a variável aluno, float para cada nota. Pesquise o cálculo da média aritmética e aplique o resuldado do cálculo na variável media. Por fim, usando o comando print, mostre o nome do aluno ao lado de sua media. Use a função print para mostrar o tipo da variável aluno e tipo da variável media."
      ],
      "metadata": {
        "id": "hQZSWBJlsdAn"
      }
    },
    {
      "cell_type": "code",
      "source": [
        "#Resposta\n",
        "aluno = 'Pedro Vinicius'\n",
        "nota1 = 9.5\n",
        "nota2 = 7.0\n",
        "nota3 = 8.5\n",
        "media = (nota1 + nota2 + nota3) / 3\n",
        "#exibição da variável media\n",
        "print(media) \n",
        "#exibição do tipo da variavel aluno\n",
        "print(type(aluno))\n",
        "#exibição do tipo da variavel media\n",
        "print(type(media))"
      ],
      "metadata": {
        "id": "0oJOVsXEsqvW",
        "colab": {
          "base_uri": "https://localhost:8080/"
        },
        "outputId": "0428499d-765c-4714-8855-84164bd16da0"
      },
      "execution_count": null,
      "outputs": [
        {
          "output_type": "stream",
          "name": "stdout",
          "text": [
            "8.333333333333334\n",
            "<class 'str'>\n",
            "<class 'float'>\n"
          ]
        }
      ]
    },
    {
      "cell_type": "markdown",
      "source": [
        "2) Elabore um código que realiza a concatenção de strings para formar um nome. Ao fim, exiba, através do comando print, o nome concatenado (nome_completo). "
      ],
      "metadata": {
        "id": "MQNGFrLrt59F"
      }
    },
    {
      "cell_type": "code",
      "source": [
        "#RESPOSTA\n",
        "nome = 'Pedro'\n",
        "sobrenome = 'Vinicius'\n",
        "nome_completo = nome + sobrenome\n",
        "#exibição do nome concatenado\n",
        "print(nome_completo)\n"
      ],
      "metadata": {
        "id": "agNgURZovQAO",
        "colab": {
          "base_uri": "https://localhost:8080/"
        },
        "outputId": "2e4cfcff-60cc-4dd1-a56d-bb3b9732d84d"
      },
      "execution_count": null,
      "outputs": [
        {
          "output_type": "stream",
          "name": "stdout",
          "text": [
            "PedroVinicius\n"
          ]
        }
      ]
    },
    {
      "cell_type": "markdown",
      "source": [
        "3) Elabore um código em que seja criada uma lista de alimentos em forma de string. Nesta lista você deve escolher  10 alimentos.\n",
        "* a) realize o print do último alimento usando index negativo\n",
        "* b) realize o print do quarto elemento da lista\n",
        "* c) realize o print dos 5 primeiros elementos da lista\n",
        "* d) realize o print do 3 ultimos elementos da lista\n",
        "* e) realize o print do terceiro até o sétimo elemento da lista\n"
      ],
      "metadata": {
        "id": "Jvb8nt2-vkyk"
      }
    },
    {
      "cell_type": "code",
      "source": [
        "#Resposta\n",
        "lista_de_alimentos = ['arroz', 'feijão', 'macarrão', 'picanha', 'linguiça', 'frango', 'tomate', 'alface', 'cebola', 'suco de laranja']\n",
        "#item a\n",
        "print(lista_de_alimentos[-1])\n",
        "#item b\n",
        "print(lista_de_alimentos[3])\n",
        "#item c\n",
        "print(lista_de_alimentos[:5])\n",
        "#item d\n",
        "print(lista_de_alimentos[7:])\n",
        "#item e\n",
        "print(lista_de_alimentos[3:8])"
      ],
      "metadata": {
        "id": "Ej916hE4x3vr",
        "colab": {
          "base_uri": "https://localhost:8080/"
        },
        "outputId": "7e51a91d-b361-4248-93a4-9a9889712479"
      },
      "execution_count": null,
      "outputs": [
        {
          "output_type": "stream",
          "name": "stdout",
          "text": [
            "suco de laranja\n",
            "linguiça\n",
            "['arroz', 'feijão', 'macarrão', 'picanha', 'linguiça']\n",
            "['alface', 'cebola', 'suco de laranja']\n",
            "['picanha', 'linguiça', 'frango', 'tomate', 'alface']\n"
          ]
        }
      ]
    },
    {
      "cell_type": "markdown",
      "source": [
        "4) Adapte a lista de alimentos criada na questão 3 para incluir o preço da cada alimento. Após cada string você deve incluir um valor numérico que representa o preço do alimento\n",
        "* a) Crie uma variavel `gasto_total` que recebe a soma de todos os preços, acessando a lista pelos indexes.\n",
        "* b) mostre via print o valor da variável `gasto_total`\n",
        "* c) crie uma nova lista chamada `alimentos_mais_caros` que contem os 3 alimentos mais caros. Nessa lista deve conter os alimentos com valor ao lado. a inclusão dos elementos na lista deve ser via index. Ex: `lista_nova = [lista_antiga[2],lista_antiga[3]...]`\n",
        "* d) mostre via print a lista `alimentos_mais_caros`"
      ],
      "metadata": {
        "id": "VBEp3lBnyQyt"
      }
    },
    {
      "cell_type": "code",
      "source": [
        "#resposta\n",
        "lista_de_alimentos_com_preco = ['arroz', 7.0,\n",
        "                                'feijão', 10.0,\n",
        "                                'macarrão', 5.0,\n",
        "                                'picanha', 70.0,\n",
        "                                'linguiça', 25.0,\n",
        "                                'frango', 30.0,\n",
        "                                'tomate', 3.50,\n",
        "                                'alface', 5.0,\n",
        "                                'cebola', 3.0,\n",
        "                                'suco de laranja', 6.0]\n",
        "#item a\n",
        "gasto_total = lista_de_alimentos_com_preco[1] + lista_de_alimentos_com_preco[3] + lista_de_alimentos_com_preco[5] + lista_de_alimentos_com_preco[7] + lista_de_alimentos_com_preco[9] + lista_de_alimentos_com_preco[11] + lista_de_alimentos_com_preco[13] + lista_de_alimentos_com_preco[15] + lista_de_alimentos_com_preco[17] + lista_de_alimentos_com_preco[19]\n",
        "#item b\n",
        "print(gasto_total)\n",
        "#item c\n",
        "alimentos_mais_caros = lista_de_alimentos_com_preco[6:8], lista_de_alimentos_com_preco[10:12] + lista_de_alimentos_com_preco[8:10]\n",
        "#item d\n",
        "print(alimentos_mais_caros)"
      ],
      "metadata": {
        "id": "UA1X8iq71Die",
        "colab": {
          "base_uri": "https://localhost:8080/"
        },
        "outputId": "ce7e9aa6-cfc7-4851-b945-91e13cea16ee"
      },
      "execution_count": null,
      "outputs": [
        {
          "output_type": "stream",
          "name": "stdout",
          "text": [
            "164.5\n",
            "(['picanha', 70.0], ['frango', 30.0, 'linguiça', 25.0])\n"
          ]
        }
      ]
    },
    {
      "cell_type": "markdown",
      "source": [
        "5) Adpate a lista de alimentos criada na questão 4. Agora a estrutura deve ser uma lista de listas. cada elemento com preço deve ser um lista, ou seja, a lista de alimentos deve conter 5 listas, em que cada lista possui um alimento e seu preço.\n",
        "* a) Crie uma variável `lista3` para armazenar a terceira lista contida na lista de alimentos. \n",
        "* b) Exiba a variável `lista3` \n",
        "* c) Crie uma variável `lista2a4` para armazenar da segunda até a quarta lista contida na lista de alimentos.\n",
        "* d) Acessando os indexes da lista de alimentos no modo exemplo `lista[id1][id2]` realize os prints:\n",
        "** d1) do preço do terceiro alimento da lista\n",
        "** d2) do alimento da quarta lista\n",
        "** d3) do preço do quinto elemento da lista\n",
        "** d4) do alimento da primeira lista."
      ],
      "metadata": {
        "id": "nqp01e8g16FG"
      }
    },
    {
      "cell_type": "code",
      "source": [
        "#resposta\n",
        "lista_de_alimentos_adaptada = [['arroz', 7.0],\n",
        "                                ['feijão', 10.0],\n",
        "                                ['macarrão', 5.0],\n",
        "                                ['picanha', 70.0],\n",
        "                                ['linguiça', 25.0],\n",
        "                                ['frango', 30.0],\n",
        "                                ['tomate', 3.50],\n",
        "                                ['alface', 5.0],\n",
        "                                ['cebola', 3.0],\n",
        "                                ['suco de laranja', 6.0]]\n",
        "#item a\n",
        "lista3 = lista_de_alimentos_adaptada[2]\n",
        "#item b\n",
        "print(lista3)\n",
        "#item c\n",
        "lista2a4 = lista_de_alimentos_adaptada[1:4]\n",
        "#item d1\n",
        "print(lista_de_alimentos_adaptada[2][1])\n",
        "#item d2\n",
        "print(lista_de_alimentos_adaptada[3][0])\n",
        "#item d3\n",
        "print(lista_de_alimentos_adaptada[5][1])\n",
        "#item d4\n",
        "print(lista_de_alimentos_adaptada[0][0])"
      ],
      "metadata": {
        "id": "XTOqNZ1a4s-H",
        "colab": {
          "base_uri": "https://localhost:8080/"
        },
        "outputId": "3752020e-0591-4c24-c194-ab17ef95bde2"
      },
      "execution_count": null,
      "outputs": [
        {
          "output_type": "stream",
          "name": "stdout",
          "text": [
            "['macarrão', 5.0]\n",
            "5.0\n",
            "picanha\n",
            "30.0\n",
            "arroz\n"
          ]
        }
      ]
    }
  ]
}